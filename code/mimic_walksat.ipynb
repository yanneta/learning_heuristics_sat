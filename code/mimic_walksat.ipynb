{
 "cells": [
  {
   "cell_type": "code",
   "execution_count": 1,
   "id": "4600d017",
   "metadata": {},
   "outputs": [],
   "source": [
    "import os\n",
    "from cnf import CNF\n",
    "import numpy as np"
   ]
  },
  {
   "cell_type": "code",
   "execution_count": 2,
   "id": "02c3202b",
   "metadata": {},
   "outputs": [],
   "source": [
    "import random\n",
    "import torch\n",
    "import torch.nn as nn\n",
    "import torch.nn.functional as F\n",
    "import torch.optim as optim\n",
    "from torch.distributions import Categorical"
   ]
  },
  {
   "cell_type": "code",
   "execution_count": 33,
   "id": "82d58168",
   "metadata": {},
   "outputs": [],
   "source": [
    "from local_search import WalkSATLN\n",
    "from warm_up import WarmUP"
   ]
  },
  {
   "cell_type": "code",
   "execution_count": 34,
   "id": "9317f3fc",
   "metadata": {},
   "outputs": [],
   "source": [
    "class Net(nn.Module):\n",
    "    def __init__(self, h=5):\n",
    "        super(Net, self).__init__()\n",
    "        self.lin = nn.Linear(4, h)\n",
    "        self.dropout = nn.Dropout(0.5)\n",
    "        self.lin2 = nn.Linear(h, 1)\n",
    "    def forward(self, x):\n",
    "        x = self.lin(x)\n",
    "        x = F.relu(self.dropout(x))\n",
    "        x = self.lin2(x)\n",
    "        return x"
   ]
  },
  {
   "cell_type": "code",
   "execution_count": 35,
   "id": "9275b732",
   "metadata": {},
   "outputs": [],
   "source": [
    "class Net2(nn.Module):\n",
    "    def __init__(self):\n",
    "        super(Net2, self).__init__()\n",
    "        self.lin = nn.Linear(4, 1)\n",
    "    def forward(self, x):\n",
    "        x = self.lin(x)\n",
    "        return x"
   ]
  },
  {
   "cell_type": "code",
   "execution_count": 36,
   "id": "2f8c8dfa",
   "metadata": {},
   "outputs": [],
   "source": [
    "def load_dir(path):\n",
    "    data = []\n",
    "    for filename in os.listdir(path):\n",
    "        name, ext = os.path.splitext(filename)\n",
    "        if ext != '.cnf':\n",
    "            continue\n",
    "        f = CNF.from_file(os.path.join(path, filename))\n",
    "        data.append(f)\n",
    "    return data"
   ]
  },
  {
   "cell_type": "code",
   "execution_count": 37,
   "id": "dd78644f",
   "metadata": {},
   "outputs": [],
   "source": [
    "def split_data(data):\n",
    "    train_ds = data[:1500]\n",
    "    val_ds = data[1500:1700]\n",
    "    test_ds = data[1700:]\n",
    "    return train_ds, val_ds, test_ds"
   ]
  },
  {
   "cell_type": "code",
   "execution_count": 38,
   "id": "b9c082d2",
   "metadata": {},
   "outputs": [],
   "source": [
    "data = load_dir(\"../data/rand3sat/25-106\")\n",
    "train_ds, val_ds, test_ds = split_data(data)"
   ]
  },
  {
   "cell_type": "code",
   "execution_count": 39,
   "id": "d5c035a6",
   "metadata": {},
   "outputs": [],
   "source": [
    "policy = Net(10)\n",
    "optimizer = optim.RMSprop(policy.parameters(), lr=0.001, weight_decay=1e-5)\n",
    "max_flips = 10000"
   ]
  },
  {
   "cell_type": "code",
   "execution_count": 19,
   "id": "a570437e",
   "metadata": {},
   "outputs": [],
   "source": [
    "ls = WalkSATLN(policy, 10, 10000)\n",
    "flips, backflips,  loss, accuracy = ls.evaluate(val_ds, walksat=True)"
   ]
  },
  {
   "cell_type": "code",
   "execution_count": 20,
   "id": "69ac12f7",
   "metadata": {},
   "outputs": [
    {
     "data": {
      "text/plain": [
       "(66.0, 148.3915)"
      ]
     },
     "execution_count": 20,
     "metadata": {},
     "output_type": "execute_result"
    }
   ],
   "source": [
    "np.median(flips), np.mean(flips)"
   ]
  },
  {
   "cell_type": "code",
   "execution_count": 21,
   "id": "c8ed1eae",
   "metadata": {},
   "outputs": [
    {
     "data": {
      "text/plain": [
       "(302.0, 798.296)"
      ]
     },
     "execution_count": 21,
     "metadata": {},
     "output_type": "execute_result"
    }
   ],
   "source": [
    "ls = WalkSATLN(policy, 10, 10000)\n",
    "flips, backflips,  loss, accuracy = ls.evaluate(val_ds)\n",
    "np.median(flips), np.mean(flips)"
   ]
  },
  {
   "cell_type": "code",
   "execution_count": null,
   "id": "9e9a7697",
   "metadata": {},
   "outputs": [],
   "source": [
    "data = load_dir(\"../data/rand3sat/25-106\")\n",
    "train_ds, val_ds, test_ds = split_data(data)"
   ]
  },
  {
   "cell_type": "code",
   "execution_count": 31,
   "id": "e71fc0b2",
   "metadata": {},
   "outputs": [],
   "source": [
    "wup = WarmUP(policy, max_flips=1000)"
   ]
  },
  {
   "cell_type": "code",
   "execution_count": 23,
   "id": "634715f8",
   "metadata": {},
   "outputs": [
    {
     "name": "stdout",
     "output_type": "stream",
     "text": [
      "0.6879837957272927\n",
      "0.5716830270042023\n",
      "0.5282477676523849\n",
      "0.5202376209789267\n",
      "0.5107719466562073\n"
     ]
    }
   ],
   "source": [
    "for i in range(5):\n",
    "    wup.train_epoch(optimizer, train_ds)"
   ]
  },
  {
   "cell_type": "code",
   "execution_count": 24,
   "id": "c2ab11c9",
   "metadata": {},
   "outputs": [],
   "source": [
    "torch.save(policy.state_dict(), \"walksat_Net.pt\")"
   ]
  },
  {
   "cell_type": "code",
   "execution_count": 25,
   "id": "c7020f98",
   "metadata": {},
   "outputs": [
    {
     "data": {
      "text/plain": [
       "(71.0, 143.944)"
      ]
     },
     "execution_count": 25,
     "metadata": {},
     "output_type": "execute_result"
    }
   ],
   "source": [
    "ls = WalkSATLN(policy, 10, 10000)\n",
    "flips, backflips,  loss, accuracy = ls.evaluate(val_ds)\n",
    "np.median(flips), np.mean(flips)"
   ]
  },
  {
   "cell_type": "code",
   "execution_count": 29,
   "id": "4f7ab5bb",
   "metadata": {},
   "outputs": [
    {
     "data": {
      "text/plain": [
       "array([1.28738e+00, 7.37441e+00, 5.11266e+00, 2.54323e+00, 9.75490e-01,\n",
       "       2.90400e-01, 7.04200e-02, 1.41300e-02, 2.52000e-03, 3.70000e-04,\n",
       "       4.00000e-05, 0.00000e+00, 0.00000e+00, 0.00000e+00, 0.00000e+00])"
      ]
     },
     "execution_count": 29,
     "metadata": {},
     "output_type": "execute_result"
    }
   ],
   "source": [
    "wup.break_histo[:15]/1e+5"
   ]
  },
  {
   "cell_type": "code",
   "execution_count": null,
   "id": "549bd23f",
   "metadata": {},
   "outputs": [],
   "source": []
  }
 ],
 "metadata": {
  "kernelspec": {
   "display_name": "Python 3 (ipykernel)",
   "language": "python",
   "name": "python3"
  },
  "language_info": {
   "codemirror_mode": {
    "name": "ipython",
    "version": 3
   },
   "file_extension": ".py",
   "mimetype": "text/x-python",
   "name": "python",
   "nbconvert_exporter": "python",
   "pygments_lexer": "ipython3",
   "version": "3.8.13"
  }
 },
 "nbformat": 4,
 "nbformat_minor": 5
}
