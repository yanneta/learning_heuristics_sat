{
 "cells": [
  {
   "cell_type": "code",
   "execution_count": 1,
   "id": "4600d017",
   "metadata": {},
   "outputs": [],
   "source": [
    "import os\n",
    "from cnf import CNF\n",
    "import numpy as np"
   ]
  },
  {
   "cell_type": "code",
   "execution_count": 2,
   "id": "02c3202b",
   "metadata": {},
   "outputs": [],
   "source": [
    "import random\n",
    "import torch\n",
    "import torch.nn as nn\n",
    "import torch.nn.functional as F\n",
    "import torch.optim as optim\n",
    "from torch.distributions import Categorical"
   ]
  },
  {
   "cell_type": "code",
   "execution_count": 3,
   "id": "9317f3fc",
   "metadata": {},
   "outputs": [],
   "source": [
    "class Net(nn.Module):\n",
    "    def __init__(self, h=5):\n",
    "        super(Net, self).__init__()\n",
    "        self.lin = nn.Linear(3, h)\n",
    "        #self.lin.weight.data.uniform_(0,0.01)\n",
    "        #self.lin.bias.data.uniform_(0,0.001)\n",
    "        self.dropout = nn.Dropout(0.5)\n",
    "        self.lin2 = nn.Linear(h, 1)\n",
    "    def forward(self, x):\n",
    "        x = self.lin(x)\n",
    "        x = F.relu(self.dropout(x))\n",
    "        x = self.lin2(x)\n",
    "        return x"
   ]
  },
  {
   "cell_type": "code",
   "execution_count": 4,
   "id": "f26123da",
   "metadata": {},
   "outputs": [],
   "source": [
    "class Net2(nn.Module):\n",
    "    def __init__(self):\n",
    "        super(Net2, self).__init__()\n",
    "        self.lin = nn.Linear(3, 1)\n",
    "        self.lin.weight.data.uniform_(0,0.01)\n",
    "    def forward(self, x):\n",
    "        x = self.lin(x)\n",
    "        return x"
   ]
  },
  {
   "cell_type": "code",
   "execution_count": 5,
   "id": "2f8c8dfa",
   "metadata": {},
   "outputs": [],
   "source": [
    "def load_dir(path):\n",
    "    data = []\n",
    "    for filename in os.listdir(path):\n",
    "        name, ext = os.path.splitext(filename)\n",
    "        if ext != '.cnf':\n",
    "            continue\n",
    "        f = CNF.from_file(os.path.join(path, filename))\n",
    "        data.append(f)\n",
    "    return data"
   ]
  },
  {
   "cell_type": "code",
   "execution_count": 7,
   "id": "ae962f21",
   "metadata": {},
   "outputs": [],
   "source": [
    "def select_variable_reinforce(x, policy):\n",
    "    logit = policy(x)\n",
    "    prob = F.softmax(logit, dim=0)\n",
    "    dist = Categorical(prob.view(-1))\n",
    "    v = dist.sample()\n",
    "    return v, dist.log_prob(v)"
   ]
  },
  {
   "cell_type": "code",
   "execution_count": 8,
   "id": "aa233370",
   "metadata": {},
   "outputs": [],
   "source": [
    "def compute_true_lit_count(clauses, sol):\n",
    "    n_clauses = len(clauses)\n",
    "    true_lit_count = [0] * n_clauses\n",
    "    for i in range(n_clauses):\n",
    "        for lit in clauses[i]:\n",
    "            if sol[abs(lit)] == lit:\n",
    "                true_lit_count[i] += 1\n",
    "    return true_lit_count"
   ]
  },
  {
   "cell_type": "code",
   "execution_count": 9,
   "id": "d4c9ad0f",
   "metadata": {},
   "outputs": [],
   "source": [
    "def do_flip(sol, true_lit_count, v, occur_list):\n",
    "    sol[v] *= -1\n",
    "    literal = sol[v]\n",
    "    for i in occur_list[literal]:\n",
    "        true_lit_count[i] += 1\n",
    "    for i in occur_list[-literal]:\n",
    "        true_lit_count[i] -= 1"
   ]
  },
  {
   "cell_type": "code",
   "execution_count": 10,
   "id": "2d275a7b",
   "metadata": {},
   "outputs": [],
   "source": [
    "# this needs to be more efficient\n",
    "# consider a subset of the unsat clauses\n",
    "def stats_per_clause(f, sol, last_10, true_lit_count, unsat_clause):\n",
    "    \"\"\" computes the featutes needed for the model\n",
    "    \"\"\"\n",
    "    r = f.n_variables/ len(f.clauses)\n",
    "    variables = [abs(v) for v in unsat_clause]\n",
    "    breaks = np.zeros(len(variables))\n",
    "    last_5 = last_10[:5]\n",
    "    for i, v in enumerate(variables):\n",
    "        broken_count = 0\n",
    "        literal = sol[v]\n",
    "        for index in f.occur_list[-literal]:\n",
    "            if true_lit_count[index] == 1:\n",
    "                broken_count += 1\n",
    "        breaks[i] = r*broken_count\n",
    "    in_last_10 = np.array([int(i + 1 in last_10) for i in variables]) \n",
    "    in_last_5 = np.array([int(i + 1 in last_5) for i in variables]) \n",
    "    return np.stack([breaks, in_last_10, in_last_5], axis=1), np.array(variables)"
   ]
  },
  {
   "cell_type": "code",
   "execution_count": 32,
   "id": "6d47472e",
   "metadata": {},
   "outputs": [],
   "source": [
    "def walksat_step(f, true_lit_count, unsat_clause):\n",
    "    broken_min = float('inf')\n",
    "    min_breaking_lits = []\n",
    "    for literal in unsat_clause:\n",
    "        broken_count = 0\n",
    "        for index in f.occur_list[-literal]:\n",
    "            if true_lit_count[index] == 1:\n",
    "                broken_count += 1\n",
    "            if broken_count > broken_min:\n",
    "                break\n",
    "        if broken_count < broken_min:\n",
    "            broken_min = broken_count\n",
    "            min_breaking_lits = [literal]\n",
    "        elif broken_count == broken_min:\n",
    "            min_breaking_lits.append(literal)\n",
    "    return abs(random.choice(min_breaking_lits))"
   ]
  },
  {
   "cell_type": "code",
   "execution_count": 12,
   "id": "a9a64a1a",
   "metadata": {},
   "outputs": [],
   "source": [
    "def reinforce_step(f, policy, sol, last_10, true_lit_count, unsat_clause):\n",
    "    x, variables = stats_per_clause(f, sol, last_10, true_lit_count, unsat_clause)\n",
    "    x = torch.from_numpy(x).float()\n",
    "    index, log_prob = select_variable_reinforce(x, policy)\n",
    "    v = variables[index]\n",
    "    return v.item(), log_prob, last_10"
   ]
  },
  {
   "cell_type": "code",
   "execution_count": 13,
   "id": "5c3b8b01",
   "metadata": {},
   "outputs": [],
   "source": [
    "def generate_episode_reinforce(f, policy, max_flips, walk_prob=0.5, walksat=False):\n",
    "    sol = [x if random.random() < 0.5 else -x for x in range(f.n_variables + 1)]\n",
    "    true_lit_count = compute_true_lit_count(f.clauses, sol)\n",
    "    log_probs = []\n",
    "    flips = 0\n",
    "    flipped = set()\n",
    "    backflipped = 0\n",
    "    unsat_clauses = []\n",
    "    last_10 = [0]*10\n",
    "    last_5 = []\n",
    "    while flips < max_flips:\n",
    "        unsat_clause_indices = [k for k in range(len(f.clauses)) if true_lit_count[k] == 0]\n",
    "        unsat_clauses.append(len(unsat_clause_indices))\n",
    "        sat = not unsat_clause_indices\n",
    "        if sat:\n",
    "            break\n",
    "        unsat_clause = f.clauses[random.choice(unsat_clause_indices)]\n",
    "        if random.random() < walk_prob:\n",
    "            v, log_prob = abs(random.choice(unsat_clause)), None\n",
    "        else:\n",
    "            if walksat:\n",
    "                v = walksat_step(f, true_lit_count, unsat_clause)\n",
    "                log_prob = None\n",
    "            else:\n",
    "                v, log_prob, last_10 = reinforce_step(f, policy, sol, last_10, true_lit_count, unsat_clause)\n",
    "            \n",
    "            if v not in flipped:\n",
    "                flipped.add(v)\n",
    "                last_10.insert(0, v)\n",
    "                last_10 = last_10[:10]\n",
    "            else:\n",
    "                backflipped += 1\n",
    "        do_flip(sol, true_lit_count, v, f.occur_list)\n",
    "        flips += 1\n",
    "        log_probs.append(log_prob)\n",
    "    return sat, (flips, backflipped, unsat_clauses), (log_probs,)"
   ]
  },
  {
   "cell_type": "code",
   "execution_count": 14,
   "id": "287bfc44",
   "metadata": {},
   "outputs": [],
   "source": [
    "def reinforce_loss(history, discount):\n",
    "    log_probs_list = history[0]\n",
    "    T = len(log_probs_list)\n",
    "    log_probs_filtered = []\n",
    "    mask = np.zeros(T, dtype=bool)\n",
    "    for i, x in enumerate(log_probs_list):\n",
    "        if x is not None:\n",
    "            log_probs_filtered.append(x)\n",
    "            mask[i] = 1\n",
    "\n",
    "    log_probs = torch.stack(log_probs_filtered)\n",
    "    partial_rewards = discount ** torch.arange(T - 1, -1, -1, dtype=torch.float32, device=log_probs.device)\n",
    "    return -torch.mean(partial_rewards[torch.from_numpy(mask).to(log_probs.device)] * log_probs)"
   ]
  },
  {
   "cell_type": "code",
   "execution_count": 33,
   "id": "8a6edb3a",
   "metadata": {},
   "outputs": [],
   "source": [
    "def generate_episodes(policy, f, max_fries, max_flips, discount, walk_prob, walksat):\n",
    "    flips_stats = []\n",
    "    losses = []\n",
    "    backflips = []\n",
    "    num_sols = 0\n",
    "    for i in range(max_tries):\n",
    "        out = generate_episode_reinforce(f, policy, max_flips, walk_prob, walksat)\n",
    "        sat, (flips, backflipped, unsat_clauses), history = out\n",
    "        if not sat:\n",
    "            break\n",
    "    \n",
    "        flips_stats.append(flips)\n",
    "        backflips.append(backflipped)\n",
    "        if sat and flips > 0 and not all(map(lambda x: x is None, history[0])):\n",
    "            loss = reinforce_loss(history, discount)\n",
    "            losses.append(loss)\n",
    "        num_sols += sat    \n",
    "    if losses:\n",
    "        losses = torch.stack(losses).sum()  \n",
    "    return np.mean(flips), np.mean(backflips), losses, num_sols/max_tries"
   ]
  },
  {
   "cell_type": "code",
   "execution_count": 16,
   "id": "a17e70bf",
   "metadata": {},
   "outputs": [],
   "source": [
    "def evaluate(policy, data, max_tries, max_flips, discount, walk_prob=.5, walksat=False):\n",
    "    mean_flips = []\n",
    "    mean_backflips = []\n",
    "    mean_losses = []\n",
    "    accuracy = []\n",
    "    policy.eval()\n",
    "    for f in data:\n",
    "        flips, backflips, losses, acc = generate_episodes(policy, f, max_tries, max_flips, discount,\n",
    "                                                          walk_prob, walksat)\n",
    "        mean_flips.append(flips)\n",
    "        mean_backflips.append(backflips)\n",
    "        if losses:\n",
    "            mean_losses.append(losses.item())\n",
    "        accuracy.append(acc)\n",
    "        mean_loss = None\n",
    "        if mean_losses:\n",
    "            mean_loss = np.mean(mean_losses)\n",
    "    print(np.mean(mean_flips), np.mean(mean_backflips), mean_loss, np.mean(accuracy))"
   ]
  },
  {
   "cell_type": "code",
   "execution_count": 17,
   "id": "73d7b078",
   "metadata": {},
   "outputs": [],
   "source": [
    "def train_epoch(policy, optimizer, data, max_tries = 10, max_flips = 10000, discount = 0.5, walk_prob=.5):\n",
    "    losses = []\n",
    "    for f in data:\n",
    "        policy.train()\n",
    "        flips, backflips, loss, acc = generate_episodes(\n",
    "            policy, f, max_tries, max_flips, discount, walk_prob, False)\n",
    "        if acc > 0:\n",
    "            optimizer.zero_grad()\n",
    "            loss.backward()\n",
    "            optimizer.step()\n",
    "            losses.append(loss.item())\n",
    "    print(np.mean(losses))"
   ]
  },
  {
   "cell_type": "code",
   "execution_count": 18,
   "id": "2ecb0763",
   "metadata": {},
   "outputs": [],
   "source": [
    "def change_lr(optimizer, lr):\n",
    "    for g in optimizer.param_groups:\n",
    "        g['lr'] = lr"
   ]
  },
  {
   "cell_type": "code",
   "execution_count": 19,
   "id": "29037f2a",
   "metadata": {},
   "outputs": [],
   "source": [
    "train_ds = load_dir(\"../data/rand3sat/10-43\")\n",
    "#val_ds = load_dir(\"../data/rand3sat/25-106\")"
   ]
  },
  {
   "cell_type": "code",
   "execution_count": 34,
   "id": "f5ae3603",
   "metadata": {},
   "outputs": [
    {
     "data": {
      "text/plain": [
       "(1900, 100)"
      ]
     },
     "execution_count": 34,
     "metadata": {},
     "output_type": "execute_result"
    }
   ],
   "source": [
    "train_ds = load_dir(\"../data/rand3sat/25-106\")\n",
    "#val_ds = load_dir(\"../data/rand3sat/25-106\")\n",
    "val_ds = train_ds[1900:]\n",
    "train_ds = train_ds[:1900]\n",
    "len(train_ds), len(val_ds)"
   ]
  },
  {
   "cell_type": "code",
   "execution_count": 35,
   "id": "d5c035a6",
   "metadata": {},
   "outputs": [],
   "source": [
    "policy = Net2()\n",
    "optimizer = optim.RMSprop(policy.parameters(), lr=0.01, weight_decay=1e-5)\n",
    "max_tries = 10\n",
    "max_flips = 5000"
   ]
  },
  {
   "cell_type": "code",
   "execution_count": 36,
   "id": "53244e50",
   "metadata": {},
   "outputs": [
    {
     "data": {
      "text/plain": [
       "[Parameter containing:\n",
       " tensor([[0.0020, 0.0013, 0.0015]], requires_grad=True),\n",
       " Parameter containing:\n",
       " tensor([-0.2595], requires_grad=True)]"
      ]
     },
     "execution_count": 36,
     "metadata": {},
     "output_type": "execute_result"
    }
   ],
   "source": [
    "[p for p in policy.parameters()]"
   ]
  },
  {
   "cell_type": "code",
   "execution_count": 38,
   "id": "fa6f00e9",
   "metadata": {},
   "outputs": [
    {
     "name": "stdout",
     "output_type": "stream",
     "text": [
      "166.89 56.906000000000006 None 1.0\n",
      "120.09 61.41700000000001 None 1.0\n",
      "165.27 57.89099999999999 None 0.991\n"
     ]
    }
   ],
   "source": [
    "for i in range(3):\n",
    "    evaluate(policy, val_ds , max_tries, max_flips, 0.5, 0.5, walksat=True)"
   ]
  },
  {
   "cell_type": "code",
   "execution_count": 39,
   "id": "46510428",
   "metadata": {},
   "outputs": [
    {
     "name": "stdout",
     "output_type": "stream",
     "text": [
      "0.15791762596811168\n"
     ]
    }
   ],
   "source": [
    "train_epoch(policy, optimizer, train_ds[:500], walk_prob=.5)"
   ]
  },
  {
   "cell_type": "code",
   "execution_count": 40,
   "id": "ad383189",
   "metadata": {},
   "outputs": [
    {
     "name": "stdout",
     "output_type": "stream",
     "text": [
      "1113.49 nan 0.15726137651009342 0.899\n",
      "1068.56 nan 0.14090308888464897 0.9109999999999999\n",
      "1028.02 nan 0.14800599689046928 0.9109999999999999\n"
     ]
    }
   ],
   "source": [
    "for i in range(3):\n",
    "    evaluate(policy, val_ds , max_tries, max_flips, 0.5, 0.5)"
   ]
  },
  {
   "cell_type": "code",
   "execution_count": null,
   "id": "50f30378",
   "metadata": {},
   "outputs": [],
   "source": [
    "train_epoch(policy, optimizer, train_ds[1000:1900], walk_prob=.5)"
   ]
  },
  {
   "cell_type": "code",
   "execution_count": null,
   "id": "a98044cc",
   "metadata": {},
   "outputs": [],
   "source": [
    "for i in range(3):\n",
    "    evaluate(policy, val_ds , max_tries, max_flips, 0.5, 0.5)"
   ]
  },
  {
   "cell_type": "code",
   "execution_count": null,
   "id": "cd64cc0f",
   "metadata": {},
   "outputs": [],
   "source": [
    "train_epoch(policy, optimizer, train_ds[:1900], walk_prob=.5)"
   ]
  },
  {
   "cell_type": "code",
   "execution_count": null,
   "id": "815dbb09",
   "metadata": {},
   "outputs": [],
   "source": [
    "for i in range(3):\n",
    "    evaluate(policy, val_ds , max_tries, max_flips, 0.5, 0.5)"
   ]
  },
  {
   "cell_type": "code",
   "execution_count": 236,
   "id": "5bef7579",
   "metadata": {},
   "outputs": [],
   "source": [
    "change_lr(optimizer, 0.001)"
   ]
  },
  {
   "cell_type": "code",
   "execution_count": 237,
   "id": "8bbe102b",
   "metadata": {},
   "outputs": [
    {
     "name": "stdout",
     "output_type": "stream",
     "text": [
      "0.16563859256869182\n"
     ]
    }
   ],
   "source": [
    "train_epoch(policy, optimizer, train_ds[:1000], walk_prob=.5)"
   ]
  },
  {
   "cell_type": "code",
   "execution_count": 238,
   "id": "3b05ccdf",
   "metadata": {},
   "outputs": [
    {
     "name": "stdout",
     "output_type": "stream",
     "text": [
      "851.29 403.496 0.14784687490202486 0.9940000000000001\n",
      "800.22 409.94200000000006 0.15656327573116868 0.985\n",
      "629.27 372.6629999999999 0.15668918626382947 0.9939999999999999\n"
     ]
    }
   ],
   "source": [
    "for i in range(3):\n",
    "    evaluate(policy, val_ds , max_tries, max_flips, 0.5, 0.5)"
   ]
  },
  {
   "cell_type": "code",
   "execution_count": 239,
   "id": "971328af",
   "metadata": {},
   "outputs": [
    {
     "name": "stdout",
     "output_type": "stream",
     "text": [
      "0.16683297766941704\n"
     ]
    }
   ],
   "source": [
    "train_epoch(policy, optimizer, train_ds[1000:19000])"
   ]
  },
  {
   "cell_type": "code",
   "execution_count": 240,
   "id": "75492201",
   "metadata": {},
   "outputs": [
    {
     "name": "stdout",
     "output_type": "stream",
     "text": [
      "795.29 376.88700000000006 0.17032614756375553 0.992\n",
      "682.52 392.7860000000001 0.19539753547403962 0.993\n",
      "764.63 375.46700000000004 0.162984250606969 0.9940000000000001\n"
     ]
    }
   ],
   "source": [
    "for i in range(3):\n",
    "    evaluate(policy, val_ds, max_tries, max_flips, 0.5, 0.5)"
   ]
  },
  {
   "cell_type": "code",
   "execution_count": 241,
   "id": "6852cd70",
   "metadata": {},
   "outputs": [
    {
     "name": "stdout",
     "output_type": "stream",
     "text": [
      "0.16519864422036334\n"
     ]
    }
   ],
   "source": [
    "train_epoch(policy, optimizer, train_ds[:1000])"
   ]
  },
  {
   "cell_type": "code",
   "execution_count": 242,
   "id": "6a18a166",
   "metadata": {},
   "outputs": [
    {
     "name": "stdout",
     "output_type": "stream",
     "text": [
      "956.94 378.6310000000001 0.14718388128560037 0.9940000000000001\n",
      "766.98 385.29100000000005 0.16737645495217293 0.993\n",
      "721.03 391.473 0.16599987874738872 0.9940000000000001\n"
     ]
    }
   ],
   "source": [
    "for i in range(3):\n",
    "    evaluate(policy, val_ds, max_tries, max_flips, 0.5, 0.5)"
   ]
  },
  {
   "cell_type": "code",
   "execution_count": 243,
   "id": "e6fc246c",
   "metadata": {},
   "outputs": [
    {
     "name": "stdout",
     "output_type": "stream",
     "text": [
      "0.1632142252032645\n"
     ]
    }
   ],
   "source": [
    "train_epoch(policy, optimizer, train_ds[:1000], walk_prob=.5)"
   ]
  },
  {
   "cell_type": "code",
   "execution_count": 244,
   "id": "d12ec301",
   "metadata": {},
   "outputs": [
    {
     "name": "stdout",
     "output_type": "stream",
     "text": [
      "823.19 385.274 0.164048176035285 0.9880000000000001\n",
      "696.77 413.742 0.1682922069146298 0.987\n",
      "902.79 382.47299999999996 0.162232623398304 0.992\n"
     ]
    }
   ],
   "source": [
    "for i in range(3):\n",
    "    evaluate(policy, val_ds, max_tries, max_flips, 0.5, 0.5)"
   ]
  },
  {
   "cell_type": "code",
   "execution_count": 245,
   "id": "9e53bfe7",
   "metadata": {},
   "outputs": [
    {
     "name": "stdout",
     "output_type": "stream",
     "text": [
      "0.16633857765183266\n"
     ]
    }
   ],
   "source": [
    "train_epoch(policy, optimizer, train_ds[1000:1900], walk_prob=.5)"
   ]
  },
  {
   "cell_type": "code",
   "execution_count": 246,
   "id": "4d664ae0",
   "metadata": {},
   "outputs": [
    {
     "name": "stdout",
     "output_type": "stream",
     "text": [
      "891.43 403.49300000000005 0.18950091662234628 0.988\n",
      "875.61 407.452 0.1587396778166294 0.993\n",
      "747.03 384.404 0.18702117217704653 0.992\n"
     ]
    }
   ],
   "source": [
    "for i in range(3):\n",
    "    evaluate(policy, val_ds, max_tries, max_flips, 0.5, 0.5)"
   ]
  },
  {
   "cell_type": "code",
   "execution_count": 247,
   "id": "fd9748e6",
   "metadata": {},
   "outputs": [
    {
     "name": "stdout",
     "output_type": "stream",
     "text": [
      "0.1615810429737903\n"
     ]
    }
   ],
   "source": [
    "train_epoch(policy, optimizer, train_ds[500:1500], walk_prob=.5)"
   ]
  },
  {
   "cell_type": "code",
   "execution_count": 248,
   "id": "f8d9d706",
   "metadata": {},
   "outputs": [
    {
     "name": "stdout",
     "output_type": "stream",
     "text": [
      "966.82 421.54 0.14754224862903356 0.988\n",
      "903.51 369.339 0.15546620092820376 0.992\n",
      "824.54 371.84799999999996 0.16541528223548085 0.991\n"
     ]
    }
   ],
   "source": [
    "for i in range(3):\n",
    "    evaluate(policy, val_ds, max_tries, max_flips, 0.5, 0.5)"
   ]
  },
  {
   "cell_type": "code",
   "execution_count": 249,
   "id": "db906760",
   "metadata": {},
   "outputs": [
    {
     "name": "stdout",
     "output_type": "stream",
     "text": [
      "0.164433928724844\n"
     ]
    }
   ],
   "source": [
    "train_epoch(policy, optimizer, train_ds[500:1500], walk_prob=.5)"
   ]
  },
  {
   "cell_type": "code",
   "execution_count": 250,
   "id": "d96b586e",
   "metadata": {},
   "outputs": [
    {
     "name": "stdout",
     "output_type": "stream",
     "text": [
      "899.14 375.63599999999997 0.15899484407156705 0.993\n",
      "821.17 355.6480000000001 0.17289584424812346 0.996\n",
      "706.39 380.55899999999986 0.15370458181481808 0.992\n"
     ]
    }
   ],
   "source": [
    "for i in range(3):\n",
    "    evaluate(policy, val_ds, max_tries, max_flips, 0.5, 0.5)"
   ]
  },
  {
   "cell_type": "code",
   "execution_count": 28,
   "id": "f239fc21",
   "metadata": {},
   "outputs": [
    {
     "data": {
      "text/plain": [
       "(1900, 100)"
      ]
     },
     "execution_count": 28,
     "metadata": {},
     "output_type": "execute_result"
    }
   ],
   "source": [
    "train_ds = load_dir(\"../data/kcolor/4-15-0.5/\")\n",
    "val_ds = train_ds[1900:]\n",
    "train_ds = train_ds[:1900]\n",
    "len(train_ds), len(val_ds)"
   ]
  },
  {
   "cell_type": "code",
   "execution_count": 29,
   "id": "7d9c75d5",
   "metadata": {},
   "outputs": [],
   "source": [
    "policy = Net()\n",
    "optimizer = optim.RMSprop(policy.parameters(), lr=0.001, weight_decay=1e-5)\n",
    "max_tries = 10\n",
    "max_flips = 10000"
   ]
  },
  {
   "cell_type": "code",
   "execution_count": 30,
   "id": "3d33d980",
   "metadata": {},
   "outputs": [
    {
     "name": "stdout",
     "output_type": "stream",
     "text": [
      "196.43 83.214 None 1.0\n",
      "210.83 86.05 None 1.0\n",
      "212.75 76.324 None 1.0\n"
     ]
    }
   ],
   "source": [
    "for i in range(3):\n",
    "    evaluate(policy, val_ds , max_tries, max_flips, discount=0.5, walk_prob=.5, walksat=True)"
   ]
  },
  {
   "cell_type": "code",
   "execution_count": 119,
   "id": "16b5f0f0",
   "metadata": {},
   "outputs": [
    {
     "name": "stdout",
     "output_type": "stream",
     "text": [
      "0.03242877619287174\n"
     ]
    }
   ],
   "source": [
    "train_epoch(policy, optimizer, train_ds[:1000], walk_prob=.5, discount=0.5)"
   ]
  },
  {
   "cell_type": "code",
   "execution_count": 120,
   "id": "181842e4",
   "metadata": {},
   "outputs": [
    {
     "name": "stdout",
     "output_type": "stream",
     "text": [
      "3408.94 1671.2410000000004 0.03272874584421515 0.883\n",
      "2947.71 1495.197 0.03670568984933197 0.9129999999999999\n",
      "3356.58 1580.612 0.031729125855490564 0.897\n"
     ]
    }
   ],
   "source": [
    "for i in range(3):\n",
    "    evaluate(policy, val_ds , max_tries, max_flips, discount=0.5, walk_prob=.5)"
   ]
  },
  {
   "cell_type": "code",
   "execution_count": 121,
   "id": "a6a34f78",
   "metadata": {},
   "outputs": [
    {
     "name": "stdout",
     "output_type": "stream",
     "text": [
      "0.036617499960120765\n"
     ]
    }
   ],
   "source": [
    "train_epoch(policy, optimizer, train_ds[1000:1900], walk_prob=.5, discount = 0.5)"
   ]
  },
  {
   "cell_type": "code",
   "execution_count": 122,
   "id": "3d7960fe",
   "metadata": {},
   "outputs": [
    {
     "name": "stdout",
     "output_type": "stream",
     "text": [
      "2661.37 1253.543 0.04447664735023864 0.9390000000000001\n",
      "2536.92 1276.642 0.046337029247079047 0.93\n",
      "3263.22 1243.623 0.04456117057823576 0.939\n"
     ]
    }
   ],
   "source": [
    "for i in range(3):\n",
    "    evaluate(policy, val_ds , max_tries, max_flips, discount=0.5, walk_prob=.5)"
   ]
  },
  {
   "cell_type": "code",
   "execution_count": 123,
   "id": "001490ad",
   "metadata": {},
   "outputs": [
    {
     "name": "stdout",
     "output_type": "stream",
     "text": [
      "0.04779403054586146\n"
     ]
    }
   ],
   "source": [
    "train_epoch(policy, optimizer, train_ds[:1000], walk_prob=.5, discount=0.5)"
   ]
  },
  {
   "cell_type": "code",
   "execution_count": 124,
   "id": "7f30aef9",
   "metadata": {},
   "outputs": [
    {
     "name": "stdout",
     "output_type": "stream",
     "text": [
      "1620.53 765.1440000000001 0.058775811828672885 0.985\n",
      "1684.17 768.3710000000001 0.05517783605493605 0.98\n",
      "1812.28 791.8889999999999 0.05703072253614664 0.981\n"
     ]
    }
   ],
   "source": [
    "for i in range(3):\n",
    "    evaluate(policy, val_ds , max_tries, max_flips, discount=0.5, walk_prob=.5)"
   ]
  },
  {
   "cell_type": "code",
   "execution_count": 125,
   "id": "6ee97472",
   "metadata": {},
   "outputs": [
    {
     "name": "stdout",
     "output_type": "stream",
     "text": [
      "0.05916170927230269\n"
     ]
    }
   ],
   "source": [
    "train_epoch(policy, optimizer, train_ds[500:1500], walk_prob=.5, discount=0.5)"
   ]
  },
  {
   "cell_type": "code",
   "execution_count": 126,
   "id": "02861951",
   "metadata": {},
   "outputs": [
    {
     "name": "stdout",
     "output_type": "stream",
     "text": [
      "1045.23 499.50100000000003 0.06391769652254879 1.0\n",
      "1290.13 564.948 0.06700162066146731 0.996\n",
      "962.88 527.331 0.06789143403060734 0.998\n"
     ]
    }
   ],
   "source": [
    "for i in range(3):\n",
    "    evaluate(policy, val_ds , max_tries, max_flips, discount=0.5, walk_prob=.5)"
   ]
  },
  {
   "cell_type": "code",
   "execution_count": 127,
   "id": "612a8716",
   "metadata": {},
   "outputs": [
    {
     "name": "stdout",
     "output_type": "stream",
     "text": [
      "0.06636926405038684\n"
     ]
    }
   ],
   "source": [
    "train_epoch(policy, optimizer, train_ds[:500], walk_prob=.5, discount=0.5)"
   ]
  },
  {
   "cell_type": "code",
   "execution_count": 128,
   "id": "b9499f1f",
   "metadata": {},
   "outputs": [
    {
     "name": "stdout",
     "output_type": "stream",
     "text": [
      "1116.17 506.40399999999994 0.06637105594854802 0.997\n",
      "1554.8 523.349 0.07122086943127215 0.995\n",
      "1101.52 471.147 0.06678609466180205 0.998\n"
     ]
    }
   ],
   "source": [
    "for i in range(3):\n",
    "    evaluate(policy, val_ds , max_tries, max_flips, discount=0.5, walk_prob=.5)"
   ]
  },
  {
   "cell_type": "code",
   "execution_count": 129,
   "id": "b52d8592",
   "metadata": {},
   "outputs": [
    {
     "name": "stdout",
     "output_type": "stream",
     "text": [
      "0.06597169480565936\n"
     ]
    }
   ],
   "source": [
    "train_epoch(policy, optimizer, train_ds[900:1900], walk_prob=.5, discount=0.5)"
   ]
  },
  {
   "cell_type": "code",
   "execution_count": 130,
   "id": "f32b9b46",
   "metadata": {},
   "outputs": [
    {
     "name": "stdout",
     "output_type": "stream",
     "text": [
      "1072.57 452.00800000000004 0.06657401758246123 0.9990000000000001\n",
      "856.1 417.89 0.07686279580928385 0.9990000000000001\n",
      "1035.32 430.24700000000007 0.07512179552577436 0.998\n"
     ]
    }
   ],
   "source": [
    "for i in range(3):\n",
    "    evaluate(policy, val_ds , max_tries, max_flips, discount=0.5, walk_prob=.5)"
   ]
  },
  {
   "cell_type": "code",
   "execution_count": 132,
   "id": "e334388b",
   "metadata": {},
   "outputs": [
    {
     "name": "stdout",
     "output_type": "stream",
     "text": [
      "0.07190380474086851\n"
     ]
    }
   ],
   "source": [
    "train_epoch(policy, optimizer, train_ds[:1000], walk_prob=.5, discount=0.5)"
   ]
  },
  {
   "cell_type": "code",
   "execution_count": 133,
   "id": "3c943538",
   "metadata": {},
   "outputs": [
    {
     "name": "stdout",
     "output_type": "stream",
     "text": [
      "919.97 393.606 0.0699298278708011 0.9990000000000001\n",
      "1114.82 418.51700000000005 0.07240340700373053 0.9990000000000001\n",
      "1052.15 434.9 0.06658170715905726 0.9990000000000001\n"
     ]
    }
   ],
   "source": [
    "for i in range(3):\n",
    "    evaluate(policy, val_ds , max_tries, max_flips, discount=0.5, walk_prob=.5)"
   ]
  },
  {
   "cell_type": "code",
   "execution_count": 134,
   "id": "c743b511",
   "metadata": {},
   "outputs": [],
   "source": [
    "change_lr(optimizer, 0.0001)"
   ]
  },
  {
   "cell_type": "code",
   "execution_count": 135,
   "id": "2970a0b4",
   "metadata": {},
   "outputs": [
    {
     "name": "stdout",
     "output_type": "stream",
     "text": [
      "0.06914114368450829\n"
     ]
    }
   ],
   "source": [
    "train_epoch(policy, optimizer, train_ds[900:1900], walk_prob=.5, discount=0.5)"
   ]
  },
  {
   "cell_type": "code",
   "execution_count": 136,
   "id": "ea81cc66",
   "metadata": {},
   "outputs": [
    {
     "name": "stdout",
     "output_type": "stream",
     "text": [
      "1174.81 439.64599999999996 0.06793487512040883 0.9990000000000001\n",
      "922.37 409.96899999999994 0.07614302545785905 0.9990000000000001\n",
      "1128.09 420.574 0.08216650203801691 1.0\n"
     ]
    }
   ],
   "source": [
    "for i in range(3):\n",
    "    evaluate(policy, val_ds , max_tries, max_flips, discount=0.5, walk_prob=.5)"
   ]
  },
  {
   "cell_type": "code",
   "execution_count": 84,
   "id": "e870c109",
   "metadata": {},
   "outputs": [
    {
     "data": {
      "text/plain": [
       "(1900, 100)"
      ]
     },
     "execution_count": 84,
     "metadata": {},
     "output_type": "execute_result"
    }
   ],
   "source": [
    "train_ds = load_dir(\"../data/kcolor/3-10-0.5/\")\n",
    "val_ds = train_ds[1900:]\n",
    "train_ds = train_ds[:1900]\n",
    "len(train_ds), len(val_ds)"
   ]
  },
  {
   "cell_type": "code",
   "execution_count": 85,
   "id": "5e097467",
   "metadata": {},
   "outputs": [],
   "source": [
    "policy = Net()\n",
    "optimizer = optim.RMSprop(policy.parameters(), lr=0.001, weight_decay=1e-5)\n",
    "max_tries = 10\n",
    "max_flips = 10000"
   ]
  },
  {
   "cell_type": "code",
   "execution_count": 86,
   "id": "230f7a31",
   "metadata": {},
   "outputs": [
    {
     "name": "stdout",
     "output_type": "stream",
     "text": [
      "121.54 53.349999999999994 None 1.0\n",
      "136.97 54.977 None 1.0\n",
      "155.14 54.88500000000001 None 1.0\n"
     ]
    }
   ],
   "source": [
    "for i in range(3):\n",
    "    evaluate(policy, val_ds , max_tries, max_flips, discount=0.5, walk_prob=.5, walksat=True)"
   ]
  },
  {
   "cell_type": "code",
   "execution_count": 87,
   "id": "a21eb27f",
   "metadata": {},
   "outputs": [
    {
     "name": "stdout",
     "output_type": "stream",
     "text": [
      "0.23722988438606263\n"
     ]
    }
   ],
   "source": [
    "train_epoch(policy, optimizer, train_ds[:1000], walk_prob=.5, discount=0.5)"
   ]
  },
  {
   "cell_type": "code",
   "execution_count": 88,
   "id": "12ee40d0",
   "metadata": {},
   "outputs": [
    {
     "name": "stdout",
     "output_type": "stream",
     "text": [
      "193.22 76.306 0.23265512000769376 1.0\n",
      "209.12 74.878 0.262177706733346 1.0\n",
      "201.46 74.525 0.24403006821870804 1.0\n"
     ]
    }
   ],
   "source": [
    "for i in range(3):\n",
    "    evaluate(policy, val_ds, max_tries, max_flips, discount=0.5, walk_prob=.5)"
   ]
  },
  {
   "cell_type": "code",
   "execution_count": 89,
   "id": "76944d04",
   "metadata": {},
   "outputs": [
    {
     "name": "stdout",
     "output_type": "stream",
     "text": [
      "0.24774086069129408\n"
     ]
    }
   ],
   "source": [
    "train_epoch(policy, optimizer, train_ds[500:1500], walk_prob=.5, discount = 0.5)"
   ]
  },
  {
   "cell_type": "code",
   "execution_count": 90,
   "id": "b1e456aa",
   "metadata": {},
   "outputs": [
    {
     "name": "stdout",
     "output_type": "stream",
     "text": [
      "152.72 57.14699999999998 0.26695315714925527 1.0\n",
      "161.81 52.11600000000001 0.28142453625798225 1.0\n",
      "158.83 52.914000000000016 0.273628425039351 1.0\n"
     ]
    }
   ],
   "source": [
    "for i in range(3):\n",
    "    evaluate(policy, val_ds, max_tries, max_flips, discount=0.5, walk_prob=.5)"
   ]
  },
  {
   "cell_type": "code",
   "execution_count": 91,
   "id": "ca3ea3ff",
   "metadata": {},
   "outputs": [
    {
     "name": "stdout",
     "output_type": "stream",
     "text": [
      "0.27094397219642996\n"
     ]
    }
   ],
   "source": [
    "train_epoch(policy, optimizer, train_ds[500:1500], walk_prob=.5, discount = 0.5)"
   ]
  },
  {
   "cell_type": "code",
   "execution_count": 92,
   "id": "343107a3",
   "metadata": {},
   "outputs": [
    {
     "name": "stdout",
     "output_type": "stream",
     "text": [
      "105.26 37.832 0.27669035162776706 1.0\n",
      "119.64 40.663 0.29247995145618916 1.0\n",
      "100.49 37.184 0.28421006713062524 1.0\n"
     ]
    }
   ],
   "source": [
    "for i in range(3):\n",
    "    evaluate(policy, val_ds, max_tries, max_flips, discount=0.5, walk_prob=.5)"
   ]
  },
  {
   "cell_type": "code",
   "execution_count": 93,
   "id": "55fada06",
   "metadata": {},
   "outputs": [
    {
     "name": "stdout",
     "output_type": "stream",
     "text": [
      "0.2762653423872377\n"
     ]
    }
   ],
   "source": [
    "train_epoch(policy, optimizer, train_ds[500:1900], walk_prob=.5, discount = 0.5)"
   ]
  },
  {
   "cell_type": "code",
   "execution_count": 94,
   "id": "677d6d70",
   "metadata": {},
   "outputs": [
    {
     "name": "stdout",
     "output_type": "stream",
     "text": [
      "102.92 32.092999999999996 0.2857779210805893 1.0\n",
      "104.05 34.479 0.26322814900428054 1.0\n",
      "109.89 34.550999999999995 0.276728473380208 1.0\n"
     ]
    }
   ],
   "source": [
    "for i in range(3):\n",
    "    evaluate(policy, val_ds, max_tries, max_flips, discount=0.5, walk_prob=.5)"
   ]
  },
  {
   "cell_type": "code",
   "execution_count": null,
   "id": "7d8dbbc6",
   "metadata": {},
   "outputs": [],
   "source": []
  }
 ],
 "metadata": {
  "kernelspec": {
   "display_name": "Python 3 (ipykernel)",
   "language": "python",
   "name": "python3"
  },
  "language_info": {
   "codemirror_mode": {
    "name": "ipython",
    "version": 3
   },
   "file_extension": ".py",
   "mimetype": "text/x-python",
   "name": "python",
   "nbconvert_exporter": "python",
   "pygments_lexer": "ipython3",
   "version": "3.8.13"
  }
 },
 "nbformat": 4,
 "nbformat_minor": 5
}
