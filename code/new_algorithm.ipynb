{
 "cells": [
  {
   "cell_type": "code",
   "execution_count": 1,
   "id": "4600d017",
   "metadata": {},
   "outputs": [],
   "source": [
    "import os\n",
    "from cnf import CNF\n",
    "import numpy as np"
   ]
  },
  {
   "cell_type": "code",
   "execution_count": 2,
   "id": "02c3202b",
   "metadata": {},
   "outputs": [],
   "source": [
    "import random\n",
    "import torch\n",
    "import torch.nn as nn\n",
    "import torch.nn.functional as F\n",
    "import torch.optim as optim\n",
    "from torch.distributions import Categorical"
   ]
  },
  {
   "cell_type": "code",
   "execution_count": 3,
   "id": "9317f3fc",
   "metadata": {},
   "outputs": [],
   "source": [
    "class Net(nn.Module):\n",
    "    def __init__(self, h=5):\n",
    "        super(Net, self).__init__()\n",
    "        self.lin = nn.Linear(3, h)\n",
    "        self.dropout = nn.Dropout(0.5)\n",
    "        self.lin2 = nn.Linear(h, 1)\n",
    "    def forward(self, x):\n",
    "        x = self.lin(x)\n",
    "        x = F.relu(self.dropout(x))\n",
    "        x = self.lin2(x)\n",
    "        return x"
   ]
  },
  {
   "cell_type": "code",
   "execution_count": 4,
   "id": "84060ed1",
   "metadata": {},
   "outputs": [],
   "source": [
    "def init_net(model):\n",
    "    with torch.no_grad():\n",
    "        model.lin.weight[0, 0] = 10\n",
    "        model.lin2.weight[0, 0] = -1"
   ]
  },
  {
   "cell_type": "code",
   "execution_count": 76,
   "id": "9275b732",
   "metadata": {},
   "outputs": [],
   "source": [
    "class Net2(nn.Module):\n",
    "    def __init__(self):\n",
    "        super(Net2, self).__init__()\n",
    "        self.lin = nn.Linear(4, 1)\n",
    "    def forward(self, x):\n",
    "        x = self.lin(x)\n",
    "        return x"
   ]
  },
  {
   "cell_type": "code",
   "execution_count": 77,
   "id": "72848ba7",
   "metadata": {},
   "outputs": [],
   "source": [
    "def init_net2(policy):\n",
    "    with torch.no_grad():\n",
    "        policy.lin.weight[0, 0] = -1\n",
    "        policy.lin.weight[0, 1] = 0\n",
    "        policy.lin.weight[0, 2] = 0\n",
    "        policy.lin.weight[0, 3] = 0\n",
    "        policy.lin.bias[0] = 0"
   ]
  },
  {
   "cell_type": "code",
   "execution_count": 7,
   "id": "2f8c8dfa",
   "metadata": {},
   "outputs": [],
   "source": [
    "def load_dir(path):\n",
    "    data = []\n",
    "    for filename in os.listdir(path):\n",
    "        name, ext = os.path.splitext(filename)\n",
    "        if ext != '.cnf':\n",
    "            continue\n",
    "        f = CNF.from_file(os.path.join(path, filename))\n",
    "        data.append(f)\n",
    "    return data"
   ]
  },
  {
   "cell_type": "code",
   "execution_count": 79,
   "id": "ac947baf",
   "metadata": {},
   "outputs": [],
   "source": [
    "class WalkSATLN:\n",
    "    def __init__(self, policy, max_tries, max_flips, p=0.5, discount=0.5):\n",
    "        self.policy = policy\n",
    "        self.max_tries = max_tries\n",
    "        self.max_flips = max_flips\n",
    "        self.p = p\n",
    "        self.discount = discount\n",
    "        self.flips_to_solution = []\n",
    "        self.backflips = []\n",
    "        self.unsat_clauses = []\n",
    "        self.age = []\n",
    "        self.last_10 = []\n",
    "        self.sol = []\n",
    "        \n",
    "    def compute_true_lit_count(self, clauses):\n",
    "        n_clauses = len(clauses)\n",
    "        true_lit_count = [0] * n_clauses\n",
    "        for index in range(n_clauses):\n",
    "            for literal in clauses[index]:\n",
    "                if self.sol[abs(literal)] == literal:\n",
    "                    true_lit_count[index] += 1\n",
    "        return true_lit_count\n",
    "    \n",
    "    def select_variable_reinforce(self, x):\n",
    "        logit = self.policy(x)\n",
    "        prob = F.softmax(logit, dim=0)\n",
    "        dist = Categorical(prob.view(-1))\n",
    "        v = dist.sample()\n",
    "        return v, dist.log_prob(v)\n",
    "    \n",
    "    def do_flip(self, literal, occur_list):\n",
    "        for i in occur_list[literal]:\n",
    "            self.true_lit_count[i] += 1\n",
    "        for i in occur_list[-literal]:\n",
    "            self.true_lit_count[i] -= 1\n",
    "        self.sol[abs(literal)] *= -1\n",
    "        \n",
    "    def stats_per_clause(self, f, unsat_clause):\n",
    "        \"\"\" computes the featutes needed for the model\n",
    "        \"\"\" \n",
    "        r = f.n_variables/ len(f.clauses)\n",
    "        variables = [abs(v) for v in unsat_clause]\n",
    "        breaks = np.zeros(len(variables))\n",
    "        last_5 = self.last_10[:5]\n",
    "        for i, literal in enumerate(unsat_clause):\n",
    "            broken_count = 0\n",
    "            for index in f.occur_list[-literal]:\n",
    "                if self.true_lit_count[index] == 1:\n",
    "                    broken_count += 1\n",
    "            breaks[i] = broken_count\n",
    "        in_last_10 = np.array([int(v in self.last_10) for v in variables]) \n",
    "        age = np.array([self.age[v] for v in variables])/(self.age[0] + 1)\n",
    "        in_last_5 = np.array([int(v in last_5) for v in variables]) \n",
    "        return np.stack([breaks, in_last_10, in_last_5, age], axis=1)\n",
    "    \n",
    "    def walksat_step(self, f, unsat_clause):\n",
    "        \"\"\"Returns chosen literal\"\"\"\n",
    "        broken_min = float('inf')\n",
    "        min_breaking_lits = []\n",
    "        for literal in unsat_clause:\n",
    "            broken_count = 0\n",
    "            for index in f.occur_list[-literal]:\n",
    "                if self.true_lit_count[index] == 1:\n",
    "                    broken_count += 1\n",
    "                if broken_count > broken_min:\n",
    "                    break\n",
    "            if broken_count < broken_min:\n",
    "                broken_min = broken_count\n",
    "                min_breaking_lits = [literal]\n",
    "            elif broken_count == broken_min:\n",
    "                min_breaking_lits.append(literal)\n",
    "        return abs(random.choice(min_breaking_lits))\n",
    "    \n",
    "    def reinforce_step(self, f, unsat_clause):\n",
    "        x = self.stats_per_clause(f, unsat_clause)\n",
    "        x = torch.from_numpy(x).float()\n",
    "        index, log_prob = self.select_variable_reinforce(x)\n",
    "        literal = unsat_clause[index]\n",
    "        return literal, log_prob\n",
    "    \n",
    "    def generate_episode_reinforce(self, f, walksat):\n",
    "        self.sol = [x if random.random() < 0.5 else -x for x in range(f.n_variables + 1)]\n",
    "        self.true_lit_count = self.compute_true_lit_count(f.clauses)\n",
    "        self.age = np.zeros(f.n_variables + 1)\n",
    "        log_probs = []\n",
    "        flips = 0\n",
    "        flipped = set()\n",
    "        backflipped = 0\n",
    "        while flips < max_flips:\n",
    "            unsat_clause_indices = [k for k in range(len(f.clauses)) if self.true_lit_count[k] == 0]\n",
    "            sat = not unsat_clause_indices\n",
    "            if sat:\n",
    "                break\n",
    "            unsat_clause = f.clauses[random.choice(unsat_clause_indices)]\n",
    "            log_prob = None\n",
    "            if random.random() < self.p:\n",
    "                literal = random.choice(unsat_clause)\n",
    "            else:\n",
    "                if walksat:\n",
    "                    literal = self.walksat_step(f, unsat_clause)   \n",
    "                else:\n",
    "                    literal, log_prob = self.reinforce_step(f, unsat_clause)\n",
    "                v = abs(literal)\n",
    "                if v not in flipped:\n",
    "                    flipped.add(v)\n",
    "                else:\n",
    "                    backflipped += 1\n",
    "                self.last_10.insert(0, v)\n",
    "                self.last_10 = self.last_10[:10]\n",
    "                self.age[v] = flips\n",
    "            self.do_flip(literal, f.occur_list)\n",
    "            flips += 1\n",
    "            self.age[0] = flips\n",
    "            log_probs.append(log_prob)\n",
    "        return sat, flips, backflipped, log_probs\n",
    "\n",
    "    def reinforce_loss(self, log_probs_list):\n",
    "        T = len(log_probs_list)\n",
    "        log_probs_filtered = []\n",
    "        mask = np.zeros(T, dtype=bool)\n",
    "        for i, x in enumerate(log_probs_list):\n",
    "            if x is not None:\n",
    "                log_probs_filtered.append(x)\n",
    "                mask[i] = 1\n",
    "\n",
    "        log_probs = torch.stack(log_probs_filtered)\n",
    "        p_rewards = self.discount ** torch.arange(T - 1, -1, -1, dtype=torch.float32, device=log_probs.device)\n",
    "        return -torch.mean(p_rewards[torch.from_numpy(mask).to(log_probs.device)] * log_probs)\n",
    "\n",
    "    def generate_episodes(self, f, walksat=False):\n",
    "        flips_stats = []\n",
    "        losses = []\n",
    "        backflips = []\n",
    "        num_sols = 0\n",
    "        for i in range(self.max_tries):\n",
    "            sat, flips, backflipped, log_probs = self.generate_episode_reinforce(f, walksat)\n",
    "            flips_stats.append(flips)\n",
    "            backflips.append(backflipped)\n",
    "            if sat and flips > 0 and not all(map(lambda x: x is None, log_probs)):\n",
    "                loss = self.reinforce_loss(log_probs)\n",
    "                losses.append(loss)\n",
    "            num_sols += sat    \n",
    "        if losses:\n",
    "            losses = torch.stack(losses).sum()  \n",
    "        return np.mean(flips), np.mean(backflips), losses, num_sols/self.max_tries\n",
    "    \n",
    "    \n",
    "    def evaluate(self, data, walksat=False):\n",
    "        mean_flips = []\n",
    "        mean_backflips = []\n",
    "        mean_losses = []\n",
    "        accuracy = []\n",
    "        self.policy.eval()\n",
    "        for f in data:\n",
    "            flips, backflips, losses, acc = self.generate_episodes(f, walksat)\n",
    "            mean_flips.append(flips)\n",
    "            mean_backflips.append(backflips)\n",
    "            if losses:\n",
    "                mean_losses.append(losses.item())\n",
    "            accuracy.append(acc)\n",
    "            mean_loss = None\n",
    "            if mean_losses:\n",
    "                mean_loss = np.mean(mean_losses)\n",
    "        print(np.mean(mean_flips), np.mean(mean_backflips), mean_loss, np.mean(accuracy))\n",
    "        \n",
    "    def train_epoch(self, optimizer, data):\n",
    "        losses = []\n",
    "        for f in data:\n",
    "            self.policy.train()\n",
    "            flips, backflips, loss, acc = self.generate_episodes(f)\n",
    "            if acc > 0:\n",
    "                optimizer.zero_grad()\n",
    "                loss.backward()\n",
    "                optimizer.step()\n",
    "                losses.append(loss.item())\n",
    "        print(np.mean(losses))"
   ]
  },
  {
   "cell_type": "code",
   "execution_count": 56,
   "id": "2ecb0763",
   "metadata": {},
   "outputs": [],
   "source": [
    "def change_lr(optimizer, lr):\n",
    "    for g in optimizer.param_groups:\n",
    "        g['lr'] = lr"
   ]
  },
  {
   "cell_type": "code",
   "execution_count": 10,
   "id": "29037f2a",
   "metadata": {},
   "outputs": [],
   "source": [
    "train_ds = load_dir(\"../data/rand3sat/10-43\")\n",
    "#val_ds = load_dir(\"../data/rand3sat/25-106\")"
   ]
  },
  {
   "cell_type": "code",
   "execution_count": 11,
   "id": "f5ae3603",
   "metadata": {},
   "outputs": [
    {
     "data": {
      "text/plain": [
       "(1900, 100)"
      ]
     },
     "execution_count": 11,
     "metadata": {},
     "output_type": "execute_result"
    }
   ],
   "source": [
    "train_ds = load_dir(\"../data/rand3sat/25-106\")\n",
    "#val_ds = load_dir(\"../data/rand3sat/25-106\")\n",
    "val_ds = train_ds[1900:]\n",
    "train_ds = train_ds[:1900]\n",
    "len(train_ds), len(val_ds)"
   ]
  },
  {
   "cell_type": "code",
   "execution_count": 12,
   "id": "d5c035a6",
   "metadata": {},
   "outputs": [],
   "source": [
    "policy = Net()\n",
    "optimizer = optim.RMSprop(policy.parameters(), lr=0.01, weight_decay=1e-5)\n",
    "max_tries = 10\n",
    "max_flips = 10000"
   ]
  },
  {
   "cell_type": "code",
   "execution_count": 13,
   "id": "b4f9e864",
   "metadata": {},
   "outputs": [],
   "source": [
    "init_net(policy)"
   ]
  },
  {
   "cell_type": "code",
   "execution_count": 14,
   "id": "8402f07e",
   "metadata": {},
   "outputs": [
    {
     "data": {
      "text/plain": [
       "Parameter containing:\n",
       "tensor([[-1.0000, -0.3289, -0.2722,  0.3029, -0.3633]], requires_grad=True)"
      ]
     },
     "execution_count": 14,
     "metadata": {},
     "output_type": "execute_result"
    }
   ],
   "source": [
    "policy.lin2.weight"
   ]
  },
  {
   "cell_type": "code",
   "execution_count": 15,
   "id": "458dfece",
   "metadata": {},
   "outputs": [
    {
     "data": {
      "text/plain": [
       "(1900, 100)"
      ]
     },
     "execution_count": 15,
     "metadata": {},
     "output_type": "execute_result"
    }
   ],
   "source": [
    "train_ds = load_dir(\"../data/kcolor/4-15-0.5/\")\n",
    "train_ds = load_dir(\"../data/kcolor/3-10-0.5/\")\n",
    "val_ds = train_ds[1900:]\n",
    "train_ds = train_ds[:1900]\n",
    "len(train_ds), len(val_ds)"
   ]
  },
  {
   "cell_type": "code",
   "execution_count": 80,
   "id": "de4e226e",
   "metadata": {},
   "outputs": [],
   "source": [
    "policy = Net2()\n",
    "optimizer = optim.RMSprop(policy.parameters(), lr=0.001, weight_decay=0)\n",
    "max_tries = 10\n",
    "max_flips = 10000"
   ]
  },
  {
   "cell_type": "code",
   "execution_count": 81,
   "id": "cae95649",
   "metadata": {},
   "outputs": [],
   "source": [
    "init_net2(policy)"
   ]
  },
  {
   "cell_type": "code",
   "execution_count": 82,
   "id": "b4eac56f",
   "metadata": {},
   "outputs": [
    {
     "data": {
      "text/plain": [
       "[Parameter containing:\n",
       " tensor([[-1.,  0.,  0.,  0.]], requires_grad=True),\n",
       " Parameter containing:\n",
       " tensor([0.], requires_grad=True)]"
      ]
     },
     "execution_count": 82,
     "metadata": {},
     "output_type": "execute_result"
    }
   ],
   "source": [
    "#init_net(policy)\n",
    "[p for p in policy.parameters()]"
   ]
  },
  {
   "cell_type": "code",
   "execution_count": 83,
   "id": "1fd47488",
   "metadata": {},
   "outputs": [],
   "source": [
    "max_tries = 10\n",
    "max_flips = 10000"
   ]
  },
  {
   "cell_type": "code",
   "execution_count": 84,
   "id": "27f17f4b",
   "metadata": {},
   "outputs": [],
   "source": [
    "ls = WalkSATLN(policy, max_tries, max_flips, p=0.5)"
   ]
  },
  {
   "cell_type": "code",
   "execution_count": 85,
   "id": "230f7a31",
   "metadata": {},
   "outputs": [
    {
     "name": "stdout",
     "output_type": "stream",
     "text": [
      "46.58 11.414000000000001 None 1.0\n",
      "45.52 11.923000000000002 None 1.0\n",
      "47.01 11.539000000000001 None 1.0\n"
     ]
    }
   ],
   "source": [
    "for i in range(3):\n",
    "    ls.evaluate(val_ds, walksat=True)"
   ]
  },
  {
   "cell_type": "code",
   "execution_count": 86,
   "id": "c5dc6271",
   "metadata": {},
   "outputs": [
    {
     "name": "stdout",
     "output_type": "stream",
     "text": [
      "89.64 29.127000000000002 0.2603824938088655 1.0\n",
      "98.23 30.545 0.2574538692086935 1.0\n",
      "94.22 29.067000000000007 0.25322111681103704 1.0\n"
     ]
    }
   ],
   "source": [
    "for i in range(3):\n",
    "    ls.evaluate(val_ds)"
   ]
  },
  {
   "cell_type": "code",
   "execution_count": 87,
   "id": "a21eb27f",
   "metadata": {},
   "outputs": [
    {
     "name": "stdout",
     "output_type": "stream",
     "text": [
      "0.1812230912164638\n"
     ]
    }
   ],
   "source": [
    "ls.train_epoch(optimizer, train_ds)"
   ]
  },
  {
   "cell_type": "code",
   "execution_count": 88,
   "id": "12ee40d0",
   "metadata": {},
   "outputs": [
    {
     "name": "stdout",
     "output_type": "stream",
     "text": [
      "58.21 12.152999999999999 0.14510542072355748 1.0\n",
      "58.22 12.187000000000003 0.14102069918066262 1.0\n",
      "55.31 12.955 0.1360379394888878 1.0\n"
     ]
    }
   ],
   "source": [
    "for i in range(3):\n",
    "    ls.evaluate(val_ds)"
   ]
  },
  {
   "cell_type": "code",
   "execution_count": 89,
   "id": "3268c15c",
   "metadata": {},
   "outputs": [
    {
     "name": "stdout",
     "output_type": "stream",
     "text": [
      "0.12453894591056987\n",
      "50.01 11.043000000000005 0.11110588377341628 1.0\n",
      "0.10370882746616476\n",
      "48.02 10.163999999999998 0.10437269033864141 1.0\n",
      "0.09388547586620247\n",
      "57.51 9.96 0.09492984515614808 1.0\n",
      "0.08792231511483949\n",
      "46.17 9.558 0.08627009075134992 1.0\n",
      "0.08383730543581279\n",
      "48.29 9.048 0.08164749088697136 1.0\n",
      "0.0819346508753829\n",
      "46.43 9.223 0.07573967995122075 1.0\n",
      "0.07892688288230841\n",
      "44.93 10.091999999999999 0.082134427735582 1.0\n",
      "0.07633932366538303\n",
      "48.02 9.06 0.07406406317371875 1.0\n",
      "0.0770908094403383\n",
      "49.24 9.122 0.07616797674447298 1.0\n",
      "0.07556656423490495\n",
      "45.82 9.402000000000001 0.07587006560293957 1.0\n"
     ]
    }
   ],
   "source": [
    "for j in range(10):\n",
    "    ls.train_epoch(optimizer, train_ds)\n",
    "    ls.evaluate(val_ds)"
   ]
  },
  {
   "cell_type": "code",
   "execution_count": 90,
   "id": "756d65a4",
   "metadata": {},
   "outputs": [
    {
     "name": "stdout",
     "output_type": "stream",
     "text": [
      "51.37 9.123 0.08137148874811828 1.0\n",
      "44.49 9.124999999999998 0.07867962806951255 1.0\n",
      "45.86 8.37 0.07515300078783184 1.0\n"
     ]
    }
   ],
   "source": [
    "for i in range(3):\n",
    "    ls.evaluate(val_ds)"
   ]
  },
  {
   "cell_type": "code",
   "execution_count": 91,
   "id": "0bb0cf87",
   "metadata": {},
   "outputs": [
    {
     "name": "stdout",
     "output_type": "stream",
     "text": [
      "0.07313184804632328\n",
      "0.07416222611313539\n",
      "0.07207129431232859\n",
      "0.07216185999225433\n",
      "0.07024976932737781\n"
     ]
    }
   ],
   "source": [
    "for j in range(5):\n",
    "    ls.train_epoch(optimizer, train_ds)"
   ]
  },
  {
   "cell_type": "code",
   "execution_count": 92,
   "id": "5b39088e",
   "metadata": {},
   "outputs": [
    {
     "name": "stdout",
     "output_type": "stream",
     "text": [
      "40.58 8.068000000000001 0.07303019106388092 1.0\n",
      "49.0 8.913 0.06776832322590053 1.0\n",
      "49.04 8.673 0.07228743204846978 1.0\n"
     ]
    }
   ],
   "source": [
    "for i in range(3):\n",
    "    ls.evaluate(val_ds)"
   ]
  },
  {
   "cell_type": "code",
   "execution_count": 93,
   "id": "901cf012",
   "metadata": {},
   "outputs": [
    {
     "data": {
      "text/plain": [
       "[Parameter containing:\n",
       " tensor([[-16.5120,  -1.4553,  -4.0445,  -5.7023]], requires_grad=True),\n",
       " Parameter containing:\n",
       " tensor([-0.0211], requires_grad=True)]"
      ]
     },
     "execution_count": 93,
     "metadata": {},
     "output_type": "execute_result"
    }
   ],
   "source": [
    "[p for p in policy.parameters()]"
   ]
  },
  {
   "cell_type": "code",
   "execution_count": 102,
   "id": "975434a6",
   "metadata": {},
   "outputs": [
    {
     "data": {
      "text/plain": [
       "(1900, 100)"
      ]
     },
     "execution_count": 102,
     "metadata": {},
     "output_type": "execute_result"
    }
   ],
   "source": [
    "train_ds = load_dir(\"../data/rand3sat/25-106\")\n",
    "val_ds = train_ds[1900:]\n",
    "train_ds = train_ds[:1900]\n",
    "len(train_ds), len(val_ds)"
   ]
  },
  {
   "cell_type": "code",
   "execution_count": 103,
   "id": "dea6debc",
   "metadata": {},
   "outputs": [],
   "source": [
    "policy = Net2()\n",
    "optimizer = optim.RMSprop(policy.parameters(), lr=0.001, weight_decay=0)\n",
    "init_net2(policy)\n",
    "max_tries = 10\n",
    "max_flips = 10000"
   ]
  },
  {
   "cell_type": "code",
   "execution_count": 104,
   "id": "0eb6d22f",
   "metadata": {},
   "outputs": [
    {
     "data": {
      "text/plain": [
       "[Parameter containing:\n",
       " tensor([[-1.,  0.,  0.,  0.]], requires_grad=True),\n",
       " Parameter containing:\n",
       " tensor([0.], requires_grad=True)]"
      ]
     },
     "execution_count": 104,
     "metadata": {},
     "output_type": "execute_result"
    }
   ],
   "source": [
    "[p for p in policy.parameters()]"
   ]
  },
  {
   "cell_type": "code",
   "execution_count": 105,
   "id": "0b9d26d8",
   "metadata": {},
   "outputs": [],
   "source": [
    "ls = WalkSATLN(policy, max_tries, max_flips, p=0.5)"
   ]
  },
  {
   "cell_type": "code",
   "execution_count": 106,
   "id": "eb0e5a4c",
   "metadata": {},
   "outputs": [
    {
     "name": "stdout",
     "output_type": "stream",
     "text": [
      "66.93 19.721 None 1.0\n",
      "66.44 19.753 None 1.0\n",
      "72.35 19.808 None 1.0\n"
     ]
    }
   ],
   "source": [
    "for i in range(3):\n",
    "    ls.evaluate(val_ds, walksat=True)"
   ]
  },
  {
   "cell_type": "code",
   "execution_count": 107,
   "id": "d1bbf36d",
   "metadata": {},
   "outputs": [
    {
     "name": "stdout",
     "output_type": "stream",
     "text": [
      "204.92 88.72300000000001 0.19727257976308465 1.0\n",
      "235.66 88.44699999999999 0.20111599389463664 1.0\n",
      "194.67 82.65000000000002 0.2127423594892025 1.0\n"
     ]
    }
   ],
   "source": [
    "for i in range(3):\n",
    "    ls.evaluate(val_ds)"
   ]
  },
  {
   "cell_type": "code",
   "execution_count": 108,
   "id": "de3abdfa",
   "metadata": {},
   "outputs": [
    {
     "name": "stdout",
     "output_type": "stream",
     "text": [
      "0.1544297411689829\n",
      "139.45 53.26499999999999 0.11312383824493737 1.0\n",
      "0.10077853788168317\n",
      "112.72 60.613 0.09554155359510333 1.0\n",
      "0.0812333848534495\n",
      "131.45 54.929 0.06751992259174586 1.0\n",
      "0.07252814758464841\n",
      "127.51 50.636 0.0627974709845148 1.0\n",
      "0.06574691613998239\n",
      "162.69 53.94299999999999 0.07377243232214824 1.0\n",
      "0.061656820494559055\n",
      "134.56 52.05199999999999 0.06159733816049993 1.0\n",
      "0.06249577908609737\n",
      "138.74 55.047000000000004 0.05994226535549387 1.0\n",
      "0.05791741791190457\n",
      "173.59 59.261 0.05636318602017127 1.0\n",
      "0.06004922917210742\n",
      "121.91 52.61499999999999 0.05441363054793328 1.0\n",
      "0.05631683989587289\n",
      "123.59 50.077 0.05824942529201507 1.0\n",
      "0.05818386168720041\n",
      "134.55 55.455 0.05165729889238719 1.0\n",
      "0.05329474430102365\n",
      "130.35 51.323999999999984 0.057044581160880625 1.0\n",
      "0.05352749843308151\n",
      "138.93 50.863 0.05162087505217641 1.0\n",
      "0.05422014358712324\n",
      "149.14 58.915 0.055577607933664695 1.0\n",
      "0.05325949137209376\n",
      "165.63 54.643 0.051833666417514905 1.0\n"
     ]
    }
   ],
   "source": [
    "for j in range(15):\n",
    "    ls.train_epoch(optimizer, train_ds)\n",
    "    ls.evaluate(val_ds)"
   ]
  },
  {
   "cell_type": "code",
   "execution_count": 109,
   "id": "849aa8cd",
   "metadata": {},
   "outputs": [
    {
     "name": "stdout",
     "output_type": "stream",
     "text": [
      "126.44 52.32599999999999 0.05601068066898733 1.0\n",
      "154.3 57.70099999999999 0.05302362880902365 1.0\n",
      "144.15 57.972 0.04758059546351433 1.0\n"
     ]
    }
   ],
   "source": [
    "for i in range(3):\n",
    "    ls.evaluate(val_ds)"
   ]
  },
  {
   "cell_type": "code",
   "execution_count": 110,
   "id": "25840db1",
   "metadata": {},
   "outputs": [
    {
     "name": "stdout",
     "output_type": "stream",
     "text": [
      "0.05075577362033073\n",
      "141.7 50.56000000000001 0.056652487966930495 1.0\n",
      "0.049056783326262746\n",
      "139.63 53.21799999999999 0.04776167414034717 1.0\n",
      "0.04929888884537688\n",
      "144.26 46.379000000000005 0.04096380891278386 1.0\n",
      "0.04917042895685882\n",
      "134.84 52.16799999999999 0.04742288448498584 1.0\n",
      "0.049287893496498564\n",
      "205.53 53.99000000000001 0.05089841512381099 1.0\n",
      "0.04563707548605874\n",
      "146.66 52.4 0.0508113626530394 1.0\n",
      "0.04765723780494514\n",
      "155.52 56.452 0.042181635486194864 1.0\n",
      "0.0478724420093376\n",
      "123.42 53.698 0.051565392259508375 1.0\n",
      "0.04602471422340482\n",
      "90.14 48.987999999999985 0.03849637843144592 1.0\n",
      "0.046688915330282486\n",
      "113.35 55.09399999999999 0.03537640028167516 1.0\n",
      "0.044437741633622574\n",
      "123.2 53.698 0.04528322346624918 1.0\n",
      "0.04674516648551952\n",
      "98.49 53.479000000000006 0.053240925012505616 1.0\n",
      "0.04583556882943652\n",
      "111.43 59.07300000000001 0.04382167976349592 1.0\n",
      "0.04389332783660441\n",
      "157.14 62.68600000000001 0.04307505873905029 1.0\n",
      "0.04477601390507373\n",
      "120.96 52.782999999999994 0.04354304140782915 1.0\n"
     ]
    }
   ],
   "source": [
    "for j in range(15):\n",
    "    ls.train_epoch(optimizer, train_ds)\n",
    "    ls.evaluate(val_ds)"
   ]
  },
  {
   "cell_type": "code",
   "execution_count": 111,
   "id": "0d6b6590",
   "metadata": {},
   "outputs": [
    {
     "name": "stdout",
     "output_type": "stream",
     "text": [
      "116.25 52.54900000000001 0.047982482310617344 1.0\n",
      "160.15 54.340999999999994 0.045732693669851866 1.0\n",
      "154.72 52.681000000000004 0.036913557433872486 1.0\n"
     ]
    }
   ],
   "source": [
    "for i in range(3):\n",
    "    ls.evaluate(val_ds)"
   ]
  },
  {
   "cell_type": "code",
   "execution_count": 112,
   "id": "666e7770",
   "metadata": {},
   "outputs": [
    {
     "data": {
      "text/plain": [
       "[Parameter containing:\n",
       " tensor([[-12.7003,  -1.8755,  -3.2198,  -4.1707]], requires_grad=True),\n",
       " Parameter containing:\n",
       " tensor([0.2007], requires_grad=True)]"
      ]
     },
     "execution_count": 112,
     "metadata": {},
     "output_type": "execute_result"
    }
   ],
   "source": [
    "[p for p in policy.parameters()]"
   ]
  },
  {
   "cell_type": "code",
   "execution_count": 113,
   "id": "c725a6e7",
   "metadata": {},
   "outputs": [],
   "source": [
    "change_lr(optimizer, lr=0.0001)"
   ]
  },
  {
   "cell_type": "code",
   "execution_count": 114,
   "id": "cc79196b",
   "metadata": {},
   "outputs": [
    {
     "name": "stdout",
     "output_type": "stream",
     "text": [
      "0.04604027766098673\n",
      "132.83 50.22300000000001 0.046052083629765546 1.0\n",
      "0.045425660096462754\n",
      "112.48 57.06300000000001 0.04760960756408167 1.0\n",
      "0.04646750557525114\n",
      "119.12 44.55200000000001 0.04366783687932184 1.0\n",
      "0.045103035410299384\n",
      "107.21 47.16 0.041057201857911424 1.0\n",
      "0.04418696907793147\n",
      "147.7 66.445 0.040336825030390176 1.0\n"
     ]
    }
   ],
   "source": [
    "for j in range(5):\n",
    "    ls.train_epoch(optimizer, train_ds)\n",
    "    ls.evaluate(val_ds)"
   ]
  },
  {
   "cell_type": "code",
   "execution_count": 115,
   "id": "0ef18725",
   "metadata": {},
   "outputs": [
    {
     "name": "stdout",
     "output_type": "stream",
     "text": [
      "0.044634085781286366\n",
      "143.83 55.553999999999995 0.04541555834002793 1.0\n",
      "0.04396421247739789\n",
      "117.44 49.674 0.04313059221196454 1.0\n",
      "0.044676057761937144\n",
      "145.69 58.878 0.04326639292150503 1.0\n",
      "0.04380048438964877\n",
      "138.63 53.80700000000001 0.053035292758140715 1.0\n",
      "0.04267985111540551\n",
      "147.07 55.093 0.05460201552486978 1.0\n"
     ]
    }
   ],
   "source": [
    "for j in range(5):\n",
    "    ls.train_epoch(optimizer, train_ds)\n",
    "    ls.evaluate(val_ds)"
   ]
  },
  {
   "cell_type": "code",
   "execution_count": 116,
   "id": "7e0026bd",
   "metadata": {},
   "outputs": [
    {
     "name": "stdout",
     "output_type": "stream",
     "text": [
      "145.44 54.019000000000005 0.04472931834054179 1.0\n",
      "132.89 51.23799999999999 0.05314328968815971 1.0\n",
      "134.78 51.717 0.051823291562031956 1.0\n"
     ]
    }
   ],
   "source": [
    "for i in range(3):\n",
    "    ls.evaluate(val_ds)"
   ]
  },
  {
   "cell_type": "code",
   "execution_count": null,
   "id": "8a0fe4f0",
   "metadata": {},
   "outputs": [],
   "source": []
  }
 ],
 "metadata": {
  "kernelspec": {
   "display_name": "Python 3 (ipykernel)",
   "language": "python",
   "name": "python3"
  },
  "language_info": {
   "codemirror_mode": {
    "name": "ipython",
    "version": 3
   },
   "file_extension": ".py",
   "mimetype": "text/x-python",
   "name": "python",
   "nbconvert_exporter": "python",
   "pygments_lexer": "ipython3",
   "version": "3.8.13"
  }
 },
 "nbformat": 4,
 "nbformat_minor": 5
}
