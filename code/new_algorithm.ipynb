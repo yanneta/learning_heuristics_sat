{
 "cells": [
  {
   "cell_type": "code",
   "execution_count": 1,
   "id": "4600d017",
   "metadata": {},
   "outputs": [],
   "source": [
    "import os\n",
    "from cnf import CNF\n",
    "import numpy as np"
   ]
  },
  {
   "cell_type": "code",
   "execution_count": 2,
   "id": "02c3202b",
   "metadata": {},
   "outputs": [],
   "source": [
    "import random\n",
    "import torch\n",
    "import torch.nn as nn\n",
    "import torch.nn.functional as F\n",
    "import torch.optim as optim\n",
    "from torch.distributions import Categorical"
   ]
  },
  {
   "cell_type": "code",
   "execution_count": 78,
   "id": "9317f3fc",
   "metadata": {},
   "outputs": [],
   "source": [
    "class Net(nn.Module):\n",
    "    def __init__(self, h=5):\n",
    "        super(Net, self).__init__()\n",
    "        self.lin = nn.Linear(3, h)\n",
    "        self.lin.weight.data.uniform_(-0.001, 0)\n",
    "        self.lin.bias.data.uniform_(-.0001, 0)\n",
    "        self.dropout = nn.Dropout(0.5)\n",
    "        self.lin2 = nn.Linear(h, 1)\n",
    "        self.lin2.weight.data.uniform_(0,0.0001)\n",
    "        self.lin2.bias.data.uniform_(0,0.001)\n",
    "    def forward(self, x):\n",
    "        x = self.lin(x)\n",
    "        x = F.relu(self.dropout(x))\n",
    "        x = self.lin2(x)\n",
    "        return x"
   ]
  },
  {
   "cell_type": "code",
   "execution_count": 79,
   "id": "40367caf",
   "metadata": {},
   "outputs": [],
   "source": [
    "def init_net(model):\n",
    "    with torch.no_grad():\n",
    "        model.lin.weight[0, 0] = 10\n",
    "        model.lin2.weight[0, 0] = -1"
   ]
  },
  {
   "cell_type": "code",
   "execution_count": 4,
   "id": "9275b732",
   "metadata": {},
   "outputs": [],
   "source": [
    "class Net2(nn.Module):\n",
    "    def __init__(self):\n",
    "        super(Net2, self).__init__()\n",
    "        self.lin = nn.Linear(3, 1)\n",
    "        self.lin.weight.data.uniform_(0,0.01)\n",
    "    def forward(self, x):\n",
    "        x = self.lin(x)\n",
    "        return x"
   ]
  },
  {
   "cell_type": "code",
   "execution_count": 73,
   "id": "57d5dc46",
   "metadata": {},
   "outputs": [],
   "source": [
    "def init_net2(policy):\n",
    "    with torch.no_grad():\n",
    "        policy.lin.weight[0, 0] = -1\n",
    "        policy.lin.weight[0, 1] = 0\n",
    "        policy.lin.weight[0, 2] = 0\n",
    "        policy.lin.bias[0] = 0"
   ]
  },
  {
   "cell_type": "code",
   "execution_count": 5,
   "id": "2f8c8dfa",
   "metadata": {},
   "outputs": [],
   "source": [
    "def load_dir(path):\n",
    "    data = []\n",
    "    for filename in os.listdir(path):\n",
    "        name, ext = os.path.splitext(filename)\n",
    "        if ext != '.cnf':\n",
    "            continue\n",
    "        f = CNF.from_file(os.path.join(path, filename))\n",
    "        data.append(f)\n",
    "    return data"
   ]
  },
  {
   "cell_type": "code",
   "execution_count": 6,
   "id": "ae962f21",
   "metadata": {},
   "outputs": [],
   "source": [
    "def select_variable_reinforce(x, policy):\n",
    "    logit = policy(x)\n",
    "    prob = F.softmax(logit, dim=0)\n",
    "    dist = Categorical(prob.view(-1))\n",
    "    v = dist.sample()\n",
    "    return v, dist.log_prob(v)"
   ]
  },
  {
   "cell_type": "code",
   "execution_count": 7,
   "id": "aa233370",
   "metadata": {},
   "outputs": [],
   "source": [
    "def compute_true_lit_count(clauses, sol):\n",
    "    n_clauses = len(clauses)\n",
    "    true_lit_count = [0] * n_clauses\n",
    "    for i in range(n_clauses):\n",
    "        for lit in clauses[i]:\n",
    "            if sol[abs(lit)] == lit:\n",
    "                true_lit_count[i] += 1\n",
    "    return true_lit_count"
   ]
  },
  {
   "cell_type": "code",
   "execution_count": 8,
   "id": "d4c9ad0f",
   "metadata": {},
   "outputs": [],
   "source": [
    "def do_flip(sol, true_lit_count, literal, occur_list):\n",
    "    for i in occur_list[literal]:\n",
    "        true_lit_count[i] += 1\n",
    "    for i in occur_list[-literal]:\n",
    "        true_lit_count[i] -= 1\n",
    "    sol[abs(literal)] *= -1"
   ]
  },
  {
   "cell_type": "code",
   "execution_count": 91,
   "id": "2d275a7b",
   "metadata": {},
   "outputs": [],
   "source": [
    "# this needs to be more efficient\n",
    "# consider a subset of the unsat clauses\n",
    "def stats_per_clause(f, last_10, true_lit_count, unsat_clause):\n",
    "    \"\"\" computes the featutes needed for the model\n",
    "    \"\"\"\n",
    "    r = f.n_variables/ len(f.clauses)\n",
    "    variables = [abs(v) for v in unsat_clause]\n",
    "    breaks = np.zeros(len(variables))\n",
    "    last_5 = last_10[:5]\n",
    "    for i, literal in enumerate(unsat_clause):\n",
    "        broken_count = 0\n",
    "        for index in f.occur_list[-literal]:\n",
    "            if true_lit_count[index] == 1:\n",
    "                broken_count += 1\n",
    "        breaks[i] = broken_count\n",
    "    in_last_10 = np.array([int(i + 1 in last_10) for i in variables]) \n",
    "    in_last_5 = np.array([int(i + 1 in last_5) for i in variables]) \n",
    "    return np.stack([breaks, in_last_10, in_last_5], axis=1)"
   ]
  },
  {
   "cell_type": "code",
   "execution_count": 10,
   "id": "ec94a735",
   "metadata": {},
   "outputs": [],
   "source": [
    "def walksat_step(f, true_lit_count, unsat_clause):\n",
    "    \"\"\"Returns chosen literal\"\"\"\n",
    "    broken_min = float('inf')\n",
    "    min_breaking_lits = []\n",
    "    for literal in unsat_clause:\n",
    "        broken_count = 0\n",
    "        for index in f.occur_list[-literal]:\n",
    "            if true_lit_count[index] == 1:\n",
    "                broken_count += 1\n",
    "            if broken_count > broken_min:\n",
    "                break\n",
    "        if broken_count < broken_min:\n",
    "            broken_min = broken_count\n",
    "            min_breaking_lits = [literal]\n",
    "        elif broken_count == broken_min:\n",
    "            min_breaking_lits.append(literal)\n",
    "    return abs(random.choice(min_breaking_lits))"
   ]
  },
  {
   "cell_type": "code",
   "execution_count": 11,
   "id": "3aeec828",
   "metadata": {},
   "outputs": [],
   "source": [
    "def reinforce_step(f, policy, last_10, true_lit_count, unsat_clause):\n",
    "    x = stats_per_clause(f, last_10, true_lit_count, unsat_clause)\n",
    "    x = torch.from_numpy(x).float()\n",
    "    index, log_prob = select_variable_reinforce(x, policy)\n",
    "    literal = unsat_clause[index]\n",
    "    return literal, log_prob, last_10"
   ]
  },
  {
   "cell_type": "code",
   "execution_count": 12,
   "id": "5c3b8b01",
   "metadata": {},
   "outputs": [],
   "source": [
    "def generate_episode_reinforce(f, policy, max_flips, walk_prob=0.5, walksat=False):\n",
    "    sol = [x if random.random() < 0.5 else -x for x in range(f.n_variables + 1)]\n",
    "    true_lit_count = compute_true_lit_count(f.clauses, sol)\n",
    "    log_probs = []\n",
    "    flips = 0\n",
    "    flipped = set()\n",
    "    backflipped = 0\n",
    "    unsat_clauses = []\n",
    "    last_10 = [0]*10\n",
    "    while flips < max_flips:\n",
    "        unsat_clause_indices = [k for k in range(len(f.clauses)) if true_lit_count[k] == 0]\n",
    "        unsat_clauses.append(len(unsat_clause_indices))\n",
    "        sat = not unsat_clause_indices\n",
    "        if sat:\n",
    "            break\n",
    "        unsat_clause = f.clauses[random.choice(unsat_clause_indices)]\n",
    "        if random.random() < walk_prob:\n",
    "            literal, log_prob = random.choice(unsat_clause), None\n",
    "        else:\n",
    "            if walksat:\n",
    "                literal = walksat_step(f, true_lit_count, unsat_clause)\n",
    "                log_prob = None\n",
    "            else:\n",
    "                literal, log_prob, last_10 = reinforce_step(f, policy, last_10, true_lit_count, unsat_clause)\n",
    "            v = abs(literal)\n",
    "            if v not in flipped:\n",
    "                flipped.add(v)\n",
    "                last_10.insert(0, v)\n",
    "                last_10 = last_10[:10]\n",
    "            else:\n",
    "                backflipped += 1\n",
    "        do_flip(sol, true_lit_count, literal, f.occur_list)\n",
    "        flips += 1\n",
    "        log_probs.append(log_prob)\n",
    "    return sat, (flips, backflipped, unsat_clauses), (log_probs,)"
   ]
  },
  {
   "cell_type": "code",
   "execution_count": 13,
   "id": "287bfc44",
   "metadata": {},
   "outputs": [],
   "source": [
    "def reinforce_loss(history, discount):\n",
    "    log_probs_list = history[0]\n",
    "    T = len(log_probs_list)\n",
    "    log_probs_filtered = []\n",
    "    mask = np.zeros(T, dtype=bool)\n",
    "    for i, x in enumerate(log_probs_list):\n",
    "        if x is not None:\n",
    "            log_probs_filtered.append(x)\n",
    "            mask[i] = 1\n",
    "\n",
    "    log_probs = torch.stack(log_probs_filtered)\n",
    "    partial_rewards = discount ** torch.arange(T - 1, -1, -1, dtype=torch.float32, device=log_probs.device)\n",
    "    return -torch.mean(partial_rewards[torch.from_numpy(mask).to(log_probs.device)] * log_probs)"
   ]
  },
  {
   "cell_type": "code",
   "execution_count": 14,
   "id": "8a6edb3a",
   "metadata": {},
   "outputs": [],
   "source": [
    "def generate_episodes(policy, f, max_fries, max_flips, discount, walk_prob, walksat):\n",
    "    flips_stats = []\n",
    "    losses = []\n",
    "    backflips = []\n",
    "    num_sols = 0\n",
    "    for i in range(max_tries):\n",
    "        out = generate_episode_reinforce(f, policy, max_flips, walk_prob, walksat)\n",
    "        sat, (flips, backflipped, unsat_clauses), history = out\n",
    "    \n",
    "        flips_stats.append(flips)\n",
    "        backflips.append(backflipped)\n",
    "        if sat and flips > 0 and not all(map(lambda x: x is None, history[0])):\n",
    "            loss = reinforce_loss(history, discount)\n",
    "            losses.append(loss)\n",
    "        num_sols += sat    \n",
    "    if losses:\n",
    "        losses = torch.stack(losses).sum()  \n",
    "    return np.mean(flips), np.mean(backflips), losses, num_sols/max_tries"
   ]
  },
  {
   "cell_type": "code",
   "execution_count": 15,
   "id": "a17e70bf",
   "metadata": {},
   "outputs": [],
   "source": [
    "def evaluate(policy, data, max_tries, max_flips, discount, walk_prob=.5, walksat=False):\n",
    "    mean_flips = []\n",
    "    mean_backflips = []\n",
    "    mean_losses = []\n",
    "    accuracy = []\n",
    "    policy.eval()\n",
    "    for f in data:\n",
    "        flips, backflips, losses, acc = generate_episodes(policy, f, max_tries, max_flips, discount,\n",
    "                                                          walk_prob, walksat)\n",
    "        mean_flips.append(flips)\n",
    "        mean_backflips.append(backflips)\n",
    "        if losses:\n",
    "            mean_losses.append(losses.item())\n",
    "        accuracy.append(acc)\n",
    "        mean_loss = None\n",
    "        if mean_losses:\n",
    "            mean_loss = np.mean(mean_losses)\n",
    "    print(np.mean(mean_flips), np.mean(mean_backflips), mean_loss, np.mean(accuracy))"
   ]
  },
  {
   "cell_type": "code",
   "execution_count": 16,
   "id": "73d7b078",
   "metadata": {},
   "outputs": [],
   "source": [
    "def train_epoch(policy, optimizer, data, max_tries = 10, max_flips = 10000, discount = 0.5, walk_prob=.5):\n",
    "    losses = []\n",
    "    for f in data:\n",
    "        policy.train()\n",
    "        flips, backflips, loss, acc = generate_episodes(\n",
    "            policy, f, max_tries, max_flips, discount, walk_prob, False)\n",
    "        if acc > 0:\n",
    "            optimizer.zero_grad()\n",
    "            loss.backward()\n",
    "            optimizer.step()\n",
    "            losses.append(loss.item())\n",
    "    print(np.mean(losses))"
   ]
  },
  {
   "cell_type": "code",
   "execution_count": 17,
   "id": "2ecb0763",
   "metadata": {},
   "outputs": [],
   "source": [
    "def change_lr(optimizer, lr):\n",
    "    for g in optimizer.param_groups:\n",
    "        g['lr'] = lr"
   ]
  },
  {
   "cell_type": "code",
   "execution_count": 18,
   "id": "29037f2a",
   "metadata": {},
   "outputs": [],
   "source": [
    "train_ds = load_dir(\"../data/rand3sat/10-43\")\n",
    "#val_ds = load_dir(\"../data/rand3sat/25-106\")"
   ]
  },
  {
   "cell_type": "code",
   "execution_count": 25,
   "id": "f5ae3603",
   "metadata": {},
   "outputs": [
    {
     "data": {
      "text/plain": [
       "(1900, 100)"
      ]
     },
     "execution_count": 25,
     "metadata": {},
     "output_type": "execute_result"
    }
   ],
   "source": [
    "train_ds = load_dir(\"../data/rand3sat/25-106\")\n",
    "#val_ds = load_dir(\"../data/rand3sat/25-106\")\n",
    "val_ds = train_ds[1900:]\n",
    "train_ds = train_ds[:1900]\n",
    "len(train_ds), len(val_ds)"
   ]
  },
  {
   "cell_type": "code",
   "execution_count": 80,
   "id": "d5c035a6",
   "metadata": {},
   "outputs": [],
   "source": [
    "policy = Net()\n",
    "optimizer = optim.RMSprop(policy.parameters(), lr=0.01, weight_decay=1e-5)\n",
    "max_tries = 10\n",
    "max_flips = 10000"
   ]
  },
  {
   "cell_type": "code",
   "execution_count": 81,
   "id": "a6b1c240",
   "metadata": {},
   "outputs": [],
   "source": [
    "init_net(policy)"
   ]
  },
  {
   "cell_type": "code",
   "execution_count": 82,
   "id": "e6f033b3",
   "metadata": {},
   "outputs": [
    {
     "data": {
      "text/plain": [
       "Parameter containing:\n",
       "tensor([[-1.0000e+00,  8.6174e-05,  2.7535e-05,  6.9441e-05,  4.5019e-05]],\n",
       "       requires_grad=True)"
      ]
     },
     "execution_count": 82,
     "metadata": {},
     "output_type": "execute_result"
    }
   ],
   "source": [
    "policy.lin2.weight"
   ]
  },
  {
   "cell_type": "code",
   "execution_count": 28,
   "id": "fa6f00e9",
   "metadata": {},
   "outputs": [
    {
     "name": "stdout",
     "output_type": "stream",
     "text": [
      "70.27 20.523999999999997 None 1.0\n",
      "65.62 19.508000000000003 None 1.0\n",
      "70.35 20.115 None 1.0\n"
     ]
    }
   ],
   "source": [
    "for i in range(3):\n",
    "    evaluate(policy, val_ds , max_tries, max_flips, 0.5, 0.5, walksat=True)"
   ]
  },
  {
   "cell_type": "code",
   "execution_count": 50,
   "id": "7ac93664",
   "metadata": {},
   "outputs": [
    {
     "name": "stdout",
     "output_type": "stream",
     "text": [
      "137.04 66.489 0.08295307789696381 0.9990000000000001\n",
      "135.61 64.2 0.08592267288826407 1.0\n",
      "160.76 63.029999999999994 0.0900525104929693 1.0\n"
     ]
    }
   ],
   "source": [
    "for i in range(3):\n",
    "    evaluate(policy, val_ds , max_tries, max_flips, 0.5, 0.5)"
   ]
  },
  {
   "cell_type": "code",
   "execution_count": 83,
   "id": "ca9bc67f",
   "metadata": {},
   "outputs": [
    {
     "name": "stdout",
     "output_type": "stream",
     "text": [
      "168.37 59.137999999999984 0.08420275656040759 1.0\n",
      "183.32 67.34100000000001 0.08476282902061939 1.0\n",
      "234.61 69.435 0.08331708039157093 1.0\n"
     ]
    }
   ],
   "source": [
    "for i in range(3):\n",
    "    evaluate(policy, val_ds , max_tries, max_flips, 0.5, 0.5)"
   ]
  },
  {
   "cell_type": "code",
   "execution_count": 207,
   "id": "a431c304",
   "metadata": {},
   "outputs": [
    {
     "name": "stdout",
     "output_type": "stream",
     "text": [
      "0.8294109015241266\n"
     ]
    }
   ],
   "source": [
    "train_epoch(policy, optimizer, train_ds[:500], walk_prob=.5)"
   ]
  },
  {
   "cell_type": "code",
   "execution_count": 86,
   "id": "458dfece",
   "metadata": {},
   "outputs": [
    {
     "data": {
      "text/plain": [
       "(1900, 100)"
      ]
     },
     "execution_count": 86,
     "metadata": {},
     "output_type": "execute_result"
    }
   ],
   "source": [
    "train_ds = load_dir(\"../data/kcolor/4-15-0.5/\")\n",
    "train_ds = load_dir(\"../data/kcolor/3-10-0.5/\")\n",
    "val_ds = train_ds[1900:]\n",
    "train_ds = train_ds[:1900]\n",
    "len(train_ds), len(val_ds)"
   ]
  },
  {
   "cell_type": "code",
   "execution_count": 87,
   "id": "de4e226e",
   "metadata": {},
   "outputs": [],
   "source": [
    "policy = Net()\n",
    "optimizer = optim.RMSprop(policy.parameters(), lr=0.001, weight_decay=1e-5)\n",
    "max_tries = 10\n",
    "max_flips = 10000"
   ]
  },
  {
   "cell_type": "code",
   "execution_count": 88,
   "id": "c3c55f82",
   "metadata": {},
   "outputs": [],
   "source": [
    "init_net(policy)"
   ]
  },
  {
   "cell_type": "code",
   "execution_count": 89,
   "id": "230f7a31",
   "metadata": {},
   "outputs": [
    {
     "name": "stdout",
     "output_type": "stream",
     "text": [
      "47.77 11.647 None 1.0\n",
      "50.96 11.69 None 1.0\n",
      "47.4 11.472999999999999 None 1.0\n"
     ]
    }
   ],
   "source": [
    "for i in range(3):\n",
    "    evaluate(policy, val_ds , max_tries, max_flips, discount=0.5, walk_prob=.5, walksat=True)"
   ]
  },
  {
   "cell_type": "code",
   "execution_count": 90,
   "id": "daba47cc",
   "metadata": {},
   "outputs": [
    {
     "name": "stdout",
     "output_type": "stream",
     "text": [
      "67.14 17.039 0.14500915387645363 1.0\n",
      "68.77 17.336000000000002 0.15029805906116964 1.0\n",
      "65.06 17.078999999999997 0.14786683354526758 1.0\n"
     ]
    }
   ],
   "source": [
    "for i in range(3):\n",
    "    evaluate(policy, val_ds , max_tries, max_flips, discount=0.5, walk_prob=.5)"
   ]
  },
  {
   "cell_type": "code",
   "execution_count": 92,
   "id": "a21eb27f",
   "metadata": {},
   "outputs": [
    {
     "name": "stdout",
     "output_type": "stream",
     "text": [
      "0.15667497039586306\n"
     ]
    }
   ],
   "source": [
    "train_epoch(policy, optimizer, train_ds[:1000], walk_prob=.5, discount=0.5)"
   ]
  },
  {
   "cell_type": "code",
   "execution_count": 93,
   "id": "12ee40d0",
   "metadata": {},
   "outputs": [
    {
     "name": "stdout",
     "output_type": "stream",
     "text": [
      "59.22 18.176 0.15272776201367377 1.0\n",
      "65.53 18.135 0.14240527544170617 1.0\n",
      "70.62 18.245 0.1481259680353105 1.0\n"
     ]
    }
   ],
   "source": [
    "for i in range(3):\n",
    "    evaluate(policy, val_ds, max_tries, max_flips, discount=0.5, walk_prob=.5)"
   ]
  },
  {
   "cell_type": "code",
   "execution_count": null,
   "id": "76944d04",
   "metadata": {},
   "outputs": [],
   "source": [
    "train_epoch(policy, optimizer, train_ds[500:1500], walk_prob=.5, discount = 0.5)"
   ]
  },
  {
   "cell_type": "code",
   "execution_count": null,
   "id": "b1e456aa",
   "metadata": {},
   "outputs": [],
   "source": [
    "for i in range(3):\n",
    "    evaluate(policy, val_ds, max_tries, max_flips, discount=0.5, walk_prob=.5)"
   ]
  },
  {
   "cell_type": "code",
   "execution_count": 76,
   "id": "354b0280",
   "metadata": {},
   "outputs": [
    {
     "name": "stdout",
     "output_type": "stream",
     "text": [
      "0.23761244366131723\n"
     ]
    }
   ],
   "source": [
    "train_epoch(policy, optimizer, train_ds[500:1500], walk_prob=.5, discount = 0.5)"
   ]
  },
  {
   "cell_type": "code",
   "execution_count": 77,
   "id": "55331e2c",
   "metadata": {},
   "outputs": [
    {
     "name": "stdout",
     "output_type": "stream",
     "text": [
      "161.09 64.67200000000001 0.2483160090446472 1.0\n",
      "169.22 72.015 0.25875902105122806 1.0\n",
      "181.51 62.083999999999996 0.26591289695352316 1.0\n"
     ]
    }
   ],
   "source": [
    "for i in range(3):\n",
    "    evaluate(policy, val_ds, max_tries, max_flips, discount=0.5, walk_prob=.5)"
   ]
  },
  {
   "cell_type": "code",
   "execution_count": 78,
   "id": "3ac4b470",
   "metadata": {},
   "outputs": [
    {
     "name": "stdout",
     "output_type": "stream",
     "text": [
      "0.21902772487673378\n"
     ]
    }
   ],
   "source": [
    "train_epoch(policy, optimizer, train_ds[500:1900], walk_prob=.5, discount = 0.5)"
   ]
  },
  {
   "cell_type": "code",
   "execution_count": 79,
   "id": "260d1437",
   "metadata": {},
   "outputs": [
    {
     "name": "stdout",
     "output_type": "stream",
     "text": [
      "137.88 54.611999999999995 0.2724594607204199 1.0\n",
      "191.53 57.958999999999996 0.25007543120533227 1.0\n",
      "156.28 61.147 0.27258397758007047 1.0\n"
     ]
    }
   ],
   "source": [
    "for i in range(3):\n",
    "    evaluate(policy, val_ds, max_tries, max_flips, discount=0.5, walk_prob=.5)"
   ]
  },
  {
   "cell_type": "code",
   "execution_count": 80,
   "id": "26b5d610",
   "metadata": {},
   "outputs": [
    {
     "name": "stdout",
     "output_type": "stream",
     "text": [
      "0.210308761643736\n"
     ]
    }
   ],
   "source": [
    "train_epoch(policy, optimizer, train_ds, walk_prob=.5, discount = 0.5)"
   ]
  },
  {
   "cell_type": "code",
   "execution_count": 81,
   "id": "8b2e716f",
   "metadata": {},
   "outputs": [
    {
     "name": "stdout",
     "output_type": "stream",
     "text": [
      "134.7 50.357000000000006 0.2677038526907563 1.0\n",
      "112.72 46.394 0.27576946139335634 1.0\n",
      "124.73 46.220000000000006 0.25905397575348615 1.0\n"
     ]
    }
   ],
   "source": [
    "for i in range(3):\n",
    "    evaluate(policy, val_ds, max_tries, max_flips, discount=0.5, walk_prob=.5)"
   ]
  },
  {
   "cell_type": "code",
   "execution_count": 82,
   "id": "930b5556",
   "metadata": {},
   "outputs": [
    {
     "name": "stdout",
     "output_type": "stream",
     "text": [
      "0.20099698880687356\n",
      "121.66 45.887 0.26536831188946963 1.0\n",
      "140.23 43.32200000000001 0.23908030308783054 1.0\n",
      "150.35 43.584999999999994 0.2926462286710739 1.0\n"
     ]
    }
   ],
   "source": [
    "train_epoch(policy, optimizer, train_ds, walk_prob=.5, discount = 0.5)\n",
    "for i in range(3):\n",
    "    evaluate(policy, val_ds, max_tries, max_flips, discount=0.5, walk_prob=.5)"
   ]
  },
  {
   "cell_type": "code",
   "execution_count": 83,
   "id": "83dc4b0d",
   "metadata": {},
   "outputs": [
    {
     "name": "stdout",
     "output_type": "stream",
     "text": [
      "0.19399403272000582\n",
      "129.07 40.751999999999995 0.29220971882343294 1.0\n",
      "123.3 41.93299999999999 0.2670344277843833 1.0\n",
      "128.87 43.587999999999994 0.23773450043052435 1.0\n"
     ]
    }
   ],
   "source": [
    "train_epoch(policy, optimizer, train_ds, walk_prob=.5, discount = 0.5)\n",
    "for i in range(3):\n",
    "    evaluate(policy, val_ds, max_tries, max_flips, discount=0.5, walk_prob=.5)"
   ]
  },
  {
   "cell_type": "code",
   "execution_count": 40,
   "id": "c53d0348",
   "metadata": {},
   "outputs": [
    {
     "data": {
      "text/plain": [
       "2.4596031111569494"
      ]
     },
     "execution_count": 40,
     "metadata": {},
     "output_type": "execute_result"
    }
   ],
   "source": [
    "(np.e)**0.9"
   ]
  },
  {
   "cell_type": "code",
   "execution_count": null,
   "id": "732e0bc9",
   "metadata": {},
   "outputs": [],
   "source": []
  }
 ],
 "metadata": {
  "kernelspec": {
   "display_name": "Python 3 (ipykernel)",
   "language": "python",
   "name": "python3"
  },
  "language_info": {
   "codemirror_mode": {
    "name": "ipython",
    "version": 3
   },
   "file_extension": ".py",
   "mimetype": "text/x-python",
   "name": "python",
   "nbconvert_exporter": "python",
   "pygments_lexer": "ipython3",
   "version": "3.8.13"
  }
 },
 "nbformat": 4,
 "nbformat_minor": 5
}
