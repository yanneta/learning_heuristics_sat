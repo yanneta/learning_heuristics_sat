{
 "cells": [
  {
   "cell_type": "code",
   "execution_count": 1,
   "id": "4600d017",
   "metadata": {},
   "outputs": [],
   "source": [
    "import os\n",
    "from cnf import CNF\n",
    "import numpy as np"
   ]
  },
  {
   "cell_type": "code",
   "execution_count": 2,
   "id": "02c3202b",
   "metadata": {},
   "outputs": [],
   "source": [
    "import random\n",
    "import torch\n",
    "import torch.nn as nn\n",
    "import torch.nn.functional as F\n",
    "import torch.optim as optim\n",
    "from torch.distributions import Categorical"
   ]
  },
  {
   "cell_type": "code",
   "execution_count": 63,
   "id": "9317f3fc",
   "metadata": {},
   "outputs": [],
   "source": [
    "class Net(nn.Module):\n",
    "    def __init__(self, h=5):\n",
    "        super(Net, self).__init__()\n",
    "        self.lin = nn.Linear(4, h)\n",
    "        self.dropout = nn.Dropout(0.5)\n",
    "        self.lin2 = nn.Linear(h, 1)\n",
    "    def forward(self, x):\n",
    "        x = self.lin(x)\n",
    "        x = F.relu(self.dropout(x))\n",
    "        x = self.lin2(x)\n",
    "        return x"
   ]
  },
  {
   "cell_type": "code",
   "execution_count": 4,
   "id": "1b2f3958",
   "metadata": {},
   "outputs": [],
   "source": [
    "def init_net(model):\n",
    "    with torch.no_grad():\n",
    "        model.lin.weight[0, 0] = 10\n",
    "        model.lin2.weight[0, 0] = -1"
   ]
  },
  {
   "cell_type": "code",
   "execution_count": 5,
   "id": "9275b732",
   "metadata": {},
   "outputs": [],
   "source": [
    "class Net2(nn.Module):\n",
    "    def __init__(self):\n",
    "        super(Net2, self).__init__()\n",
    "        self.lin = nn.Linear(4, 1)\n",
    "    def forward(self, x):\n",
    "        x = self.lin(x)\n",
    "        return x"
   ]
  },
  {
   "cell_type": "code",
   "execution_count": 6,
   "id": "8bb95c82",
   "metadata": {},
   "outputs": [],
   "source": [
    "def init_net2(policy):\n",
    "    with torch.no_grad():\n",
    "        policy.lin.weight[0, 0] = -1\n",
    "        policy.lin.weight[0, 1] = 0\n",
    "        policy.lin.weight[0, 2] = 0\n",
    "        policy.lin.weight[0, 3] = 0\n",
    "        policy.lin.bias[0] = 0"
   ]
  },
  {
   "cell_type": "code",
   "execution_count": 17,
   "id": "2f8c8dfa",
   "metadata": {},
   "outputs": [],
   "source": [
    "def load_dir(path):\n",
    "    data = []\n",
    "    for filename in os.listdir(path):\n",
    "        name, ext = os.path.splitext(filename)\n",
    "        if ext != '.cnf':\n",
    "            continue\n",
    "        f = CNF.from_file(os.path.join(path, filename))\n",
    "        data.append(f)\n",
    "    return data"
   ]
  },
  {
   "cell_type": "code",
   "execution_count": 8,
   "id": "e11bbb38",
   "metadata": {},
   "outputs": [],
   "source": [
    "class WalkSATLN:\n",
    "    def __init__(self, policy, max_tries, max_flips, p=0.5, discount=0.5):\n",
    "        self.policy = policy\n",
    "        self.max_tries = max_tries\n",
    "        self.max_flips = max_flips\n",
    "        self.p = p\n",
    "        self.discount = discount\n",
    "        self.flips_to_solution = []\n",
    "        self.backflips = []\n",
    "        self.unsat_clauses = []\n",
    "        self.age = []\n",
    "        self.last_10 = []\n",
    "        self.sol = []\n",
    "        \n",
    "    def compute_true_lit_count(self, clauses):\n",
    "        n_clauses = len(clauses)\n",
    "        true_lit_count = [0] * n_clauses\n",
    "        for index in range(n_clauses):\n",
    "            for literal in clauses[index]:\n",
    "                if self.sol[abs(literal)] == literal:\n",
    "                    true_lit_count[index] += 1\n",
    "        return true_lit_count\n",
    "    \n",
    "    def select_variable_reinforce(self, x):\n",
    "        logit = self.policy(x)\n",
    "        prob = F.softmax(logit, dim=0)\n",
    "        dist = Categorical(prob.view(-1))\n",
    "        v = dist.sample()\n",
    "        return v, dist.log_prob(v)\n",
    "    \n",
    "    def do_flip(self, literal, occur_list):\n",
    "        for i in occur_list[literal]:\n",
    "            self.true_lit_count[i] += 1\n",
    "        for i in occur_list[-literal]:\n",
    "            self.true_lit_count[i] -= 1\n",
    "        self.sol[abs(literal)] *= -1\n",
    "        \n",
    "    def stats_per_clause(self, f, unsat_clause):\n",
    "        \"\"\" computes the featutes needed for the model\n",
    "        \"\"\" \n",
    "        r = f.n_variables/ len(f.clauses)\n",
    "        variables = [abs(v) for v in unsat_clause]\n",
    "        breaks = np.zeros(len(variables))\n",
    "        last_5 = self.last_10[:5]\n",
    "        for i, literal in enumerate(unsat_clause):\n",
    "            broken_count = 0\n",
    "            for index in f.occur_list[-literal]:\n",
    "                if self.true_lit_count[index] == 1:\n",
    "                    broken_count += 1\n",
    "            breaks[i] = broken_count\n",
    "        in_last_10 = np.array([int(v in self.last_10) for v in variables]) \n",
    "        age = np.array([self.age[v] for v in variables])/(self.age[0] + 1)\n",
    "        in_last_5 = np.array([int(v in last_5) for v in variables]) \n",
    "        return np.stack([breaks, in_last_10, in_last_5, age], axis=1)\n",
    "    \n",
    "    def walksat_step(self, f, unsat_clause):\n",
    "        \"\"\"Returns chosen literal\"\"\"\n",
    "        broken_min = float('inf')\n",
    "        min_breaking_lits = []\n",
    "        for literal in unsat_clause:\n",
    "            broken_count = 0\n",
    "            for index in f.occur_list[-literal]:\n",
    "                if self.true_lit_count[index] == 1:\n",
    "                    broken_count += 1\n",
    "                if broken_count > broken_min:\n",
    "                    break\n",
    "            if broken_count < broken_min:\n",
    "                broken_min = broken_count\n",
    "                min_breaking_lits = [literal]\n",
    "            elif broken_count == broken_min:\n",
    "                min_breaking_lits.append(literal)\n",
    "        return abs(random.choice(min_breaking_lits))\n",
    "    \n",
    "    def reinforce_step(self, f, unsat_clause):\n",
    "        x = self.stats_per_clause(f, unsat_clause)\n",
    "        x = torch.from_numpy(x).float()\n",
    "        index, log_prob = self.select_variable_reinforce(x)\n",
    "        literal = unsat_clause[index]\n",
    "        return literal, log_prob\n",
    "    \n",
    "    def generate_episode_reinforce(self, f, walksat):\n",
    "        self.sol = [x if random.random() < 0.5 else -x for x in range(f.n_variables + 1)]\n",
    "        self.true_lit_count = self.compute_true_lit_count(f.clauses)\n",
    "        self.age = np.zeros(f.n_variables + 1)\n",
    "        log_probs = []\n",
    "        flips = 0\n",
    "        flipped = set()\n",
    "        backflipped = 0\n",
    "        while flips < max_flips:\n",
    "            unsat_clause_indices = [k for k in range(len(f.clauses)) if self.true_lit_count[k] == 0]\n",
    "            sat = not unsat_clause_indices\n",
    "            if sat:\n",
    "                break\n",
    "            unsat_clause = f.clauses[random.choice(unsat_clause_indices)]\n",
    "            log_prob = None\n",
    "            if random.random() < self.p:\n",
    "                literal = random.choice(unsat_clause)\n",
    "            else:\n",
    "                if walksat:\n",
    "                    literal = self.walksat_step(f, unsat_clause)   \n",
    "                else:\n",
    "                    literal, log_prob = self.reinforce_step(f, unsat_clause)\n",
    "                v = abs(literal)\n",
    "                if v not in flipped:\n",
    "                    flipped.add(v)\n",
    "                else:\n",
    "                    backflipped += 1\n",
    "                self.last_10.insert(0, v)\n",
    "                self.last_10 = self.last_10[:10]\n",
    "                self.age[v] = flips\n",
    "            self.do_flip(literal, f.occur_list)\n",
    "            flips += 1\n",
    "            self.age[0] = flips\n",
    "            log_probs.append(log_prob)\n",
    "        return sat, flips, backflipped, log_probs\n",
    "\n",
    "    def reinforce_loss(self, log_probs_list):\n",
    "        T = len(log_probs_list)\n",
    "        log_probs_filtered = []\n",
    "        mask = np.zeros(T, dtype=bool)\n",
    "        for i, x in enumerate(log_probs_list):\n",
    "            if x is not None:\n",
    "                log_probs_filtered.append(x)\n",
    "                mask[i] = 1\n",
    "\n",
    "        log_probs = torch.stack(log_probs_filtered)\n",
    "        p_rewards = self.discount ** torch.arange(T - 1, -1, -1, dtype=torch.float32, device=log_probs.device)\n",
    "        return -torch.mean(p_rewards[torch.from_numpy(mask).to(log_probs.device)] * log_probs)\n",
    "\n",
    "    def generate_episodes(self, f, walksat=False):\n",
    "        flips_stats = []\n",
    "        losses = []\n",
    "        backflips = []\n",
    "        num_sols = 0\n",
    "        for i in range(self.max_tries):\n",
    "            sat, flips, backflipped, log_probs = self.generate_episode_reinforce(f, walksat)\n",
    "            flips_stats.append(flips)\n",
    "            backflips.append(backflipped)\n",
    "            if sat and flips > 0 and not all(map(lambda x: x is None, log_probs)):\n",
    "                loss = self.reinforce_loss(log_probs)\n",
    "                losses.append(loss)\n",
    "            num_sols += sat    \n",
    "        if losses:\n",
    "            losses = torch.stack(losses).sum()  \n",
    "        return np.mean(flips), np.mean(backflips), losses, num_sols/self.max_tries\n",
    "    \n",
    "    \n",
    "    def evaluate(self, data, walksat=False):\n",
    "        mean_flips = []\n",
    "        mean_backflips = []\n",
    "        mean_losses = []\n",
    "        accuracy = []\n",
    "        self.policy.eval()\n",
    "        for f in data:\n",
    "            flips, backflips, losses, acc = self.generate_episodes(f, walksat)\n",
    "            mean_flips.append(flips)\n",
    "            mean_backflips.append(backflips)\n",
    "            if losses:\n",
    "                mean_losses.append(losses.item())\n",
    "            accuracy.append(acc)\n",
    "            mean_loss = None\n",
    "            if mean_losses:\n",
    "                mean_loss = np.mean(mean_losses)\n",
    "        print(np.mean(mean_flips), np.mean(mean_backflips), mean_loss, np.mean(accuracy))\n",
    "        \n",
    "    def train_epoch(self, optimizer, data):\n",
    "        losses = []\n",
    "        for f in data:\n",
    "            self.policy.train()\n",
    "            flips, backflips, loss, acc = self.generate_episodes(f)\n",
    "            if acc > 0:\n",
    "                optimizer.zero_grad()\n",
    "                loss.backward()\n",
    "                optimizer.step()\n",
    "                losses.append(loss.item())\n",
    "        print(np.mean(losses))"
   ]
  },
  {
   "cell_type": "code",
   "execution_count": 9,
   "id": "2ecb0763",
   "metadata": {},
   "outputs": [],
   "source": [
    "def change_lr(optimizer, lr):\n",
    "    for g in optimizer.param_groups:\n",
    "        g['lr'] = lr"
   ]
  },
  {
   "cell_type": "code",
   "execution_count": 10,
   "id": "29037f2a",
   "metadata": {},
   "outputs": [],
   "source": [
    "train_ds = load_dir(\"../data/rand3sat/10-43\")\n",
    "#val_ds = load_dir(\"../data/rand3sat/25-106\")"
   ]
  },
  {
   "cell_type": "code",
   "execution_count": 11,
   "id": "f5ae3603",
   "metadata": {},
   "outputs": [
    {
     "data": {
      "text/plain": [
       "(1900, 100)"
      ]
     },
     "execution_count": 11,
     "metadata": {},
     "output_type": "execute_result"
    }
   ],
   "source": [
    "train_ds = load_dir(\"../data/rand3sat/25-106\")\n",
    "#val_ds = load_dir(\"../data/rand3sat/25-106\")\n",
    "val_ds = train_ds[1900:]\n",
    "train_ds = train_ds[:1900]\n",
    "len(train_ds), len(val_ds)"
   ]
  },
  {
   "cell_type": "code",
   "execution_count": 12,
   "id": "d5c035a6",
   "metadata": {},
   "outputs": [],
   "source": [
    "policy = Net()\n",
    "optimizer = optim.RMSprop(policy.parameters(), lr=0.01, weight_decay=1e-5)\n",
    "max_tries = 10\n",
    "max_flips = 10000"
   ]
  },
  {
   "cell_type": "code",
   "execution_count": 13,
   "id": "00d162e3",
   "metadata": {},
   "outputs": [],
   "source": [
    "init_net(policy)"
   ]
  },
  {
   "cell_type": "code",
   "execution_count": 14,
   "id": "bdb8aa93",
   "metadata": {},
   "outputs": [
    {
     "data": {
      "text/plain": [
       "Parameter containing:\n",
       "tensor([[-1.0000, -0.3289, -0.2722,  0.3029, -0.3633]], requires_grad=True)"
      ]
     },
     "execution_count": 14,
     "metadata": {},
     "output_type": "execute_result"
    }
   ],
   "source": [
    "policy.lin2.weight"
   ]
  },
  {
   "cell_type": "code",
   "execution_count": 15,
   "id": "458dfece",
   "metadata": {},
   "outputs": [
    {
     "data": {
      "text/plain": [
       "(1900, 100)"
      ]
     },
     "execution_count": 15,
     "metadata": {},
     "output_type": "execute_result"
    }
   ],
   "source": [
    "train_ds = load_dir(\"../data/kcolor/4-15-0.5/\")\n",
    "train_ds = load_dir(\"../data/kcolor/3-10-0.5/\")\n",
    "val_ds = train_ds[1900:]\n",
    "train_ds = train_ds[:1900]\n",
    "len(train_ds), len(val_ds)"
   ]
  },
  {
   "cell_type": "code",
   "execution_count": 80,
   "id": "de4e226e",
   "metadata": {},
   "outputs": [],
   "source": [
    "policy = Net2()\n",
    "optimizer = optim.RMSprop(policy.parameters(), lr=0.001, weight_decay=0)\n",
    "max_tries = 10\n",
    "max_flips = 10000"
   ]
  },
  {
   "cell_type": "code",
   "execution_count": 81,
   "id": "3d7f2f3b",
   "metadata": {},
   "outputs": [],
   "source": [
    "init_net2(policy)"
   ]
  },
  {
   "cell_type": "code",
   "execution_count": 82,
   "id": "8527e5c8",
   "metadata": {},
   "outputs": [
    {
     "data": {
      "text/plain": [
       "[Parameter containing:\n",
       " tensor([[-1.,  0.,  0.,  0.]], requires_grad=True),\n",
       " Parameter containing:\n",
       " tensor([0.], requires_grad=True)]"
      ]
     },
     "execution_count": 82,
     "metadata": {},
     "output_type": "execute_result"
    }
   ],
   "source": [
    "#init_net(policy)\n",
    "[p for p in policy.parameters()]"
   ]
  },
  {
   "cell_type": "code",
   "execution_count": 83,
   "id": "6bcadaa6",
   "metadata": {},
   "outputs": [],
   "source": [
    "max_tries = 10\n",
    "max_flips = 10000"
   ]
  },
  {
   "cell_type": "code",
   "execution_count": 84,
   "id": "c0c2f1dd",
   "metadata": {},
   "outputs": [],
   "source": [
    "ls = WalkSATLN(policy, max_tries, max_flips, p=0.5)"
   ]
  },
  {
   "cell_type": "code",
   "execution_count": 85,
   "id": "230f7a31",
   "metadata": {},
   "outputs": [
    {
     "name": "stdout",
     "output_type": "stream",
     "text": [
      "46.58 11.414000000000001 None 1.0\n",
      "45.52 11.923000000000002 None 1.0\n",
      "47.01 11.539000000000001 None 1.0\n"
     ]
    }
   ],
   "source": [
    "for i in range(3):\n",
    "    ls.evaluate(val_ds, walksat=True)"
   ]
  },
  {
   "cell_type": "code",
   "execution_count": 86,
   "id": "ac54f992",
   "metadata": {},
   "outputs": [
    {
     "name": "stdout",
     "output_type": "stream",
     "text": [
      "89.64 29.127000000000002 0.2603824938088655 1.0\n",
      "98.23 30.545 0.2574538692086935 1.0\n",
      "94.22 29.067000000000007 0.25322111681103704 1.0\n"
     ]
    }
   ],
   "source": [
    "for i in range(3):\n",
    "    ls.evaluate(val_ds)"
   ]
  },
  {
   "cell_type": "code",
   "execution_count": 87,
   "id": "a21eb27f",
   "metadata": {},
   "outputs": [
    {
     "name": "stdout",
     "output_type": "stream",
     "text": [
      "0.1812230912164638\n"
     ]
    }
   ],
   "source": [
    "ls.train_epoch(optimizer, train_ds)"
   ]
  },
  {
   "cell_type": "code",
   "execution_count": 88,
   "id": "12ee40d0",
   "metadata": {},
   "outputs": [
    {
     "name": "stdout",
     "output_type": "stream",
     "text": [
      "58.21 12.152999999999999 0.14510542072355748 1.0\n",
      "58.22 12.187000000000003 0.14102069918066262 1.0\n",
      "55.31 12.955 0.1360379394888878 1.0\n"
     ]
    }
   ],
   "source": [
    "for i in range(3):\n",
    "    ls.evaluate(val_ds)"
   ]
  },
  {
   "cell_type": "code",
   "execution_count": 89,
   "id": "b7cd2e02",
   "metadata": {},
   "outputs": [
    {
     "name": "stdout",
     "output_type": "stream",
     "text": [
      "0.12453894591056987\n",
      "50.01 11.043000000000005 0.11110588377341628 1.0\n",
      "0.10370882746616476\n",
      "48.02 10.163999999999998 0.10437269033864141 1.0\n",
      "0.09388547586620247\n",
      "57.51 9.96 0.09492984515614808 1.0\n",
      "0.08792231511483949\n",
      "46.17 9.558 0.08627009075134992 1.0\n",
      "0.08383730543581279\n",
      "48.29 9.048 0.08164749088697136 1.0\n",
      "0.0819346508753829\n",
      "46.43 9.223 0.07573967995122075 1.0\n",
      "0.07892688288230841\n",
      "44.93 10.091999999999999 0.082134427735582 1.0\n",
      "0.07633932366538303\n",
      "48.02 9.06 0.07406406317371875 1.0\n",
      "0.0770908094403383\n",
      "49.24 9.122 0.07616797674447298 1.0\n",
      "0.07556656423490495\n",
      "45.82 9.402000000000001 0.07587006560293957 1.0\n"
     ]
    }
   ],
   "source": [
    "for j in range(10):\n",
    "    ls.train_epoch(optimizer, train_ds)\n",
    "    ls.evaluate(val_ds)"
   ]
  },
  {
   "cell_type": "code",
   "execution_count": 90,
   "id": "4052fe6c",
   "metadata": {},
   "outputs": [
    {
     "name": "stdout",
     "output_type": "stream",
     "text": [
      "51.37 9.123 0.08137148874811828 1.0\n",
      "44.49 9.124999999999998 0.07867962806951255 1.0\n",
      "45.86 8.37 0.07515300078783184 1.0\n"
     ]
    }
   ],
   "source": [
    "for i in range(3):\n",
    "    ls.evaluate(val_ds)"
   ]
  },
  {
   "cell_type": "code",
   "execution_count": 91,
   "id": "c4e84ef4",
   "metadata": {},
   "outputs": [
    {
     "name": "stdout",
     "output_type": "stream",
     "text": [
      "0.07313184804632328\n",
      "0.07416222611313539\n",
      "0.07207129431232859\n",
      "0.07216185999225433\n",
      "0.07024976932737781\n"
     ]
    }
   ],
   "source": [
    "for j in range(5):\n",
    "    ls.train_epoch(optimizer, train_ds)"
   ]
  },
  {
   "cell_type": "code",
   "execution_count": 92,
   "id": "b9b0e6ad",
   "metadata": {},
   "outputs": [
    {
     "name": "stdout",
     "output_type": "stream",
     "text": [
      "40.58 8.068000000000001 0.07303019106388092 1.0\n",
      "49.0 8.913 0.06776832322590053 1.0\n",
      "49.04 8.673 0.07228743204846978 1.0\n"
     ]
    }
   ],
   "source": [
    "for i in range(3):\n",
    "    ls.evaluate(val_ds)"
   ]
  },
  {
   "cell_type": "code",
   "execution_count": 93,
   "id": "2bfe71c9",
   "metadata": {},
   "outputs": [
    {
     "data": {
      "text/plain": [
       "[Parameter containing:\n",
       " tensor([[-16.5120,  -1.4553,  -4.0445,  -5.7023]], requires_grad=True),\n",
       " Parameter containing:\n",
       " tensor([-0.0211], requires_grad=True)]"
      ]
     },
     "execution_count": 93,
     "metadata": {},
     "output_type": "execute_result"
    }
   ],
   "source": [
    "[p for p in policy.parameters()]"
   ]
  },
  {
   "cell_type": "code",
   "execution_count": 57,
   "id": "ac773a6b",
   "metadata": {},
   "outputs": [
    {
     "data": {
      "text/plain": [
       "(1800, 160)"
      ]
     },
     "execution_count": 57,
     "metadata": {},
     "output_type": "execute_result"
    }
   ],
   "source": [
    "#train_ds = load_dir(\"../data/rand3sat/25-106\")\n",
    "train_ds = load_dir(\"../data/kclique/3-5-0.2/\")\n",
    "val_ds = train_ds[1800:]\n",
    "train_ds = train_ds[:1800]\n",
    "len(train_ds), len(val_ds)"
   ]
  },
  {
   "cell_type": "code",
   "execution_count": 64,
   "id": "74770965",
   "metadata": {},
   "outputs": [],
   "source": [
    "policy = Net()\n",
    "optimizer = optim.RMSprop(policy.parameters(), lr=0.001, weight_decay=0)\n",
    "#init_net2(policy)\n",
    "max_tries = 10\n",
    "max_flips = 10000"
   ]
  },
  {
   "cell_type": "code",
   "execution_count": 65,
   "id": "48033f14",
   "metadata": {},
   "outputs": [
    {
     "data": {
      "text/plain": [
       "[Parameter containing:\n",
       " tensor([[-0.4709, -0.4295, -0.1632,  0.1809],\n",
       "         [ 0.2581,  0.4259, -0.3950, -0.3905],\n",
       "         [-0.3567, -0.0589, -0.4169, -0.3181],\n",
       "         [-0.0271, -0.4185,  0.4220,  0.3886],\n",
       "         [ 0.4473, -0.2143, -0.3733, -0.0181]], requires_grad=True),\n",
       " Parameter containing:\n",
       " tensor([ 0.1345, -0.3361, -0.2100,  0.0532,  0.2223], requires_grad=True),\n",
       " Parameter containing:\n",
       " tensor([[-0.0039,  0.4246, -0.4139, -0.4040,  0.2209]], requires_grad=True),\n",
       " Parameter containing:\n",
       " tensor([-0.3221], requires_grad=True)]"
      ]
     },
     "execution_count": 65,
     "metadata": {},
     "output_type": "execute_result"
    }
   ],
   "source": [
    "[p for p in policy.parameters()]"
   ]
  },
  {
   "cell_type": "code",
   "execution_count": 66,
   "id": "270d0a7a",
   "metadata": {},
   "outputs": [],
   "source": [
    "ls = WalkSATLN(policy, max_tries, max_flips, p=0.5)"
   ]
  },
  {
   "cell_type": "code",
   "execution_count": 61,
   "id": "12a5248c",
   "metadata": {},
   "outputs": [
    {
     "name": "stdout",
     "output_type": "stream",
     "text": [
      "35.46875 10.08375 None 1.0\n",
      "34.3 10.196250000000001 None 1.0\n",
      "36.10625 10.094999999999999 None 1.0\n"
     ]
    }
   ],
   "source": [
    "for i in range(3):\n",
    "    ls.evaluate(val_ds, walksat=True)"
   ]
  },
  {
   "cell_type": "code",
   "execution_count": 67,
   "id": "c6bed01a",
   "metadata": {},
   "outputs": [
    {
     "name": "stdout",
     "output_type": "stream",
     "text": [
      "191.0625 78.3 0.4523022493813187 1.0\n",
      "199.725 80.59625 0.4411004173569381 1.0\n",
      "182.94375 78.62937500000001 0.4927808415144682 1.0\n"
     ]
    }
   ],
   "source": [
    "for i in range(3):\n",
    "    ls.evaluate(val_ds)"
   ]
  },
  {
   "cell_type": "code",
   "execution_count": 68,
   "id": "465b8ae8",
   "metadata": {},
   "outputs": [
    {
     "name": "stdout",
     "output_type": "stream",
     "text": [
      "0.4302416797582474\n",
      "45.4375 12.6175 0.34005261920392515 1.0\n",
      "0.24499379313292188\n",
      "40.825 11.126249999999999 0.29827029216103257 1.0\n",
      "0.2097663758788258\n",
      "35.71875 10.28875 0.29054862991906705 1.0\n",
      "0.21226228304828207\n",
      "38.05625 9.68 0.26661623902618886 1.0\n",
      "0.20121002536474003\n",
      "34.975 9.391875 0.24267770475707948 1.0\n",
      "0.19861296176392998\n",
      "36.31875 9.13875 0.23618312077596784 1.0\n",
      "0.1950332091645234\n",
      "36.51875 8.960625 0.2220528768375516 1.0\n",
      "0.19326598833522035\n",
      "33.96875 8.698125000000001 0.2086977020604536 1.0\n",
      "0.19179700914227094\n",
      "34.28125 8.068125 0.19989559159148484 1.0\n",
      "0.1934044715630201\n",
      "36.7375 8.42125 0.1954457562416792 1.0\n",
      "0.19226405694615095\n",
      "37.25 8.408750000000001 0.18346511863637716 1.0\n",
      "0.18701020144055494\n",
      "32.975 8.34375 0.18828705131309106 1.0\n",
      "0.18385154952450344\n",
      "36.275 8.055625000000001 0.1708696506684646 1.0\n",
      "0.1842433035528908\n",
      "34.3375 8.20625 0.15983921515289695 1.0\n",
      "0.18066280145430938\n",
      "33.84375 7.78125 0.14616115840617566 1.0\n"
     ]
    }
   ],
   "source": [
    "for j in range(15):\n",
    "    ls.train_epoch(optimizer, train_ds)\n",
    "    ls.evaluate(val_ds)"
   ]
  },
  {
   "cell_type": "code",
   "execution_count": 69,
   "id": "489f67bc",
   "metadata": {},
   "outputs": [
    {
     "name": "stdout",
     "output_type": "stream",
     "text": [
      "0.1900133056889495\n",
      "28.26875 7.88125 0.1598966016783379 1.0\n",
      "0.18571612565622975\n",
      "35.28125 7.835625 0.1493968229740858 1.0\n",
      "0.18074108219783133\n",
      "32.84375 7.983125000000001 0.13599841308314353 1.0\n",
      "0.1765854917262267\n",
      "30.14375 7.8050000000000015 0.13796455648262054 1.0\n",
      "0.1810314372052542\n",
      "32.24375 7.433750000000001 0.1414280461729504 1.0\n",
      "0.1801449193000897\n",
      "34.96875 8.31625 0.13618679160717875 1.0\n",
      "0.18026766701497965\n",
      "32.49375 8.1125 0.13329387855483218 1.0\n",
      "0.16985321175384646\n",
      "34.0 7.7425000000000015 0.14587803810136393 1.0\n",
      "0.17907653575944196\n",
      "33.9125 7.766875000000001 0.11901606121100486 1.0\n",
      "0.17503390257945284\n",
      "33.125 7.799375 0.12751176658202895 1.0\n"
     ]
    }
   ],
   "source": [
    "for j in range(10):\n",
    "    ls.train_epoch(optimizer, train_ds)\n",
    "    ls.evaluate(val_ds)"
   ]
  },
  {
   "cell_type": "code",
   "execution_count": 70,
   "id": "3036decf",
   "metadata": {},
   "outputs": [
    {
     "name": "stdout",
     "output_type": "stream",
     "text": [
      "36.04375 7.583125000000001 0.12679847616236656 1.0\n",
      "31.39375 7.8125 0.12810946155805142 1.0\n",
      "35.2125 8.2875 0.1146646652603522 1.0\n"
     ]
    }
   ],
   "source": [
    "for i in range(3):\n",
    "    ls.evaluate(val_ds)"
   ]
  },
  {
   "cell_type": "code",
   "execution_count": 71,
   "id": "e8fedb5c",
   "metadata": {},
   "outputs": [
    {
     "data": {
      "text/plain": [
       "[Parameter containing:\n",
       " tensor([[-2.4546, -0.5375, -0.4934, -0.9594],\n",
       "         [ 0.0429,  0.2279, -0.4182, -0.5133],\n",
       "         [-0.3567, -0.0589, -0.4169, -0.3181],\n",
       "         [ 2.0970,  0.3866,  0.7357,  0.1994],\n",
       "         [ 2.2783,  0.5436,  0.7418,  0.2649]], requires_grad=True),\n",
       " Parameter containing:\n",
       " tensor([ 2.4530, -0.5514, -0.2100, -1.3267, -1.5038], requires_grad=True),\n",
       " Parameter containing:\n",
       " tensor([[ 6.5825,  0.2712, -0.4139, -3.4072, -2.8941]], requires_grad=True),\n",
       " Parameter containing:\n",
       " tensor([0.0931], requires_grad=True)]"
      ]
     },
     "execution_count": 71,
     "metadata": {},
     "output_type": "execute_result"
    }
   ],
   "source": [
    "[p for p in policy.parameters()]"
   ]
  },
  {
   "cell_type": "code",
   "execution_count": 72,
   "id": "9a33b245",
   "metadata": {},
   "outputs": [],
   "source": [
    "change_lr(optimizer, lr=0.0001)"
   ]
  },
  {
   "cell_type": "code",
   "execution_count": 73,
   "id": "5aac1547",
   "metadata": {},
   "outputs": [
    {
     "name": "stdout",
     "output_type": "stream",
     "text": [
      "0.17591446167090907\n",
      "32.45 7.956874999999999 0.1163583088782616 1.0\n",
      "0.17709127300496524\n",
      "34.25625 7.95875 0.14412777799880133 1.0\n",
      "0.17739224164876052\n",
      "32.79375 8.01625 0.13437118483707308 1.0\n",
      "0.17430420260048574\n",
      "32.46875 7.830625 0.12468807835830376 1.0\n",
      "0.17605081266775313\n",
      "35.6875 8.038749999999999 0.13829632542910986 1.0\n"
     ]
    }
   ],
   "source": [
    "for j in range(5):\n",
    "    ls.train_epoch(optimizer, train_ds)\n",
    "    ls.evaluate(val_ds)"
   ]
  },
  {
   "cell_type": "code",
   "execution_count": 74,
   "id": "54ef516f",
   "metadata": {},
   "outputs": [
    {
     "name": "stdout",
     "output_type": "stream",
     "text": [
      "36.06875 7.825625 0.120837081305217 1.0\n",
      "30.125 7.878750000000001 0.133009365783073 1.0\n",
      "39.49375 8.409375 0.1410188393376302 1.0\n"
     ]
    }
   ],
   "source": [
    "for i in range(3):\n",
    "    ls.evaluate(val_ds)"
   ]
  },
  {
   "cell_type": "code",
   "execution_count": null,
   "id": "fce45d1c",
   "metadata": {},
   "outputs": [],
   "source": []
  }
 ],
 "metadata": {
  "kernelspec": {
   "display_name": "Python 3 (ipykernel)",
   "language": "python",
   "name": "python3"
  },
  "language_info": {
   "codemirror_mode": {
    "name": "ipython",
    "version": 3
   },
   "file_extension": ".py",
   "mimetype": "text/x-python",
   "name": "python",
   "nbconvert_exporter": "python",
   "pygments_lexer": "ipython3",
   "version": "3.8.13"
  }
 },
 "nbformat": 4,
 "nbformat_minor": 5
}
