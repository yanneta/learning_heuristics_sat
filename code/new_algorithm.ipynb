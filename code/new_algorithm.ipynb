{
 "cells": [
  {
   "cell_type": "code",
   "execution_count": 1,
   "id": "4600d017",
   "metadata": {},
   "outputs": [],
   "source": [
    "import os\n",
    "from cnf import CNF\n",
    "import numpy as np"
   ]
  },
  {
   "cell_type": "code",
   "execution_count": 2,
   "id": "02c3202b",
   "metadata": {},
   "outputs": [],
   "source": [
    "import random\n",
    "import torch\n",
    "import torch.nn as nn\n",
    "import torch.nn.functional as F\n",
    "import torch.optim as optim\n",
    "from torch.distributions import Categorical"
   ]
  },
  {
   "cell_type": "code",
   "execution_count": 63,
   "id": "9317f3fc",
   "metadata": {},
   "outputs": [],
   "source": [
    "class Net(nn.Module):\n",
    "    def __init__(self, h=5):\n",
    "        super(Net, self).__init__()\n",
    "        self.lin = nn.Linear(4, h)\n",
    "        self.dropout = nn.Dropout(0.5)\n",
    "        self.lin2 = nn.Linear(h, 1)\n",
    "    def forward(self, x):\n",
    "        x = self.lin(x)\n",
    "        x = F.relu(self.dropout(x))\n",
    "        x = self.lin2(x)\n",
    "        return x"
   ]
  },
  {
   "cell_type": "code",
   "execution_count": 4,
   "id": "8f045825",
   "metadata": {},
   "outputs": [],
   "source": [
    "def init_net(model):\n",
    "    with torch.no_grad():\n",
    "        model.lin.weight[0, 0] = 10\n",
    "        model.lin2.weight[0, 0] = -1"
   ]
  },
  {
   "cell_type": "code",
   "execution_count": 5,
   "id": "9275b732",
   "metadata": {},
   "outputs": [],
   "source": [
    "class Net2(nn.Module):\n",
    "    def __init__(self):\n",
    "        super(Net2, self).__init__()\n",
    "        self.lin = nn.Linear(4, 1)\n",
    "    def forward(self, x):\n",
    "        x = self.lin(x)\n",
    "        return x"
   ]
  },
  {
   "cell_type": "code",
   "execution_count": 6,
   "id": "65e6e119",
   "metadata": {},
   "outputs": [],
   "source": [
    "def init_net2(policy):\n",
    "    with torch.no_grad():\n",
    "        policy.lin.weight[0, 0] = -1\n",
    "        policy.lin.weight[0, 1] = 0\n",
    "        policy.lin.weight[0, 2] = 0\n",
    "        policy.lin.weight[0, 3] = 0\n",
    "        policy.lin.bias[0] = 0"
   ]
  },
  {
   "cell_type": "code",
   "execution_count": 17,
   "id": "2f8c8dfa",
   "metadata": {},
   "outputs": [],
   "source": [
    "def load_dir(path):\n",
    "    data = []\n",
    "    for filename in os.listdir(path):\n",
    "        name, ext = os.path.splitext(filename)\n",
    "        if ext != '.cnf':\n",
    "            continue\n",
    "        f = CNF.from_file(os.path.join(path, filename))\n",
    "        data.append(f)\n",
    "    return data"
   ]
  },
  {
   "cell_type": "code",
   "execution_count": 8,
   "id": "c267bc33",
   "metadata": {},
   "outputs": [],
   "source": [
    "class WalkSATLN:\n",
    "    def __init__(self, policy, max_tries, max_flips, p=0.5, discount=0.5):\n",
    "        self.policy = policy\n",
    "        self.max_tries = max_tries\n",
    "        self.max_flips = max_flips\n",
    "        self.p = p\n",
    "        self.discount = discount\n",
    "        self.flips_to_solution = []\n",
    "        self.backflips = []\n",
    "        self.unsat_clauses = []\n",
    "        self.age = []\n",
    "        self.last_10 = []\n",
    "        self.sol = []\n",
    "        \n",
    "    def compute_true_lit_count(self, clauses):\n",
    "        n_clauses = len(clauses)\n",
    "        true_lit_count = [0] * n_clauses\n",
    "        for index in range(n_clauses):\n",
    "            for literal in clauses[index]:\n",
    "                if self.sol[abs(literal)] == literal:\n",
    "                    true_lit_count[index] += 1\n",
    "        return true_lit_count\n",
    "    \n",
    "    def select_variable_reinforce(self, x):\n",
    "        logit = self.policy(x)\n",
    "        prob = F.softmax(logit, dim=0)\n",
    "        dist = Categorical(prob.view(-1))\n",
    "        v = dist.sample()\n",
    "        return v, dist.log_prob(v)\n",
    "    \n",
    "    def do_flip(self, literal, occur_list):\n",
    "        for i in occur_list[literal]:\n",
    "            self.true_lit_count[i] += 1\n",
    "        for i in occur_list[-literal]:\n",
    "            self.true_lit_count[i] -= 1\n",
    "        self.sol[abs(literal)] *= -1\n",
    "        \n",
    "    def stats_per_clause(self, f, unsat_clause):\n",
    "        \"\"\" computes the featutes needed for the model\n",
    "        \"\"\" \n",
    "        r = f.n_variables/ len(f.clauses)\n",
    "        variables = [abs(v) for v in unsat_clause]\n",
    "        breaks = np.zeros(len(variables))\n",
    "        last_5 = self.last_10[:5]\n",
    "        for i, literal in enumerate(unsat_clause):\n",
    "            broken_count = 0\n",
    "            for index in f.occur_list[-literal]:\n",
    "                if self.true_lit_count[index] == 1:\n",
    "                    broken_count += 1\n",
    "            breaks[i] = broken_count\n",
    "        in_last_10 = np.array([int(v in self.last_10) for v in variables]) \n",
    "        age = np.array([self.age[v] for v in variables])/(self.age[0] + 1)\n",
    "        in_last_5 = np.array([int(v in last_5) for v in variables]) \n",
    "        return np.stack([breaks, in_last_10, in_last_5, age], axis=1)\n",
    "    \n",
    "    def walksat_step(self, f, unsat_clause):\n",
    "        \"\"\"Returns chosen literal\"\"\"\n",
    "        broken_min = float('inf')\n",
    "        min_breaking_lits = []\n",
    "        for literal in unsat_clause:\n",
    "            broken_count = 0\n",
    "            for index in f.occur_list[-literal]:\n",
    "                if self.true_lit_count[index] == 1:\n",
    "                    broken_count += 1\n",
    "                if broken_count > broken_min:\n",
    "                    break\n",
    "            if broken_count < broken_min:\n",
    "                broken_min = broken_count\n",
    "                min_breaking_lits = [literal]\n",
    "            elif broken_count == broken_min:\n",
    "                min_breaking_lits.append(literal)\n",
    "        return abs(random.choice(min_breaking_lits))\n",
    "    \n",
    "    def reinforce_step(self, f, unsat_clause):\n",
    "        x = self.stats_per_clause(f, unsat_clause)\n",
    "        x = torch.from_numpy(x).float()\n",
    "        index, log_prob = self.select_variable_reinforce(x)\n",
    "        literal = unsat_clause[index]\n",
    "        return literal, log_prob\n",
    "    \n",
    "    def generate_episode_reinforce(self, f, walksat):\n",
    "        self.sol = [x if random.random() < 0.5 else -x for x in range(f.n_variables + 1)]\n",
    "        self.true_lit_count = self.compute_true_lit_count(f.clauses)\n",
    "        self.age = np.zeros(f.n_variables + 1)\n",
    "        log_probs = []\n",
    "        flips = 0\n",
    "        flipped = set()\n",
    "        backflipped = 0\n",
    "        while flips < max_flips:\n",
    "            unsat_clause_indices = [k for k in range(len(f.clauses)) if self.true_lit_count[k] == 0]\n",
    "            sat = not unsat_clause_indices\n",
    "            if sat:\n",
    "                break\n",
    "            unsat_clause = f.clauses[random.choice(unsat_clause_indices)]\n",
    "            log_prob = None\n",
    "            if random.random() < self.p:\n",
    "                literal = random.choice(unsat_clause)\n",
    "            else:\n",
    "                if walksat:\n",
    "                    literal = self.walksat_step(f, unsat_clause)   \n",
    "                else:\n",
    "                    literal, log_prob = self.reinforce_step(f, unsat_clause)\n",
    "                v = abs(literal)\n",
    "                if v not in flipped:\n",
    "                    flipped.add(v)\n",
    "                else:\n",
    "                    backflipped += 1\n",
    "                self.last_10.insert(0, v)\n",
    "                self.last_10 = self.last_10[:10]\n",
    "                self.age[v] = flips\n",
    "            self.do_flip(literal, f.occur_list)\n",
    "            flips += 1\n",
    "            self.age[0] = flips\n",
    "            log_probs.append(log_prob)\n",
    "        return sat, flips, backflipped, log_probs\n",
    "\n",
    "    def reinforce_loss(self, log_probs_list):\n",
    "        T = len(log_probs_list)\n",
    "        log_probs_filtered = []\n",
    "        mask = np.zeros(T, dtype=bool)\n",
    "        for i, x in enumerate(log_probs_list):\n",
    "            if x is not None:\n",
    "                log_probs_filtered.append(x)\n",
    "                mask[i] = 1\n",
    "\n",
    "        log_probs = torch.stack(log_probs_filtered)\n",
    "        p_rewards = self.discount ** torch.arange(T - 1, -1, -1, dtype=torch.float32, device=log_probs.device)\n",
    "        return -torch.mean(p_rewards[torch.from_numpy(mask).to(log_probs.device)] * log_probs)\n",
    "\n",
    "    def generate_episodes(self, f, walksat=False):\n",
    "        flips_stats = []\n",
    "        losses = []\n",
    "        backflips = []\n",
    "        num_sols = 0\n",
    "        for i in range(self.max_tries):\n",
    "            sat, flips, backflipped, log_probs = self.generate_episode_reinforce(f, walksat)\n",
    "            flips_stats.append(flips)\n",
    "            backflips.append(backflipped)\n",
    "            if sat and flips > 0 and not all(map(lambda x: x is None, log_probs)):\n",
    "                loss = self.reinforce_loss(log_probs)\n",
    "                losses.append(loss)\n",
    "            num_sols += sat    \n",
    "        if losses:\n",
    "            losses = torch.stack(losses).sum()  \n",
    "        return np.mean(flips), np.mean(backflips), losses, num_sols/self.max_tries\n",
    "    \n",
    "    \n",
    "    def evaluate(self, data, walksat=False):\n",
    "        mean_flips = []\n",
    "        mean_backflips = []\n",
    "        mean_losses = []\n",
    "        accuracy = []\n",
    "        self.policy.eval()\n",
    "        for f in data:\n",
    "            flips, backflips, losses, acc = self.generate_episodes(f, walksat)\n",
    "            mean_flips.append(flips)\n",
    "            mean_backflips.append(backflips)\n",
    "            if losses:\n",
    "                mean_losses.append(losses.item())\n",
    "            accuracy.append(acc)\n",
    "            mean_loss = None\n",
    "            if mean_losses:\n",
    "                mean_loss = np.mean(mean_losses)\n",
    "        print(np.mean(mean_flips), np.mean(mean_backflips), mean_loss, np.mean(accuracy))\n",
    "        \n",
    "    def train_epoch(self, optimizer, data):\n",
    "        losses = []\n",
    "        for f in data:\n",
    "            self.policy.train()\n",
    "            flips, backflips, loss, acc = self.generate_episodes(f)\n",
    "            if acc > 0:\n",
    "                optimizer.zero_grad()\n",
    "                loss.backward()\n",
    "                optimizer.step()\n",
    "                losses.append(loss.item())\n",
    "        print(np.mean(losses))"
   ]
  },
  {
   "cell_type": "code",
   "execution_count": 75,
   "id": "2ecb0763",
   "metadata": {},
   "outputs": [],
   "source": [
    "def change_lr(optimizer, lr):\n",
    "    for g in optimizer.param_groups:\n",
    "        g['lr'] = lr"
   ]
  },
  {
   "cell_type": "code",
   "execution_count": 76,
   "id": "29037f2a",
   "metadata": {},
   "outputs": [],
   "source": [
    "train_ds = load_dir(\"../data/rand3sat/10-43\")\n",
    "#val_ds = load_dir(\"../data/rand3sat/25-106\")"
   ]
  },
  {
   "cell_type": "code",
   "execution_count": 90,
   "id": "f5ae3603",
   "metadata": {},
   "outputs": [
    {
     "data": {
      "text/plain": [
       "(1900, 100)"
      ]
     },
     "execution_count": 90,
     "metadata": {},
     "output_type": "execute_result"
    }
   ],
   "source": [
    "train_ds = load_dir(\"../data/rand3sat/25-106\")\n",
    "#val_ds = load_dir(\"../data/rand3sat/25-106\")\n",
    "val_ds = train_ds[1900:]\n",
    "train_ds = train_ds[:1900]\n",
    "len(train_ds), len(val_ds)"
   ]
  },
  {
   "cell_type": "code",
   "execution_count": 108,
   "id": "d5c035a6",
   "metadata": {},
   "outputs": [],
   "source": [
    "policy = Net(10)\n",
    "optimizer = optim.RMSprop(policy.parameters(), lr=0.001, weight_decay=1e-5)\n",
    "max_tries = 10\n",
    "max_flips = 10000"
   ]
  },
  {
   "cell_type": "code",
   "execution_count": 13,
   "id": "018148f7",
   "metadata": {},
   "outputs": [],
   "source": [
    "#init_net(policy)"
   ]
  },
  {
   "cell_type": "code",
   "execution_count": 79,
   "id": "458dfece",
   "metadata": {},
   "outputs": [],
   "source": [
    "#train_ds = load_dir(\"../data/kcolor/4-15-0.5/\")\n",
    "#train_ds = load_dir(\"../data/kcolor/3-10-0.5/\")\n",
    "#val_ds = train_ds[1900:]\n",
    "#train_ds = train_ds[:1900]\n",
    "#len(train_ds), len(val_ds)"
   ]
  },
  {
   "cell_type": "code",
   "execution_count": 109,
   "id": "f7d91416",
   "metadata": {},
   "outputs": [
    {
     "data": {
      "text/plain": [
       "[Parameter containing:\n",
       " tensor([[-2.8843e-01, -4.1706e-02, -4.0902e-01, -4.0046e-01],\n",
       "         [ 4.1862e-01, -4.7143e-01,  3.7906e-01,  1.9453e-01],\n",
       "         [ 3.1812e-01,  4.3379e-01,  3.3929e-01, -4.5520e-04],\n",
       "         [-1.9672e-01, -3.4323e-03, -2.9250e-01,  7.8363e-02],\n",
       "         [ 2.8369e-01, -4.7228e-01,  8.2873e-02,  2.7496e-01],\n",
       "         [ 7.6970e-02,  1.3853e-01,  3.4963e-01,  1.0485e-01],\n",
       "         [ 4.4656e-01,  3.7772e-01,  5.1349e-02, -9.9553e-02],\n",
       "         [ 1.1407e-01,  1.6547e-01, -8.5185e-02, -2.9410e-01],\n",
       "         [-4.9991e-01,  1.9581e-01, -4.1957e-01, -3.1421e-01],\n",
       "         [-3.8264e-01,  2.7012e-01, -3.2084e-01,  3.0505e-02]],\n",
       "        requires_grad=True),\n",
       " Parameter containing:\n",
       " tensor([-0.2111, -0.4324, -0.4028, -0.4429,  0.2714, -0.3596,  0.4745,  0.3559,\n",
       "          0.2470, -0.3011], requires_grad=True),\n",
       " Parameter containing:\n",
       " tensor([[-0.0391,  0.2282,  0.2711, -0.2690, -0.1782,  0.0278, -0.1621,  0.0800,\n",
       "           0.1487,  0.2014]], requires_grad=True),\n",
       " Parameter containing:\n",
       " tensor([-0.0954], requires_grad=True)]"
      ]
     },
     "execution_count": 109,
     "metadata": {},
     "output_type": "execute_result"
    }
   ],
   "source": [
    "#init_net(policy)\n",
    "[p for p in policy.parameters()]"
   ]
  },
  {
   "cell_type": "code",
   "execution_count": 110,
   "id": "7be55233",
   "metadata": {},
   "outputs": [],
   "source": [
    "max_tries = 10\n",
    "max_flips = 10000"
   ]
  },
  {
   "cell_type": "code",
   "execution_count": 117,
   "id": "4cb07e47",
   "metadata": {},
   "outputs": [],
   "source": [
    "ls = WalkSATLN(policy, max_tries, max_flips, p=0.5, discount=.9)"
   ]
  },
  {
   "cell_type": "code",
   "execution_count": 118,
   "id": "230f7a31",
   "metadata": {},
   "outputs": [
    {
     "name": "stdout",
     "output_type": "stream",
     "text": [
      "70.6 20.613000000000003 None 1.0\n",
      "73.03 20.213 None 1.0\n",
      "75.92 20.04 None 1.0\n"
     ]
    }
   ],
   "source": [
    "for i in range(3):\n",
    "    ls.evaluate(val_ds, walksat=True)"
   ]
  },
  {
   "cell_type": "code",
   "execution_count": null,
   "id": "9e11874a",
   "metadata": {},
   "outputs": [
    {
     "name": "stdout",
     "output_type": "stream",
     "text": [
      "0.3091766284200314\n",
      "114.57 47.288999999999994 0.370013660043478 1.0\n",
      "0.31820133802456485\n",
      "137.13 53.012 0.3412149280309677 1.0\n",
      "0.2966167991147622\n",
      "140.01 60.03500000000001 0.35937279734760524 1.0\n",
      "0.3032011936183431\n",
      "130.09 53.571000000000005 0.3630289803445339 1.0\n",
      "0.2910972425689627\n",
      "131.36 55.27199999999999 0.3665674816071987 1.0\n",
      "0.2852937422898647\n",
      "135.94 52.823 0.36288382899947463 1.0\n",
      "0.28650957460956356\n",
      "122.65 55.926 0.3603705955483019 1.0\n",
      "0.29238330063214035\n",
      "135.41 58.82599999999999 0.32799783438444136 0.9990000000000001\n",
      "0.2740555283515469\n",
      "147.25 50.526 0.34662231797352433 1.0\n",
      "0.28442665591345806\n",
      "123.98 54.989000000000004 0.354642024487257 1.0\n",
      "0.27609858374601526\n",
      "147.89 54.144 0.36782012317329643 1.0\n",
      "0.26977943506582003\n",
      "128.12 50.58599999999999 0.3726365429349244 1.0\n",
      "0.2670270506738636\n",
      "139.62 54.981 0.35227100711315873 1.0\n"
     ]
    }
   ],
   "source": [
    "for j in range(15):\n",
    "    ls.train_epoch(optimizer, train_ds)\n",
    "    ls.evaluate(val_ds)"
   ]
  },
  {
   "cell_type": "code",
   "execution_count": null,
   "id": "4fb49824",
   "metadata": {},
   "outputs": [],
   "source": [
    "for i in range(3):\n",
    "    ls.evaluate(val_ds)"
   ]
  },
  {
   "cell_type": "code",
   "execution_count": null,
   "id": "812d4f9b",
   "metadata": {},
   "outputs": [],
   "source": [
    "for j in range(5):\n",
    "    ls.train_epoch(optimizer, train_ds)"
   ]
  },
  {
   "cell_type": "code",
   "execution_count": null,
   "id": "2c316327",
   "metadata": {},
   "outputs": [],
   "source": [
    "for i in range(3):\n",
    "    ls.evaluate(val_ds)"
   ]
  },
  {
   "cell_type": "code",
   "execution_count": 116,
   "id": "4dfbab81",
   "metadata": {},
   "outputs": [
    {
     "name": "stdout",
     "output_type": "stream",
     "text": [
      "109.29 50.015 0.18105776796117426 1.0\n",
      "123.68 57.725 0.1695455040037632 1.0\n",
      "146.51 57.57400000000001 0.1725869902037084 1.0\n"
     ]
    }
   ],
   "source": [
    "#.8\n",
    "for i in range(3):\n",
    "    ls.evaluate(val_ds)"
   ]
  },
  {
   "cell_type": "code",
   "execution_count": 107,
   "id": "610a6397",
   "metadata": {},
   "outputs": [
    {
     "name": "stdout",
     "output_type": "stream",
     "text": [
      "112.61 55.934000000000005 0.024347269870049787 1.0\n",
      "143.77 54.71800000000001 0.02459714886987058 1.0\n",
      "162.96 57.135 0.02394227594093536 1.0\n"
     ]
    }
   ],
   "source": [
    "# .25\n",
    "for i in range(3):\n",
    "    ls.evaluate(val_ds)"
   ]
  },
  {
   "cell_type": "code",
   "execution_count": 96,
   "id": "7b52e632",
   "metadata": {},
   "outputs": [
    {
     "name": "stdout",
     "output_type": "stream",
     "text": [
      "138.3 55.078999999999986 0.028947463862859877 1.0\n",
      "148.99 52.894000000000005 0.024711168918584006 1.0\n",
      "117.32 51.46400000000001 0.0268075664745993 1.0\n"
     ]
    }
   ],
   "source": [
    "# discount 0.4\n",
    "for i in range(3):\n",
    "    ls.evaluate(val_ds)"
   ]
  },
  {
   "cell_type": "code",
   "execution_count": 97,
   "id": "1cf6eae9",
   "metadata": {},
   "outputs": [
    {
     "name": "stdout",
     "output_type": "stream",
     "text": [
      "0.026004379572403098\n",
      "0.02347291780349463\n",
      "0.025463704187972516\n",
      "0.024239899521168187\n",
      "0.02653773764850341\n"
     ]
    }
   ],
   "source": [
    "for j in range(5):\n",
    "    ls.train_epoch(optimizer, train_ds)"
   ]
  },
  {
   "cell_type": "code",
   "execution_count": 98,
   "id": "2c85dda0",
   "metadata": {},
   "outputs": [
    {
     "name": "stdout",
     "output_type": "stream",
     "text": [
      "128.6 51.41 0.04875243358150328 1.0\n",
      "144.01 54.299 0.04005843963619554 1.0\n",
      "126.26 54.808000000000014 0.031751742220658345 1.0\n"
     ]
    }
   ],
   "source": [
    "for i in range(3):\n",
    "    ls.evaluate(val_ds)"
   ]
  },
  {
   "cell_type": "code",
   "execution_count": 88,
   "id": "bd1dee3c",
   "metadata": {},
   "outputs": [
    {
     "data": {
      "text/plain": [
       "[Parameter containing:\n",
       " tensor([[-2.3997, -0.3695, -0.0556, -1.4425],\n",
       "         [ 3.6482,  0.1932,  0.8497,  0.0839],\n",
       "         [ 3.3826, -0.1052,  1.6315, -0.2734],\n",
       "         [ 3.0301,  0.5785,  1.2932,  0.7446],\n",
       "         [ 3.3367,  0.3708,  1.7035,  0.0976]], requires_grad=True),\n",
       " Parameter containing:\n",
       " tensor([ 2.3543, -2.8193, -2.6967, -3.0457, -2.9206], requires_grad=True),\n",
       " Parameter containing:\n",
       " tensor([[ 3.8875, -4.8629, -4.4125, -5.0814, -5.0216]], requires_grad=True),\n",
       " Parameter containing:\n",
       " tensor([0.0033], requires_grad=True)]"
      ]
     },
     "execution_count": 88,
     "metadata": {},
     "output_type": "execute_result"
    }
   ],
   "source": [
    "[p for p in policy.parameters()]"
   ]
  },
  {
   "cell_type": "code",
   "execution_count": 57,
   "id": "766ffd42",
   "metadata": {},
   "outputs": [
    {
     "data": {
      "text/plain": [
       "(1800, 160)"
      ]
     },
     "execution_count": 57,
     "metadata": {},
     "output_type": "execute_result"
    }
   ],
   "source": [
    "#train_ds = load_dir(\"../data/rand3sat/25-106\")\n",
    "train_ds = load_dir(\"../data/kclique/3-5-0.2/\")\n",
    "val_ds = train_ds[1800:]\n",
    "train_ds = train_ds[:1800]\n",
    "len(train_ds), len(val_ds)"
   ]
  },
  {
   "cell_type": "code",
   "execution_count": 64,
   "id": "0519bcfc",
   "metadata": {},
   "outputs": [],
   "source": [
    "policy = Net()\n",
    "optimizer = optim.RMSprop(policy.parameters(), lr=0.001, weight_decay=0)\n",
    "#init_net2(policy)\n",
    "max_tries = 10\n",
    "max_flips = 10000"
   ]
  },
  {
   "cell_type": "code",
   "execution_count": 65,
   "id": "81ab39a7",
   "metadata": {},
   "outputs": [
    {
     "data": {
      "text/plain": [
       "[Parameter containing:\n",
       " tensor([[-0.4709, -0.4295, -0.1632,  0.1809],\n",
       "         [ 0.2581,  0.4259, -0.3950, -0.3905],\n",
       "         [-0.3567, -0.0589, -0.4169, -0.3181],\n",
       "         [-0.0271, -0.4185,  0.4220,  0.3886],\n",
       "         [ 0.4473, -0.2143, -0.3733, -0.0181]], requires_grad=True),\n",
       " Parameter containing:\n",
       " tensor([ 0.1345, -0.3361, -0.2100,  0.0532,  0.2223], requires_grad=True),\n",
       " Parameter containing:\n",
       " tensor([[-0.0039,  0.4246, -0.4139, -0.4040,  0.2209]], requires_grad=True),\n",
       " Parameter containing:\n",
       " tensor([-0.3221], requires_grad=True)]"
      ]
     },
     "execution_count": 65,
     "metadata": {},
     "output_type": "execute_result"
    }
   ],
   "source": [
    "[p for p in policy.parameters()]"
   ]
  },
  {
   "cell_type": "code",
   "execution_count": 66,
   "id": "ed014cb0",
   "metadata": {},
   "outputs": [],
   "source": [
    "ls = WalkSATLN(policy, max_tries, max_flips, p=0.5)"
   ]
  },
  {
   "cell_type": "code",
   "execution_count": 61,
   "id": "96ffa557",
   "metadata": {},
   "outputs": [
    {
     "name": "stdout",
     "output_type": "stream",
     "text": [
      "35.46875 10.08375 None 1.0\n",
      "34.3 10.196250000000001 None 1.0\n",
      "36.10625 10.094999999999999 None 1.0\n"
     ]
    }
   ],
   "source": [
    "for i in range(3):\n",
    "    ls.evaluate(val_ds, walksat=True)"
   ]
  },
  {
   "cell_type": "code",
   "execution_count": 67,
   "id": "6f25cd63",
   "metadata": {},
   "outputs": [
    {
     "name": "stdout",
     "output_type": "stream",
     "text": [
      "191.0625 78.3 0.4523022493813187 1.0\n",
      "199.725 80.59625 0.4411004173569381 1.0\n",
      "182.94375 78.62937500000001 0.4927808415144682 1.0\n"
     ]
    }
   ],
   "source": [
    "for i in range(3):\n",
    "    ls.evaluate(val_ds)"
   ]
  },
  {
   "cell_type": "code",
   "execution_count": 68,
   "id": "78aacaa6",
   "metadata": {},
   "outputs": [
    {
     "name": "stdout",
     "output_type": "stream",
     "text": [
      "0.4302416797582474\n",
      "45.4375 12.6175 0.34005261920392515 1.0\n",
      "0.24499379313292188\n",
      "40.825 11.126249999999999 0.29827029216103257 1.0\n",
      "0.2097663758788258\n",
      "35.71875 10.28875 0.29054862991906705 1.0\n",
      "0.21226228304828207\n",
      "38.05625 9.68 0.26661623902618886 1.0\n",
      "0.20121002536474003\n",
      "34.975 9.391875 0.24267770475707948 1.0\n",
      "0.19861296176392998\n",
      "36.31875 9.13875 0.23618312077596784 1.0\n",
      "0.1950332091645234\n",
      "36.51875 8.960625 0.2220528768375516 1.0\n",
      "0.19326598833522035\n",
      "33.96875 8.698125000000001 0.2086977020604536 1.0\n",
      "0.19179700914227094\n",
      "34.28125 8.068125 0.19989559159148484 1.0\n",
      "0.1934044715630201\n",
      "36.7375 8.42125 0.1954457562416792 1.0\n",
      "0.19226405694615095\n",
      "37.25 8.408750000000001 0.18346511863637716 1.0\n",
      "0.18701020144055494\n",
      "32.975 8.34375 0.18828705131309106 1.0\n",
      "0.18385154952450344\n",
      "36.275 8.055625000000001 0.1708696506684646 1.0\n",
      "0.1842433035528908\n",
      "34.3375 8.20625 0.15983921515289695 1.0\n",
      "0.18066280145430938\n",
      "33.84375 7.78125 0.14616115840617566 1.0\n"
     ]
    }
   ],
   "source": [
    "for j in range(15):\n",
    "    ls.train_epoch(optimizer, train_ds)\n",
    "    ls.evaluate(val_ds)"
   ]
  },
  {
   "cell_type": "code",
   "execution_count": 69,
   "id": "6c52b14b",
   "metadata": {},
   "outputs": [
    {
     "name": "stdout",
     "output_type": "stream",
     "text": [
      "0.1900133056889495\n",
      "28.26875 7.88125 0.1598966016783379 1.0\n",
      "0.18571612565622975\n",
      "35.28125 7.835625 0.1493968229740858 1.0\n",
      "0.18074108219783133\n",
      "32.84375 7.983125000000001 0.13599841308314353 1.0\n",
      "0.1765854917262267\n",
      "30.14375 7.8050000000000015 0.13796455648262054 1.0\n",
      "0.1810314372052542\n",
      "32.24375 7.433750000000001 0.1414280461729504 1.0\n",
      "0.1801449193000897\n",
      "34.96875 8.31625 0.13618679160717875 1.0\n",
      "0.18026766701497965\n",
      "32.49375 8.1125 0.13329387855483218 1.0\n",
      "0.16985321175384646\n",
      "34.0 7.7425000000000015 0.14587803810136393 1.0\n",
      "0.17907653575944196\n",
      "33.9125 7.766875000000001 0.11901606121100486 1.0\n",
      "0.17503390257945284\n",
      "33.125 7.799375 0.12751176658202895 1.0\n"
     ]
    }
   ],
   "source": [
    "for j in range(10):\n",
    "    ls.train_epoch(optimizer, train_ds)\n",
    "    ls.evaluate(val_ds)"
   ]
  },
  {
   "cell_type": "code",
   "execution_count": 70,
   "id": "f596595e",
   "metadata": {},
   "outputs": [
    {
     "name": "stdout",
     "output_type": "stream",
     "text": [
      "36.04375 7.583125000000001 0.12679847616236656 1.0\n",
      "31.39375 7.8125 0.12810946155805142 1.0\n",
      "35.2125 8.2875 0.1146646652603522 1.0\n"
     ]
    }
   ],
   "source": [
    "for i in range(3):\n",
    "    ls.evaluate(val_ds)"
   ]
  },
  {
   "cell_type": "code",
   "execution_count": 71,
   "id": "f2658161",
   "metadata": {},
   "outputs": [
    {
     "data": {
      "text/plain": [
       "[Parameter containing:\n",
       " tensor([[-2.4546, -0.5375, -0.4934, -0.9594],\n",
       "         [ 0.0429,  0.2279, -0.4182, -0.5133],\n",
       "         [-0.3567, -0.0589, -0.4169, -0.3181],\n",
       "         [ 2.0970,  0.3866,  0.7357,  0.1994],\n",
       "         [ 2.2783,  0.5436,  0.7418,  0.2649]], requires_grad=True),\n",
       " Parameter containing:\n",
       " tensor([ 2.4530, -0.5514, -0.2100, -1.3267, -1.5038], requires_grad=True),\n",
       " Parameter containing:\n",
       " tensor([[ 6.5825,  0.2712, -0.4139, -3.4072, -2.8941]], requires_grad=True),\n",
       " Parameter containing:\n",
       " tensor([0.0931], requires_grad=True)]"
      ]
     },
     "execution_count": 71,
     "metadata": {},
     "output_type": "execute_result"
    }
   ],
   "source": [
    "[p for p in policy.parameters()]"
   ]
  },
  {
   "cell_type": "code",
   "execution_count": 72,
   "id": "b80603f7",
   "metadata": {},
   "outputs": [],
   "source": [
    "change_lr(optimizer, lr=0.0001)"
   ]
  },
  {
   "cell_type": "code",
   "execution_count": 73,
   "id": "37b91c1d",
   "metadata": {},
   "outputs": [
    {
     "name": "stdout",
     "output_type": "stream",
     "text": [
      "0.17591446167090907\n",
      "32.45 7.956874999999999 0.1163583088782616 1.0\n",
      "0.17709127300496524\n",
      "34.25625 7.95875 0.14412777799880133 1.0\n",
      "0.17739224164876052\n",
      "32.79375 8.01625 0.13437118483707308 1.0\n",
      "0.17430420260048574\n",
      "32.46875 7.830625 0.12468807835830376 1.0\n",
      "0.17605081266775313\n",
      "35.6875 8.038749999999999 0.13829632542910986 1.0\n"
     ]
    }
   ],
   "source": [
    "for j in range(5):\n",
    "    ls.train_epoch(optimizer, train_ds)\n",
    "    ls.evaluate(val_ds)"
   ]
  },
  {
   "cell_type": "code",
   "execution_count": 74,
   "id": "2799e828",
   "metadata": {},
   "outputs": [
    {
     "name": "stdout",
     "output_type": "stream",
     "text": [
      "36.06875 7.825625 0.120837081305217 1.0\n",
      "30.125 7.878750000000001 0.133009365783073 1.0\n",
      "39.49375 8.409375 0.1410188393376302 1.0\n"
     ]
    }
   ],
   "source": [
    "for i in range(3):\n",
    "    ls.evaluate(val_ds)"
   ]
  },
  {
   "cell_type": "code",
   "execution_count": null,
   "id": "03ee4fac",
   "metadata": {},
   "outputs": [],
   "source": []
  }
 ],
 "metadata": {
  "kernelspec": {
   "display_name": "Python 3 (ipykernel)",
   "language": "python",
   "name": "python3"
  },
  "language_info": {
   "codemirror_mode": {
    "name": "ipython",
    "version": 3
   },
   "file_extension": ".py",
   "mimetype": "text/x-python",
   "name": "python",
   "nbconvert_exporter": "python",
   "pygments_lexer": "ipython3",
   "version": "3.8.13"
  }
 },
 "nbformat": 4,
 "nbformat_minor": 5
}
