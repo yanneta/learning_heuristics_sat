{
 "cells": [
  {
   "cell_type": "code",
   "execution_count": 1,
   "id": "4600d017",
   "metadata": {},
   "outputs": [],
   "source": [
    "import os\n",
    "from cnf import CNF\n",
    "import numpy as np"
   ]
  },
  {
   "cell_type": "code",
   "execution_count": 2,
   "id": "02c3202b",
   "metadata": {},
   "outputs": [],
   "source": [
    "import random\n",
    "import torch\n",
    "import torch.nn as nn\n",
    "import torch.nn.functional as F\n",
    "import torch.optim as optim\n",
    "from torch.distributions import Categorical"
   ]
  },
  {
   "cell_type": "code",
   "execution_count": 184,
   "id": "9317f3fc",
   "metadata": {},
   "outputs": [],
   "source": [
    "class Net(nn.Module):\n",
    "    def __init__(self, h=5):\n",
    "        super(Net, self).__init__()\n",
    "        self.lin = nn.Linear(3, h)\n",
    "        #self.lin.weight.data.uniform_(0,0.01)\n",
    "        #self.lin.bias.data.uniform_(0,0.001)\n",
    "        self.lin2 = nn.Linear(h, 1)\n",
    "    def forward(self, x):\n",
    "        x = self.lin(x)\n",
    "        x = F.relu(x)\n",
    "        x = self.lin2(x)\n",
    "        return x"
   ]
  },
  {
   "cell_type": "code",
   "execution_count": 4,
   "id": "2f8c8dfa",
   "metadata": {},
   "outputs": [],
   "source": [
    "def load_dir(path):\n",
    "    data = []\n",
    "    for filename in os.listdir(path):\n",
    "        name, ext = os.path.splitext(filename)\n",
    "        if ext != '.cnf':\n",
    "            continue\n",
    "        f = CNF.from_file(os.path.join(path, filename))\n",
    "        data.append(f)\n",
    "    return data"
   ]
  },
  {
   "cell_type": "code",
   "execution_count": 5,
   "id": "ae962f21",
   "metadata": {},
   "outputs": [],
   "source": [
    "def select_variable_reinforce(x, policy):\n",
    "    logit = policy(x)\n",
    "    prob = F.softmax(logit, dim=0)\n",
    "    dist = Categorical(prob.view(-1))\n",
    "    v = dist.sample()\n",
    "    return v, dist.log_prob(v)"
   ]
  },
  {
   "cell_type": "code",
   "execution_count": 6,
   "id": "aa233370",
   "metadata": {},
   "outputs": [],
   "source": [
    "def compute_true_lit_count(clauses, sol):\n",
    "    n_clauses = len(clauses)\n",
    "    true_lit_count = [0] * n_clauses\n",
    "    for i in range(n_clauses):\n",
    "        for lit in clauses[i]:\n",
    "            if sol[abs(lit)] == lit:\n",
    "                true_lit_count[i] += 1\n",
    "    return true_lit_count"
   ]
  },
  {
   "cell_type": "code",
   "execution_count": 7,
   "id": "d4c9ad0f",
   "metadata": {},
   "outputs": [],
   "source": [
    "def do_flip(sol, true_lit_count, v, occur_list):\n",
    "    sol[v] *= -1\n",
    "    literal = sol[v]\n",
    "    for i in occur_list[literal]:\n",
    "        true_lit_count[i] += 1\n",
    "    for i in occur_list[-literal]:\n",
    "        true_lit_count[i] -= 1"
   ]
  },
  {
   "cell_type": "code",
   "execution_count": 8,
   "id": "2d275a7b",
   "metadata": {},
   "outputs": [],
   "source": [
    "# this needs to be more efficient\n",
    "# consider a subset of the unsat clauses\n",
    "def stats_per_clause(f, sol, last_10, true_lit_count, unsat_clause):\n",
    "    \"\"\" computes the featutes needed for the model\n",
    "    \"\"\"\n",
    "    r = f.n_variables/ len(f.clauses)\n",
    "    variables = [abs(v) for v in unsat_clause]\n",
    "    breaks = np.zeros(len(variables))\n",
    "    last_5 = last_10[:5]\n",
    "    for i, v in enumerate(variables):\n",
    "        broken_count = 0\n",
    "        literal = sol[v]\n",
    "        for index in f.occur_list[-literal]:\n",
    "            if true_lit_count[index] == 1:\n",
    "                broken_count += 1\n",
    "        breaks[i] = r*broken_count\n",
    "    in_last_10 = np.array([int(i + 1 in last_10) for i in variables]) \n",
    "    in_last_5 = np.array([int(i + 1 in last_5) for i in variables]) \n",
    "    return np.stack([breaks, in_last_10, in_last_5], axis=1), np.array(variables)"
   ]
  },
  {
   "cell_type": "code",
   "execution_count": 32,
   "id": "b3264c2f",
   "metadata": {},
   "outputs": [],
   "source": [
    "def walksat_step(f, true_lit_count, unsat_clause):\n",
    "    broken_min = float('inf')\n",
    "    min_breaking_lits = []\n",
    "    for literal in unsat_clause:\n",
    "        broken_count = 0\n",
    "        for index in f.occur_list[-literal]:\n",
    "            if true_lit_count[index] == 1:\n",
    "                broken_count += 1\n",
    "            if broken_count > broken_min:\n",
    "                break\n",
    "            if broken_count < broken_min:\n",
    "                broken_min = broken_count\n",
    "                min_breaking_lits = [literal]\n",
    "            elif broken_count == broken_min:\n",
    "                min_breaking_lits.append(literal)\n",
    "    return abs(random.choice(min_breaking_lits))"
   ]
  },
  {
   "cell_type": "code",
   "execution_count": 42,
   "id": "5e0fd96b",
   "metadata": {},
   "outputs": [],
   "source": [
    "def reinforce_step(f, policy, sol, last_10, true_lit_count, unsat_clause):\n",
    "    x, variables = stats_per_clause(f, sol, last_10, true_lit_count, unsat_clause)\n",
    "    x = torch.from_numpy(x).float()\n",
    "    index, log_prob = select_variable_reinforce(x, policy)\n",
    "    v = variables[index]\n",
    "    return v.item(), log_prob, last_10"
   ]
  },
  {
   "cell_type": "code",
   "execution_count": 43,
   "id": "5c3b8b01",
   "metadata": {},
   "outputs": [],
   "source": [
    "def generate_episode_reinforce(f, policy, max_flips, walk_prob, walksat=False):\n",
    "    sol = [x if random.random() < 0.5 else -x for x in range(f.n_variables + 1)]\n",
    "    true_lit_count = compute_true_lit_count(f.clauses, sol)\n",
    "    log_probs = []\n",
    "    flips = 0\n",
    "    flipped = set()\n",
    "    backflipped = 0\n",
    "    unsat_clauses = []\n",
    "    last_10 = [0]*10\n",
    "    last_5 = []\n",
    "    while flips < max_flips:\n",
    "        unsat_clause_indices = [k for k in range(len(f.clauses)) if true_lit_count[k] == 0]\n",
    "        unsat_clauses.append(len(unsat_clause_indices))\n",
    "        sat = not unsat_clause_indices\n",
    "        if sat:\n",
    "            break\n",
    "        unsat_clause = f.clauses[random.choice(unsat_clause_indices)]\n",
    "        if random.random() < walk_prob:\n",
    "            v, log_prob = abs(random.choice(unsat_clause)), None\n",
    "        else:\n",
    "            if walksat:\n",
    "                v = walksat_step(f, true_lit_count, unsat_clause)\n",
    "                log_prob = None\n",
    "            else:\n",
    "                v, log_prob, last_10 = reinforce_step(f, policy, sol, last_10, true_lit_count, unsat_clause)\n",
    "            \n",
    "            if v not in flipped:\n",
    "                flipped.add(v)\n",
    "                last_10.insert(0, v)\n",
    "                last_10 = last_10[:10]\n",
    "            else:\n",
    "                backflipped += 1\n",
    "        do_flip(sol, true_lit_count, v, f.occur_list)\n",
    "        flips += 1\n",
    "        log_probs.append(log_prob)\n",
    "    return sat, (flips, backflipped, unsat_clauses), (log_probs,)"
   ]
  },
  {
   "cell_type": "code",
   "execution_count": 25,
   "id": "287bfc44",
   "metadata": {},
   "outputs": [],
   "source": [
    "def reinforce_loss(history, discount):\n",
    "    log_probs_list = history[0]\n",
    "    T = len(log_probs_list)\n",
    "    log_probs_filtered = []\n",
    "    mask = np.zeros(T, dtype=bool)\n",
    "    for i, x in enumerate(log_probs_list):\n",
    "        if x is not None:\n",
    "            log_probs_filtered.append(x)\n",
    "            mask[i] = 1\n",
    "\n",
    "    log_probs = torch.stack(log_probs_filtered)\n",
    "    partial_rewards = discount ** torch.arange(T - 1, -1, -1, dtype=torch.float32, device=log_probs.device)\n",
    "    return -torch.mean(partial_rewards[torch.from_numpy(mask).to(log_probs.device)] * log_probs)"
   ]
  },
  {
   "cell_type": "code",
   "execution_count": 40,
   "id": "8a6edb3a",
   "metadata": {},
   "outputs": [],
   "source": [
    "def generate_episodes(policy, f, max_fries, max_flips, discount, walk_prob, walksat):\n",
    "    flips_stats = []\n",
    "    losses = []\n",
    "    backflips = []\n",
    "    num_sols = 0\n",
    "    for i in range(max_tries):\n",
    "        out = generate_episode_reinforce(f, policy, max_flips, walk_prob, walksat)\n",
    "        sat, (flips, backflipped, unsat_clauses), history = out\n",
    "    \n",
    "        flips_stats.append(flips)\n",
    "        backflips.append(backflipped)\n",
    "        if sat and flips > 0 and not all(map(lambda x: x is None, history[0])):\n",
    "            loss = reinforce_loss(history, discount)\n",
    "            losses.append(loss)\n",
    "        num_sols += sat    \n",
    "    if losses:\n",
    "        losses = torch.stack(losses).sum()  \n",
    "    return np.mean(flips), np.mean(backflips), losses, num_sols/max_tries"
   ]
  },
  {
   "cell_type": "code",
   "execution_count": 57,
   "id": "a17e70bf",
   "metadata": {},
   "outputs": [],
   "source": [
    "def evaluate(policy, data, max_tries, max_flips, discount, walk_prob=.5, walksat=False):\n",
    "    mean_flips = []\n",
    "    mean_backflips = []\n",
    "    mean_losses = []\n",
    "    accuracy = []\n",
    "    policy.eval()\n",
    "    for f in data:\n",
    "        flips, backflips, losses, acc = generate_episodes(policy, f, max_tries, max_flips, discount,\n",
    "                                                          walk_prob, walksat)\n",
    "        mean_flips.append(flips)\n",
    "        mean_backflips.append(backflips)\n",
    "        if losses:\n",
    "            mean_losses.append(losses.item())\n",
    "        accuracy.append(acc)\n",
    "        mean_loss = None\n",
    "        if mean_losses:\n",
    "            mean_loss = np.mean(mean_losses)\n",
    "    print(np.mean(mean_flips), np.mean(mean_backflips), mean_loss, np.mean(accuracy))"
   ]
  },
  {
   "cell_type": "code",
   "execution_count": 56,
   "id": "8f9169d0",
   "metadata": {},
   "outputs": [],
   "source": [
    "mean_losses = []\n",
    "if mean_losses:\n",
    "    print(True)"
   ]
  },
  {
   "cell_type": "code",
   "execution_count": 46,
   "id": "73d7b078",
   "metadata": {},
   "outputs": [],
   "source": [
    "def train_epoch(policy, optimizer, data, max_tries = 10, max_flips = 10000, discount = 0.5, walk_prob=.5):\n",
    "    losses = []\n",
    "    for f in data:\n",
    "        policy.train()\n",
    "        flips, backflips, loss, acc = generate_episodes(\n",
    "            policy, f, max_tries, max_flips, discount, walk_prob, False)\n",
    "        if acc > 0:\n",
    "            optimizer.zero_grad()\n",
    "            loss.backward()\n",
    "            optimizer.step()\n",
    "            losses.append(loss.item())\n",
    "    print(np.mean(losses))"
   ]
  },
  {
   "cell_type": "code",
   "execution_count": 29,
   "id": "2ecb0763",
   "metadata": {},
   "outputs": [],
   "source": [
    "def change_lr(optimizer, lr):\n",
    "    for g in optimizer.param_groups:\n",
    "        g['lr'] = lr"
   ]
  },
  {
   "cell_type": "code",
   "execution_count": 95,
   "id": "29037f2a",
   "metadata": {},
   "outputs": [],
   "source": [
    "train_ds = load_dir(\"../data/rand3sat/10-43\")\n",
    "#val_ds = load_dir(\"../data/rand3sat/25-106\")"
   ]
  },
  {
   "cell_type": "code",
   "execution_count": 155,
   "id": "f5ae3603",
   "metadata": {},
   "outputs": [
    {
     "data": {
      "text/plain": [
       "(1900, 100)"
      ]
     },
     "execution_count": 155,
     "metadata": {},
     "output_type": "execute_result"
    }
   ],
   "source": [
    "train_ds = load_dir(\"../data/rand3sat/25-106\")\n",
    "#val_ds = load_dir(\"../data/rand3sat/25-106\")\n",
    "val_ds = train_ds[1900:]\n",
    "train_ds = train_ds[:1900]\n",
    "len(train_ds), len(val_ds)"
   ]
  },
  {
   "cell_type": "code",
   "execution_count": 185,
   "id": "d5c035a6",
   "metadata": {},
   "outputs": [],
   "source": [
    "policy = Net(h=10)\n",
    "optimizer = optim.RMSprop(policy.parameters(), lr=0.01, weight_decay=1e-5)\n",
    "max_tries = 10\n",
    "max_flips = 10000"
   ]
  },
  {
   "cell_type": "code",
   "execution_count": 186,
   "id": "fa6f00e9",
   "metadata": {},
   "outputs": [
    {
     "name": "stdout",
     "output_type": "stream",
     "text": [
      "445.11 187.17899999999997 None 0.9990000000000001\n",
      "418.66 180.21599999999995 None 1.0\n",
      "482.02 179.59 None 1.0\n"
     ]
    }
   ],
   "source": [
    "for i in range(3):\n",
    "    evaluate(policy, val_ds , max_tries, max_flips, 0.5, 0.5, walksat=True)"
   ]
  },
  {
   "cell_type": "code",
   "execution_count": null,
   "id": "ac1e77ac",
   "metadata": {},
   "outputs": [],
   "source": [
    "train_epoch(policy, optimizer, train_ds[:1000], walk_prob=.5)"
   ]
  },
  {
   "cell_type": "code",
   "execution_count": 160,
   "id": "325b1eba",
   "metadata": {},
   "outputs": [
    {
     "name": "stdout",
     "output_type": "stream",
     "text": [
      "0.15922583890100941\n"
     ]
    }
   ],
   "source": [
    "# this is old\n",
    "train_epoch(policy, optimizer, train_ds[:1000], walk_prob=.5)"
   ]
  },
  {
   "cell_type": "code",
   "execution_count": null,
   "id": "ad383189",
   "metadata": {},
   "outputs": [],
   "source": [
    "for i in range(3):\n",
    "    evaluate(policy, val_ds , max_tries, max_flips, 0.5, 0.5)"
   ]
  },
  {
   "cell_type": "code",
   "execution_count": 162,
   "id": "6ee230c0",
   "metadata": {},
   "outputs": [
    {
     "name": "stdout",
     "output_type": "stream",
     "text": [
      "0.15637464732345607\n"
     ]
    }
   ],
   "source": [
    "train_epoch(policy, optimizer, train_ds[1000:19000], walk_prob=.5)"
   ]
  },
  {
   "cell_type": "code",
   "execution_count": 163,
   "id": "6165f128",
   "metadata": {},
   "outputs": [
    {
     "name": "stdout",
     "output_type": "stream",
     "text": [
      "869.41 403.2699999999999 0.151531353876926 0.9969999999999999\n",
      "848.05 415.268 0.15788671686314046 0.993\n",
      "717.56 382.342 0.157049910267815 0.9940000000000001\n"
     ]
    }
   ],
   "source": [
    "for i in range(3):\n",
    "    evaluate(policy, val_ds , max_tries, max_flips, 0.5, 0.5)"
   ]
  },
  {
   "cell_type": "code",
   "execution_count": 164,
   "id": "94254fa7",
   "metadata": {},
   "outputs": [],
   "source": [
    "change_lr(optimizer, 0.001)"
   ]
  },
  {
   "cell_type": "code",
   "execution_count": 165,
   "id": "8bbe102b",
   "metadata": {},
   "outputs": [
    {
     "name": "stdout",
     "output_type": "stream",
     "text": [
      "0.15107456147880294\n"
     ]
    }
   ],
   "source": [
    "train_epoch(policy, optimizer, train_ds[:1000], walk_prob=.5)"
   ]
  },
  {
   "cell_type": "code",
   "execution_count": 166,
   "id": "3b05ccdf",
   "metadata": {},
   "outputs": [
    {
     "name": "stdout",
     "output_type": "stream",
     "text": [
      "861.64 393.195 0.16378629960119725 0.996\n",
      "873.49 374.065 0.14964713517576456 0.995\n",
      "832.02 378.163 0.16430504124611617 0.9969999999999999\n"
     ]
    }
   ],
   "source": [
    "for i in range(3):\n",
    "    evaluate(policy, val_ds , max_tries, max_flips, 0.5, 0.5)"
   ]
  },
  {
   "cell_type": "code",
   "execution_count": 167,
   "id": "971328af",
   "metadata": {},
   "outputs": [
    {
     "name": "stdout",
     "output_type": "stream",
     "text": [
      "0.16016710352566507\n"
     ]
    }
   ],
   "source": [
    "train_epoch(policy, optimizer, train_ds[1000:19000])"
   ]
  },
  {
   "cell_type": "code",
   "execution_count": 168,
   "id": "75492201",
   "metadata": {},
   "outputs": [
    {
     "name": "stdout",
     "output_type": "stream",
     "text": [
      "951.89 398.6030000000001 0.1411107956338674 0.99\n",
      "703.77 397.0199999999999 0.14821282254531978 0.995\n",
      "772.65 389.138 0.13893511860165744 0.996\n"
     ]
    }
   ],
   "source": [
    "for i in range(3):\n",
    "    evaluate(policy, val_ds, max_tries, max_flips, 0.5, 0.5)"
   ]
  },
  {
   "cell_type": "code",
   "execution_count": 169,
   "id": "fa294652",
   "metadata": {},
   "outputs": [
    {
     "name": "stdout",
     "output_type": "stream",
     "text": [
      "0.15675873104389756\n"
     ]
    }
   ],
   "source": [
    "train_epoch(policy, optimizer, train_ds[:1000])"
   ]
  },
  {
   "cell_type": "code",
   "execution_count": 170,
   "id": "a695e801",
   "metadata": {},
   "outputs": [
    {
     "name": "stdout",
     "output_type": "stream",
     "text": [
      "719.37 384.3540000000001 0.1605460020666942 0.9940000000000001\n",
      "639.63 394.7660000000001 0.18049253313802183 0.9919999999999999\n",
      "758.54 389.92600000000004 0.1717829753877595 0.9940000000000001\n"
     ]
    }
   ],
   "source": [
    "for i in range(3):\n",
    "    evaluate(policy, val_ds, max_tries, max_flips, 0.5, 0.5)"
   ]
  },
  {
   "cell_type": "code",
   "execution_count": 171,
   "id": "4cea5b17",
   "metadata": {},
   "outputs": [
    {
     "name": "stdout",
     "output_type": "stream",
     "text": [
      "0.1620051857996732\n"
     ]
    }
   ],
   "source": [
    "train_epoch(policy, optimizer, train_ds[:1000], walk_prob=.5)"
   ]
  },
  {
   "cell_type": "code",
   "execution_count": 172,
   "id": "b5a45a21",
   "metadata": {},
   "outputs": [
    {
     "name": "stdout",
     "output_type": "stream",
     "text": [
      "843.64 373.1000000000001 0.1694360166718252 0.996\n",
      "662.63 389.443 0.1678937450866215 0.992\n",
      "1051.82 425.6410000000001 0.14378401993075385 0.988\n"
     ]
    }
   ],
   "source": [
    "for i in range(3):\n",
    "    evaluate(policy, val_ds, max_tries, max_flips, 0.5, 0.5)"
   ]
  },
  {
   "cell_type": "code",
   "execution_count": 173,
   "id": "3959a22d",
   "metadata": {},
   "outputs": [
    {
     "name": "stdout",
     "output_type": "stream",
     "text": [
      "0.15798000554812866\n"
     ]
    }
   ],
   "source": [
    "train_epoch(policy, optimizer, train_ds[1000:1900], walk_prob=.5)"
   ]
  },
  {
   "cell_type": "code",
   "execution_count": 174,
   "id": "9a43f2da",
   "metadata": {},
   "outputs": [
    {
     "name": "stdout",
     "output_type": "stream",
     "text": [
      "781.03 394.702 0.12954339002724738 0.9890000000000001\n",
      "967.63 377.03100000000006 0.17004246404860168 0.9939999999999999\n",
      "683.5 377.32599999999996 0.16464639690238983 0.99\n"
     ]
    }
   ],
   "source": [
    "for i in range(3):\n",
    "    evaluate(policy, val_ds, max_tries, max_flips, 0.5, 0.5)"
   ]
  },
  {
   "cell_type": "code",
   "execution_count": 175,
   "id": "c183abef",
   "metadata": {},
   "outputs": [
    {
     "name": "stdout",
     "output_type": "stream",
     "text": [
      "0.155600578377489\n"
     ]
    }
   ],
   "source": [
    "train_epoch(policy, optimizer, train_ds[500:1500], walk_prob=.5)"
   ]
  },
  {
   "cell_type": "code",
   "execution_count": 176,
   "id": "3397fedc",
   "metadata": {},
   "outputs": [
    {
     "name": "stdout",
     "output_type": "stream",
     "text": [
      "680.27 403.6 0.1574638346210122 0.995\n",
      "873.41 386.48600000000005 0.1633128352602944 0.9940000000000001\n",
      "793.25 401.07300000000004 0.17766096994280814 0.9939999999999999\n"
     ]
    }
   ],
   "source": [
    "for i in range(3):\n",
    "    evaluate(policy, val_ds, max_tries, max_flips, 0.5, 0.5)"
   ]
  },
  {
   "cell_type": "code",
   "execution_count": 177,
   "id": "7c6cbe4a",
   "metadata": {},
   "outputs": [
    {
     "name": "stdout",
     "output_type": "stream",
     "text": [
      "0.16137498652585783\n"
     ]
    }
   ],
   "source": [
    "train_epoch(policy, optimizer, train_ds[500:1500], walk_prob=.5)"
   ]
  },
  {
   "cell_type": "code",
   "execution_count": 178,
   "id": "e769ddfc",
   "metadata": {},
   "outputs": [
    {
     "name": "stdout",
     "output_type": "stream",
     "text": [
      "586.88 357.41600000000005 0.1631914810091257 0.995\n",
      "719.2 414.005 0.15400963881518692 0.987\n",
      "901.22 382.50200000000007 0.1647008233424276 0.993\n"
     ]
    }
   ],
   "source": [
    "for i in range(3):\n",
    "    evaluate(policy, val_ds, max_tries, max_flips, 0.5, 0.5)"
   ]
  },
  {
   "cell_type": "markdown",
   "id": "2ad4970f",
   "metadata": {},
   "source": [
    "## Using a model train on the smaller dataset"
   ]
  },
  {
   "cell_type": "code",
   "execution_count": 107,
   "id": "1635e6d0",
   "metadata": {},
   "outputs": [
    {
     "data": {
      "text/plain": [
       "(1900, 100)"
      ]
     },
     "execution_count": 107,
     "metadata": {},
     "output_type": "execute_result"
    }
   ],
   "source": [
    "train_ds = load_dir(\"../data/rand3sat/25-106\")\n",
    "val_ds = train_ds[1900:]\n",
    "train_ds = train_ds[:1900]\n",
    "len(train_ds), len(val_ds)"
   ]
  },
  {
   "cell_type": "code",
   "execution_count": 108,
   "id": "6edac85e",
   "metadata": {},
   "outputs": [
    {
     "name": "stdout",
     "output_type": "stream",
     "text": [
      "416.73 194.42499999999995 None 1.0\n",
      "343.34 175.79300000000003 None 1.0\n",
      "382.89 179.39299999999994 None 1.0\n"
     ]
    }
   ],
   "source": [
    "for i in range(3):\n",
    "    evaluate(policy, val_ds , max_tries, max_flips, 0.5, 0.5, walksat=True)"
   ]
  },
  {
   "cell_type": "code",
   "execution_count": 109,
   "id": "2eeec3c8",
   "metadata": {},
   "outputs": [
    {
     "name": "stdout",
     "output_type": "stream",
     "text": [
      "980.46 490.61100000000005 0.12019802499125945 0.964\n",
      "1073.29 492.02 0.13488227373803965 0.96\n",
      "1213.91 546.9559999999999 0.12811717163567665 0.955\n"
     ]
    }
   ],
   "source": [
    "for i in range(3):\n",
    "    evaluate(policy, val_ds , max_tries, max_flips, 0.5, 0.5)"
   ]
  },
  {
   "cell_type": "code",
   "execution_count": 110,
   "id": "cbdfba1f",
   "metadata": {},
   "outputs": [
    {
     "name": "stdout",
     "output_type": "stream",
     "text": [
      "0.13988973849065317\n"
     ]
    }
   ],
   "source": [
    "train_epoch(policy, optimizer, train_ds[:1000], walk_prob=.5, discount=0.5)"
   ]
  },
  {
   "cell_type": "code",
   "execution_count": 111,
   "id": "81bd7673",
   "metadata": {},
   "outputs": [
    {
     "name": "stdout",
     "output_type": "stream",
     "text": [
      "1041.16 411.69200000000006 0.15662544228835032 0.98\n",
      "784.59 425.652 0.15783004622673616 0.9769999999999999\n",
      "717.45 431.52600000000007 0.16076064602937548 0.975\n"
     ]
    }
   ],
   "source": [
    "for i in range(3):\n",
    "    evaluate(policy, val_ds , max_tries, max_flips, 0.5, 0.5)"
   ]
  },
  {
   "cell_type": "code",
   "execution_count": 112,
   "id": "cf05dc15",
   "metadata": {},
   "outputs": [
    {
     "name": "stdout",
     "output_type": "stream",
     "text": [
      "0.17063769628500772\n"
     ]
    }
   ],
   "source": [
    "train_epoch(policy, optimizer, train_ds[1000:1900], walk_prob=.5, discount=0.5)"
   ]
  },
  {
   "cell_type": "code",
   "execution_count": 113,
   "id": "63312a51",
   "metadata": {},
   "outputs": [
    {
     "name": "stdout",
     "output_type": "stream",
     "text": [
      "697.78 386.7660000000001 0.17932638720609248 0.987\n",
      "957.21 396.1840000000001 0.16634278478100895 0.991\n",
      "971.07 411.4370000000001 0.17387648035306483 0.992\n"
     ]
    }
   ],
   "source": [
    "for i in range(3):\n",
    "    evaluate(policy, val_ds , max_tries, max_flips, 0.5, 0.5)"
   ]
  },
  {
   "cell_type": "code",
   "execution_count": 114,
   "id": "77c2edcf",
   "metadata": {},
   "outputs": [
    {
     "name": "stdout",
     "output_type": "stream",
     "text": [
      "0.15878655840922146\n"
     ]
    }
   ],
   "source": [
    "train_epoch(policy, optimizer, train_ds[500:1500], walk_prob=.5, discount=0.5)"
   ]
  },
  {
   "cell_type": "code",
   "execution_count": 115,
   "id": "21d9e113",
   "metadata": {},
   "outputs": [
    {
     "name": "stdout",
     "output_type": "stream",
     "text": [
      "883.59 379.3310000000001 0.16394700217992067 0.995\n",
      "884.46 417.501 0.16850176389794796 0.992\n",
      "744.65 392.30799999999994 0.1524734530900605 0.993\n"
     ]
    }
   ],
   "source": [
    "for i in range(3):\n",
    "    evaluate(policy, val_ds , max_tries, max_flips, 0.5, 0.5)"
   ]
  },
  {
   "cell_type": "code",
   "execution_count": 116,
   "id": "06864c9f",
   "metadata": {},
   "outputs": [
    {
     "data": {
      "text/plain": [
       "(1900, 100)"
      ]
     },
     "execution_count": 116,
     "metadata": {},
     "output_type": "execute_result"
    }
   ],
   "source": [
    "train_ds = load_dir(\"../data/kcolor/4-15-0.5/\")\n",
    "val_ds = train_ds[1900:]\n",
    "train_ds = train_ds[:1900]\n",
    "len(train_ds), len(val_ds)"
   ]
  },
  {
   "cell_type": "code",
   "execution_count": 117,
   "id": "514dc3e9",
   "metadata": {},
   "outputs": [],
   "source": [
    "policy = Net()\n",
    "optimizer = optim.RMSprop(policy.parameters(), lr=0.001, weight_decay=1e-5)\n",
    "max_tries = 10\n",
    "max_flips = 10000"
   ]
  },
  {
   "cell_type": "code",
   "execution_count": 118,
   "id": "511594f7",
   "metadata": {},
   "outputs": [
    {
     "name": "stdout",
     "output_type": "stream",
     "text": [
      "1336.9 749.6160000000001 None 0.983\n",
      "1463.93 722.4960000000001 None 0.986\n",
      "1901.37 799.176 None 0.982\n"
     ]
    }
   ],
   "source": [
    "for i in range(3):\n",
    "    evaluate(policy, val_ds , max_tries, max_flips, discount=0.5, walk_prob=.5, walksat=True)"
   ]
  },
  {
   "cell_type": "code",
   "execution_count": 119,
   "id": "3369e808",
   "metadata": {},
   "outputs": [
    {
     "name": "stdout",
     "output_type": "stream",
     "text": [
      "0.03242877619287174\n"
     ]
    }
   ],
   "source": [
    "train_epoch(policy, optimizer, train_ds[:1000], walk_prob=.5, discount=0.5)"
   ]
  },
  {
   "cell_type": "code",
   "execution_count": 120,
   "id": "51245913",
   "metadata": {},
   "outputs": [
    {
     "name": "stdout",
     "output_type": "stream",
     "text": [
      "3408.94 1671.2410000000004 0.03272874584421515 0.883\n",
      "2947.71 1495.197 0.03670568984933197 0.9129999999999999\n",
      "3356.58 1580.612 0.031729125855490564 0.897\n"
     ]
    }
   ],
   "source": [
    "for i in range(3):\n",
    "    evaluate(policy, val_ds , max_tries, max_flips, discount=0.5, walk_prob=.5)"
   ]
  },
  {
   "cell_type": "code",
   "execution_count": 121,
   "id": "9e56d7a7",
   "metadata": {},
   "outputs": [
    {
     "name": "stdout",
     "output_type": "stream",
     "text": [
      "0.036617499960120765\n"
     ]
    }
   ],
   "source": [
    "train_epoch(policy, optimizer, train_ds[1000:1900], walk_prob=.5, discount = 0.5)"
   ]
  },
  {
   "cell_type": "code",
   "execution_count": 122,
   "id": "ef2bd2b5",
   "metadata": {},
   "outputs": [
    {
     "name": "stdout",
     "output_type": "stream",
     "text": [
      "2661.37 1253.543 0.04447664735023864 0.9390000000000001\n",
      "2536.92 1276.642 0.046337029247079047 0.93\n",
      "3263.22 1243.623 0.04456117057823576 0.939\n"
     ]
    }
   ],
   "source": [
    "for i in range(3):\n",
    "    evaluate(policy, val_ds , max_tries, max_flips, discount=0.5, walk_prob=.5)"
   ]
  },
  {
   "cell_type": "code",
   "execution_count": 123,
   "id": "ddcab6f1",
   "metadata": {},
   "outputs": [
    {
     "name": "stdout",
     "output_type": "stream",
     "text": [
      "0.04779403054586146\n"
     ]
    }
   ],
   "source": [
    "train_epoch(policy, optimizer, train_ds[:1000], walk_prob=.5, discount=0.5)"
   ]
  },
  {
   "cell_type": "code",
   "execution_count": 124,
   "id": "89b1dd58",
   "metadata": {},
   "outputs": [
    {
     "name": "stdout",
     "output_type": "stream",
     "text": [
      "1620.53 765.1440000000001 0.058775811828672885 0.985\n",
      "1684.17 768.3710000000001 0.05517783605493605 0.98\n",
      "1812.28 791.8889999999999 0.05703072253614664 0.981\n"
     ]
    }
   ],
   "source": [
    "for i in range(3):\n",
    "    evaluate(policy, val_ds , max_tries, max_flips, discount=0.5, walk_prob=.5)"
   ]
  },
  {
   "cell_type": "code",
   "execution_count": 125,
   "id": "ca714fcf",
   "metadata": {},
   "outputs": [
    {
     "name": "stdout",
     "output_type": "stream",
     "text": [
      "0.05916170927230269\n"
     ]
    }
   ],
   "source": [
    "train_epoch(policy, optimizer, train_ds[500:1500], walk_prob=.5, discount=0.5)"
   ]
  },
  {
   "cell_type": "code",
   "execution_count": 126,
   "id": "ca4638e7",
   "metadata": {},
   "outputs": [
    {
     "name": "stdout",
     "output_type": "stream",
     "text": [
      "1045.23 499.50100000000003 0.06391769652254879 1.0\n",
      "1290.13 564.948 0.06700162066146731 0.996\n",
      "962.88 527.331 0.06789143403060734 0.998\n"
     ]
    }
   ],
   "source": [
    "for i in range(3):\n",
    "    evaluate(policy, val_ds , max_tries, max_flips, discount=0.5, walk_prob=.5)"
   ]
  },
  {
   "cell_type": "code",
   "execution_count": 127,
   "id": "2bb64b3b",
   "metadata": {},
   "outputs": [
    {
     "name": "stdout",
     "output_type": "stream",
     "text": [
      "0.06636926405038684\n"
     ]
    }
   ],
   "source": [
    "train_epoch(policy, optimizer, train_ds[:500], walk_prob=.5, discount=0.5)"
   ]
  },
  {
   "cell_type": "code",
   "execution_count": 128,
   "id": "8f019ab2",
   "metadata": {},
   "outputs": [
    {
     "name": "stdout",
     "output_type": "stream",
     "text": [
      "1116.17 506.40399999999994 0.06637105594854802 0.997\n",
      "1554.8 523.349 0.07122086943127215 0.995\n",
      "1101.52 471.147 0.06678609466180205 0.998\n"
     ]
    }
   ],
   "source": [
    "for i in range(3):\n",
    "    evaluate(policy, val_ds , max_tries, max_flips, discount=0.5, walk_prob=.5)"
   ]
  },
  {
   "cell_type": "code",
   "execution_count": 129,
   "id": "7af881a6",
   "metadata": {},
   "outputs": [
    {
     "name": "stdout",
     "output_type": "stream",
     "text": [
      "0.06597169480565936\n"
     ]
    }
   ],
   "source": [
    "train_epoch(policy, optimizer, train_ds[900:1900], walk_prob=.5, discount=0.5)"
   ]
  },
  {
   "cell_type": "code",
   "execution_count": 130,
   "id": "22bcc118",
   "metadata": {},
   "outputs": [
    {
     "name": "stdout",
     "output_type": "stream",
     "text": [
      "1072.57 452.00800000000004 0.06657401758246123 0.9990000000000001\n",
      "856.1 417.89 0.07686279580928385 0.9990000000000001\n",
      "1035.32 430.24700000000007 0.07512179552577436 0.998\n"
     ]
    }
   ],
   "source": [
    "for i in range(3):\n",
    "    evaluate(policy, val_ds , max_tries, max_flips, discount=0.5, walk_prob=.5)"
   ]
  },
  {
   "cell_type": "code",
   "execution_count": 132,
   "id": "e8febe86",
   "metadata": {},
   "outputs": [
    {
     "name": "stdout",
     "output_type": "stream",
     "text": [
      "0.07190380474086851\n"
     ]
    }
   ],
   "source": [
    "train_epoch(policy, optimizer, train_ds[:1000], walk_prob=.5, discount=0.5)"
   ]
  },
  {
   "cell_type": "code",
   "execution_count": 133,
   "id": "d9513173",
   "metadata": {},
   "outputs": [
    {
     "name": "stdout",
     "output_type": "stream",
     "text": [
      "919.97 393.606 0.0699298278708011 0.9990000000000001\n",
      "1114.82 418.51700000000005 0.07240340700373053 0.9990000000000001\n",
      "1052.15 434.9 0.06658170715905726 0.9990000000000001\n"
     ]
    }
   ],
   "source": [
    "for i in range(3):\n",
    "    evaluate(policy, val_ds , max_tries, max_flips, discount=0.5, walk_prob=.5)"
   ]
  },
  {
   "cell_type": "code",
   "execution_count": 134,
   "id": "0553f523",
   "metadata": {},
   "outputs": [],
   "source": [
    "change_lr(optimizer, 0.0001)"
   ]
  },
  {
   "cell_type": "code",
   "execution_count": 135,
   "id": "ebbe0458",
   "metadata": {},
   "outputs": [
    {
     "name": "stdout",
     "output_type": "stream",
     "text": [
      "0.06914114368450829\n"
     ]
    }
   ],
   "source": [
    "train_epoch(policy, optimizer, train_ds[900:1900], walk_prob=.5, discount=0.5)"
   ]
  },
  {
   "cell_type": "code",
   "execution_count": 136,
   "id": "60035740",
   "metadata": {},
   "outputs": [
    {
     "name": "stdout",
     "output_type": "stream",
     "text": [
      "1174.81 439.64599999999996 0.06793487512040883 0.9990000000000001\n",
      "922.37 409.96899999999994 0.07614302545785905 0.9990000000000001\n",
      "1128.09 420.574 0.08216650203801691 1.0\n"
     ]
    }
   ],
   "source": [
    "for i in range(3):\n",
    "    evaluate(policy, val_ds , max_tries, max_flips, discount=0.5, walk_prob=.5)"
   ]
  },
  {
   "cell_type": "code",
   "execution_count": 84,
   "id": "f86292ae",
   "metadata": {},
   "outputs": [
    {
     "data": {
      "text/plain": [
       "(1900, 100)"
      ]
     },
     "execution_count": 84,
     "metadata": {},
     "output_type": "execute_result"
    }
   ],
   "source": [
    "train_ds = load_dir(\"../data/kcolor/3-10-0.5/\")\n",
    "val_ds = train_ds[1900:]\n",
    "train_ds = train_ds[:1900]\n",
    "len(train_ds), len(val_ds)"
   ]
  },
  {
   "cell_type": "code",
   "execution_count": 85,
   "id": "5e097467",
   "metadata": {},
   "outputs": [],
   "source": [
    "policy = Net()\n",
    "optimizer = optim.RMSprop(policy.parameters(), lr=0.001, weight_decay=1e-5)\n",
    "max_tries = 10\n",
    "max_flips = 10000"
   ]
  },
  {
   "cell_type": "code",
   "execution_count": 86,
   "id": "230f7a31",
   "metadata": {},
   "outputs": [
    {
     "name": "stdout",
     "output_type": "stream",
     "text": [
      "121.54 53.349999999999994 None 1.0\n",
      "136.97 54.977 None 1.0\n",
      "155.14 54.88500000000001 None 1.0\n"
     ]
    }
   ],
   "source": [
    "for i in range(3):\n",
    "    evaluate(policy, val_ds , max_tries, max_flips, discount=0.5, walk_prob=.5, walksat=True)"
   ]
  },
  {
   "cell_type": "code",
   "execution_count": 87,
   "id": "a21eb27f",
   "metadata": {},
   "outputs": [
    {
     "name": "stdout",
     "output_type": "stream",
     "text": [
      "0.23722988438606263\n"
     ]
    }
   ],
   "source": [
    "train_epoch(policy, optimizer, train_ds[:1000], walk_prob=.5, discount=0.5)"
   ]
  },
  {
   "cell_type": "code",
   "execution_count": 88,
   "id": "12ee40d0",
   "metadata": {},
   "outputs": [
    {
     "name": "stdout",
     "output_type": "stream",
     "text": [
      "193.22 76.306 0.23265512000769376 1.0\n",
      "209.12 74.878 0.262177706733346 1.0\n",
      "201.46 74.525 0.24403006821870804 1.0\n"
     ]
    }
   ],
   "source": [
    "for i in range(3):\n",
    "    evaluate(policy, val_ds, max_tries, max_flips, discount=0.5, walk_prob=.5)"
   ]
  },
  {
   "cell_type": "code",
   "execution_count": 89,
   "id": "76944d04",
   "metadata": {},
   "outputs": [
    {
     "name": "stdout",
     "output_type": "stream",
     "text": [
      "0.24774086069129408\n"
     ]
    }
   ],
   "source": [
    "train_epoch(policy, optimizer, train_ds[500:1500], walk_prob=.5, discount = 0.5)"
   ]
  },
  {
   "cell_type": "code",
   "execution_count": 90,
   "id": "b1e456aa",
   "metadata": {},
   "outputs": [
    {
     "name": "stdout",
     "output_type": "stream",
     "text": [
      "152.72 57.14699999999998 0.26695315714925527 1.0\n",
      "161.81 52.11600000000001 0.28142453625798225 1.0\n",
      "158.83 52.914000000000016 0.273628425039351 1.0\n"
     ]
    }
   ],
   "source": [
    "for i in range(3):\n",
    "    evaluate(policy, val_ds, max_tries, max_flips, discount=0.5, walk_prob=.5)"
   ]
  },
  {
   "cell_type": "code",
   "execution_count": 91,
   "id": "9b31e654",
   "metadata": {},
   "outputs": [
    {
     "name": "stdout",
     "output_type": "stream",
     "text": [
      "0.27094397219642996\n"
     ]
    }
   ],
   "source": [
    "train_epoch(policy, optimizer, train_ds[500:1500], walk_prob=.5, discount = 0.5)"
   ]
  },
  {
   "cell_type": "code",
   "execution_count": 92,
   "id": "75dbc14a",
   "metadata": {},
   "outputs": [
    {
     "name": "stdout",
     "output_type": "stream",
     "text": [
      "105.26 37.832 0.27669035162776706 1.0\n",
      "119.64 40.663 0.29247995145618916 1.0\n",
      "100.49 37.184 0.28421006713062524 1.0\n"
     ]
    }
   ],
   "source": [
    "for i in range(3):\n",
    "    evaluate(policy, val_ds, max_tries, max_flips, discount=0.5, walk_prob=.5)"
   ]
  },
  {
   "cell_type": "code",
   "execution_count": 93,
   "id": "8dc61c0f",
   "metadata": {},
   "outputs": [
    {
     "name": "stdout",
     "output_type": "stream",
     "text": [
      "0.2762653423872377\n"
     ]
    }
   ],
   "source": [
    "train_epoch(policy, optimizer, train_ds[500:1900], walk_prob=.5, discount = 0.5)"
   ]
  },
  {
   "cell_type": "code",
   "execution_count": 94,
   "id": "89fb25eb",
   "metadata": {},
   "outputs": [
    {
     "name": "stdout",
     "output_type": "stream",
     "text": [
      "102.92 32.092999999999996 0.2857779210805893 1.0\n",
      "104.05 34.479 0.26322814900428054 1.0\n",
      "109.89 34.550999999999995 0.276728473380208 1.0\n"
     ]
    }
   ],
   "source": [
    "for i in range(3):\n",
    "    evaluate(policy, val_ds, max_tries, max_flips, discount=0.5, walk_prob=.5)"
   ]
  },
  {
   "cell_type": "code",
   "execution_count": null,
   "id": "c4ddeffe",
   "metadata": {},
   "outputs": [],
   "source": []
  }
 ],
 "metadata": {
  "kernelspec": {
   "display_name": "Python 3 (ipykernel)",
   "language": "python",
   "name": "python3"
  },
  "language_info": {
   "codemirror_mode": {
    "name": "ipython",
    "version": 3
   },
   "file_extension": ".py",
   "mimetype": "text/x-python",
   "name": "python",
   "nbconvert_exporter": "python",
   "pygments_lexer": "ipython3",
   "version": "3.8.13"
  }
 },
 "nbformat": 4,
 "nbformat_minor": 5
}
